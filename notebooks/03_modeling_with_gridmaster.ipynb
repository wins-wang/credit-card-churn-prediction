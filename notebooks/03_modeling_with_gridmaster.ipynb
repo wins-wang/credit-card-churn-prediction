{
 "cells": [
  {
   "cell_type": "markdown",
   "id": "cfbf5f7a",
   "metadata": {},
   "source": [
    "# GridMaster: Multi-Model Grid Search for Credit Card Churn Prediction\n",
    "\n",
    "<font size = 4>This notebook continues the credit card churn prediction project and serves as a showcase for **GridMaster**, a mature Python package I developed. GridMaster enables multi-model, multi-stage grid search, hyperparameter optimization, and comparative analysis, making it a powerful tool for machine learning workflows.\n",
    "\n",
    "<font size = 4>We will demonstrate how GridMaster automates the model development process, efficiently compares classifiers, and delivers actionable insights."
   ]
  },
  {
   "cell_type": "markdown",
   "id": "12b86a96",
   "metadata": {},
   "source": [
    "## 💡 What is GridMaster?"
   ]
  },
  {
   "cell_type": "markdown",
   "id": "ab9ed456",
   "metadata": {},
   "source": [
    "**GridMaster** is a mature, custom-developed Python package I designed and built to extend and generalize the functionality of standard tools like **GridSearchCV**.\n",
    "\n",
    "While GridSearchCV from scikit-learn focuses on automated grid search over hyperparameter spaces for a **single model**, **GridMaster** was created to address several practical challenges often encountered in real-world machine learning projects:\n",
    "\n",
    "- **Multi-model coordination**: Compare and tune multiple classifiers in parallel.\n",
    "- **Coarse-to-fine hyperparameter tuning**: Search efficiently across wide and narrow parameter ranges.\n",
    "- **Configurable scoring metrics**: Flexibly prioritize metrics like F1, Accuracy, ROC-AUC, or Recall.\n",
    "- **Unified result reporting**: Generate comparative tables summarizing best models, parameters, and scores.\n",
    "- **Visual outputs**: Produce parameter-performance plots and feature importance visualizations for deeper insights.\n",
    "\n",
    "The package has undergone several rounds of version iteration and visual design improvements, making it a **stable, production-ready tool**.\n",
    "\n",
    "For new users, GridMaster offers **default settings that enable a fully functional multi-model grid search with as few as three lines of code**, making it easy to get started even without deep customization.\n",
    "\n",
    "Under the hood, GridMaster implements an **intelligent coarse-to-fine search strategy** that balances broad exploration with fine-grained tuning, achieving efficient and robust optimization across models.\n",
    "\n",
    "### **📖 [GridMaster User Manual](https://gridmaster.readthedocs.io/en/main/)**\n",
    "### You can also skip data prep and basline and [Jump Straight to Usage](./03_modeling_with_gridmaster.ipynb#3.3-Model-Development)."
   ]
  },
  {
   "cell_type": "markdown",
   "id": "09b69017",
   "metadata": {},
   "source": [
    "## Table of Contents\n",
    "\n",
    "- [3.1 Data Preparation for Modeling](./03_modeling_with_gridmaster.ipynb#3.1-Data-Preparation-for-Modeling)\n",
    "- [3.2 Baseline Model](./03_modeling_with_gridmaster.ipynb#3.2-Baseline-Model)\n",
    "- [3.3 Model Development](./03_modeling_with_gridmaster.ipynb#3.3-Model-Development)\n",
    "    - [3.3.1 Quickstart for New Users (3 Lines to Get Results)](./03_modeling_with_gridmaster.ipynb#3.3.1-Quickstart-for-New-Users-(3-Lines-to-Get-Results))  \n",
    "    - [3.3.2 Advanced Class Setup with Expanded Controls](./03_modeling_with_gridmaster.ipynb#3.3.2--Advanced-Class-Setup-with-Expanded-Controls)\n"
   ]
  },
  {
   "cell_type": "code",
   "execution_count": 31,
   "id": "0e17323e",
   "metadata": {},
   "outputs": [],
   "source": [
    "from gridmaster import GridMaster"
   ]
  },
  {
   "cell_type": "code",
   "execution_count": 2,
   "id": "e5a474d5",
   "metadata": {},
   "outputs": [
    {
     "name": "stdout",
     "output_type": "stream",
     "text": [
      "Python 3.9.7, Pandas 2.2.3, sklearn1.6.1\n"
     ]
    }
   ],
   "source": [
    "from sklearn import naive_bayes\n",
    "from sklearn.metrics import ConfusionMatrixDisplay, classification_report\n",
    "from sklearn.metrics import accuracy_score, recall_score, precision_score, f1_score\n",
    "import matplotlib.pyplot as plt\n",
    "from sklearn.model_selection import cross_validate\n",
    "from sklearn.linear_model import LogisticRegression\n",
    "from sklearn.feature_selection import SelectFromModel , RFE\n",
    "from sklearn.metrics import accuracy_score\n",
    "from sklearn.naive_bayes import ComplementNB\n",
    "\n",
    "import pandas as pd\n",
    "import sklearn\n",
    "from sklearn.model_selection import train_test_split\n",
    "from platform import python_version\n",
    "import warnings\n",
    "warnings.filterwarnings('ignore')\n",
    "pd.set_option('display.precision',2)\n",
    "print(f'Python {python_version()}, Pandas {pd.__version__}, sklearn{sklearn.__version__}')"
   ]
  },
  {
   "cell_type": "markdown",
   "id": "e3656b8d",
   "metadata": {},
   "source": [
    "## 3.1 Data Preparation for Modeling"
   ]
  },
  {
   "cell_type": "markdown",
   "id": "cf8480ac",
   "metadata": {},
   "source": [
    "<font size=3.5>The cleaned and preprocessed dataset used here has been prepared in previous stages of the project, including:\n",
    "\n",
    "<font size=3.5> - [01_data_cleaning.ipynb](./01_data_cleaning.ipynb): Data ingestion, initial exploration, cleaning, and feature engineering.\n",
    "    \n",
    "<font size=3.5> - [02_analysis.ipynb](./02_analysis.ipynb): Exploratory data analysis (EDA), including churn distribution, feature correlations, and key insights.\n",
    "\n",
    "<font size=3.5>These notebooks provide full details on how the raw credit card churn dataset was transformed into a modeling-ready format; please check on those notebooks as you need.\n",
    "\n",
    "<font size=3.5>In this notebook, we directly load the cleaned dataset (`X_train`, `y_train`, `X_test`, `y_test`) and proceed with baseline modeling and advanced multi-model optimization using GridMaster.\n",
    "\n",
    "### Read Train data and Test data from CSV"
   ]
  },
  {
   "cell_type": "code",
   "execution_count": 4,
   "id": "8c08c261",
   "metadata": {},
   "outputs": [],
   "source": [
    "df_train = pd.read_csv('../data/bank_churners_train.csv', index_col=0)\n",
    "X_train = df_train.iloc[:,:-1]\n",
    "y_train = df_train.iloc[:,-1]\n",
    "\n",
    "df_test = pd.read_csv('../data/bank_churners_test.csv', index_col=0)\n",
    "X_test = df_test.iloc[:,:-1]\n",
    "y_test = df_test.iloc[:,-1]"
   ]
  },
  {
   "cell_type": "markdown",
   "id": "cc9fcd3d",
   "metadata": {},
   "source": [
    "### Check Training set to make sure the right dataset was imported"
   ]
  },
  {
   "cell_type": "code",
   "execution_count": 5,
   "id": "2cb6288b",
   "metadata": {},
   "outputs": [
    {
     "name": "stdout",
     "output_type": "stream",
     "text": [
      "X and y shapes:\n",
      "(8101, 19) (8101,) \n",
      "\n",
      "Target Ratio:\n",
      "Attrited_Customer\n",
      "False    0.84\n",
      "True     0.16\n",
      "Name: proportion, dtype: float64 \n",
      "\n",
      "<class 'pandas.core.frame.DataFrame'>\n",
      "Index: 8101 entries, 6364 to 412\n",
      "Data columns (total 20 columns):\n",
      " #   Column                    Non-Null Count  Dtype  \n",
      "---  ------                    --------------  -----  \n",
      " 0   Customer_Age              8101 non-null   int64  \n",
      " 1   Gender                    8101 non-null   object \n",
      " 2   Dependent_count           8101 non-null   int64  \n",
      " 3   Education_Level           8101 non-null   object \n",
      " 4   Marital_Status            8101 non-null   object \n",
      " 5   Income_Category           8101 non-null   object \n",
      " 6   Card_Category             8101 non-null   object \n",
      " 7   Months_on_book            8101 non-null   int64  \n",
      " 8   Total_Relationship_Count  8101 non-null   int64  \n",
      " 9   Months_Inactive_12_mon    8101 non-null   int64  \n",
      " 10  Contacts_Count_12_mon     8101 non-null   int64  \n",
      " 11  Credit_Limit              8101 non-null   float64\n",
      " 12  Total_Revolving_Bal       8101 non-null   int64  \n",
      " 13  Avg_Open_To_Buy           8101 non-null   float64\n",
      " 14  Total_Amt_Chng_Q4_Q1      8101 non-null   float64\n",
      " 15  Total_Trans_Amt           8101 non-null   int64  \n",
      " 16  Total_Trans_Ct            8101 non-null   int64  \n",
      " 17  Total_Ct_Chng_Q4_Q1       8101 non-null   float64\n",
      " 18  Avg_Utilization_Ratio     8101 non-null   float64\n",
      " 19  Attrited_Customer         8101 non-null   bool   \n",
      "dtypes: bool(1), float64(5), int64(9), object(5)\n",
      "memory usage: 1.2+ MB\n"
     ]
    }
   ],
   "source": [
    "print('X and y shapes:')\n",
    "print(X_train.shape,y_train.shape,'\\n')\n",
    "print('Target Ratio:')\n",
    "print(y_train.value_counts(normalize=True, dropna=False),'\\n')\n",
    "df_train.info()"
   ]
  },
  {
   "cell_type": "markdown",
   "id": "e016486d",
   "metadata": {},
   "source": [
    "### Check Testing set "
   ]
  },
  {
   "cell_type": "code",
   "execution_count": 6,
   "id": "8c88a34c",
   "metadata": {},
   "outputs": [
    {
     "name": "stdout",
     "output_type": "stream",
     "text": [
      "X and y shapes:\n",
      "(2026, 19) (2026,) \n",
      "\n",
      "Target Ratio:\n",
      "Attrited_Customer\n",
      "False    0.84\n",
      "True     0.16\n",
      "Name: proportion, dtype: float64 \n",
      "\n",
      "<class 'pandas.core.frame.DataFrame'>\n",
      "Index: 2026 entries, 5864 to 9700\n",
      "Data columns (total 20 columns):\n",
      " #   Column                    Non-Null Count  Dtype  \n",
      "---  ------                    --------------  -----  \n",
      " 0   Customer_Age              2026 non-null   int64  \n",
      " 1   Gender                    2026 non-null   object \n",
      " 2   Dependent_count           2026 non-null   int64  \n",
      " 3   Education_Level           2026 non-null   object \n",
      " 4   Marital_Status            2026 non-null   object \n",
      " 5   Income_Category           2026 non-null   object \n",
      " 6   Card_Category             2026 non-null   object \n",
      " 7   Months_on_book            2026 non-null   int64  \n",
      " 8   Total_Relationship_Count  2026 non-null   int64  \n",
      " 9   Months_Inactive_12_mon    2026 non-null   int64  \n",
      " 10  Contacts_Count_12_mon     2026 non-null   int64  \n",
      " 11  Credit_Limit              2026 non-null   float64\n",
      " 12  Total_Revolving_Bal       2026 non-null   int64  \n",
      " 13  Avg_Open_To_Buy           2026 non-null   float64\n",
      " 14  Total_Amt_Chng_Q4_Q1      2026 non-null   float64\n",
      " 15  Total_Trans_Amt           2026 non-null   int64  \n",
      " 16  Total_Trans_Ct            2026 non-null   int64  \n",
      " 17  Total_Ct_Chng_Q4_Q1       2026 non-null   float64\n",
      " 18  Avg_Utilization_Ratio     2026 non-null   float64\n",
      " 19  Attrited_Customer         2026 non-null   bool   \n",
      "dtypes: bool(1), float64(5), int64(9), object(5)\n",
      "memory usage: 318.5+ KB\n"
     ]
    }
   ],
   "source": [
    "print('X and y shapes:')\n",
    "print(X_test.shape,y_test.shape,'\\n')\n",
    "print('Target Ratio:')\n",
    "print(y_test.value_counts(normalize=True, dropna=False),'\\n')\n",
    "df_test.info()"
   ]
  },
  {
   "cell_type": "markdown",
   "id": "c0a53804",
   "metadata": {},
   "source": [
    "**We have imported correct datasets.**\n",
    "### Then we need to convert categorical features into one-hot coding "
   ]
  },
  {
   "cell_type": "markdown",
   "id": "b76881ee",
   "metadata": {},
   "source": [
    "### Apply one-hot encoding (create dummies) to X_train and X_test"
   ]
  },
  {
   "cell_type": "code",
   "execution_count": 7,
   "id": "d58e32c0",
   "metadata": {},
   "outputs": [],
   "source": [
    "X_train = pd.get_dummies(X_train, drop_first=True, dtype=int)\n",
    "X_test = pd.get_dummies(X_test, drop_first=True, dtype=int)"
   ]
  },
  {
   "cell_type": "markdown",
   "id": "a5dfa092",
   "metadata": {},
   "source": [
    "### Then, align the columns between X_train and X_test to ensure identical feature structure"
   ]
  },
  {
   "cell_type": "markdown",
   "id": "76e6ca53",
   "metadata": {},
   "source": [
    "<font size = 3>**Note:**  Categorical features are **one-hot encoded** with `drop_first=True` to **avoid multicollinearity** in logistic regression. Although tree-based models do not require this, we apply the same preprocessing across all models for **consistency**."
   ]
  },
  {
   "cell_type": "code",
   "execution_count": 8,
   "id": "cf13b124",
   "metadata": {},
   "outputs": [],
   "source": [
    "X_train, X_test = X_train.align(X_test, join='left', axis=1, fill_value=0)"
   ]
  },
  {
   "cell_type": "markdown",
   "id": "783abfc8",
   "metadata": {},
   "source": [
    "<font size = 3>**Note:** \n",
    "In the previous notebook, we focused on data analysis, so feature encoding (creating dummies) was not performed at that stage. Since this notebook is dedicated to modeling, we are now applying one-hot encoding to the features.\n",
    "\n",
    "<font size = 3>Typically, the **standard practice** is to **apply pd.get_dummies() before splitting** the dataset into training and testing sets,to ensure consistency between X_train and X_test. "
   ]
  },
  {
   "cell_type": "code",
   "execution_count": 9,
   "id": "caf3bd65",
   "metadata": {},
   "outputs": [
    {
     "name": "stdout",
     "output_type": "stream",
     "text": [
      "<class 'pandas.core.frame.DataFrame'>\n",
      "Index: 8101 entries, 6364 to 412\n",
      "Data columns (total 32 columns):\n",
      " #   Column                          Non-Null Count  Dtype  \n",
      "---  ------                          --------------  -----  \n",
      " 0   Customer_Age                    8101 non-null   int64  \n",
      " 1   Dependent_count                 8101 non-null   int64  \n",
      " 2   Months_on_book                  8101 non-null   int64  \n",
      " 3   Total_Relationship_Count        8101 non-null   int64  \n",
      " 4   Months_Inactive_12_mon          8101 non-null   int64  \n",
      " 5   Contacts_Count_12_mon           8101 non-null   int64  \n",
      " 6   Credit_Limit                    8101 non-null   float64\n",
      " 7   Total_Revolving_Bal             8101 non-null   int64  \n",
      " 8   Avg_Open_To_Buy                 8101 non-null   float64\n",
      " 9   Total_Amt_Chng_Q4_Q1            8101 non-null   float64\n",
      " 10  Total_Trans_Amt                 8101 non-null   int64  \n",
      " 11  Total_Trans_Ct                  8101 non-null   int64  \n",
      " 12  Total_Ct_Chng_Q4_Q1             8101 non-null   float64\n",
      " 13  Avg_Utilization_Ratio           8101 non-null   float64\n",
      " 14  Gender_M                        8101 non-null   int64  \n",
      " 15  Education_Level_Doctorate       8101 non-null   int64  \n",
      " 16  Education_Level_Graduate        8101 non-null   int64  \n",
      " 17  Education_Level_High School     8101 non-null   int64  \n",
      " 18  Education_Level_Post-Graduate   8101 non-null   int64  \n",
      " 19  Education_Level_Uneducated      8101 non-null   int64  \n",
      " 20  Education_Level_Unknown         8101 non-null   int64  \n",
      " 21  Marital_Status_Married          8101 non-null   int64  \n",
      " 22  Marital_Status_Single           8101 non-null   int64  \n",
      " 23  Marital_Status_Unknown          8101 non-null   int64  \n",
      " 24  Income_Category_$40K - $60K     8101 non-null   int64  \n",
      " 25  Income_Category_$60K - $80K     8101 non-null   int64  \n",
      " 26  Income_Category_$80K - $120K    8101 non-null   int64  \n",
      " 27  Income_Category_Less than $40K  8101 non-null   int64  \n",
      " 28  Income_Category_Unknown         8101 non-null   int64  \n",
      " 29  Card_Category_Gold              8101 non-null   int64  \n",
      " 30  Card_Category_Platinum          8101 non-null   int64  \n",
      " 31  Card_Category_Silver            8101 non-null   int64  \n",
      "dtypes: float64(5), int64(27)\n",
      "memory usage: 2.0 MB\n"
     ]
    }
   ],
   "source": [
    "X_train.info()"
   ]
  },
  {
   "cell_type": "markdown",
   "id": "2a399ad2",
   "metadata": {},
   "source": [
    "## 3.2 Baseline Model"
   ]
  },
  {
   "cell_type": "markdown",
   "id": "3ee8afd6",
   "metadata": {},
   "source": [
    "### Build up a logistic model as baseline model"
   ]
  },
  {
   "cell_type": "code",
   "execution_count": 10,
   "id": "d39e3d93",
   "metadata": {},
   "outputs": [
    {
     "name": "stdout",
     "output_type": "stream",
     "text": [
      "Coefficient of model : [[ 3.59326614e-03  1.30445337e-01 -9.88864604e-03 -3.61712808e-01\n",
      "   5.41931345e-01  5.27812636e-01 -2.68042058e-04 -5.32289918e-04\n",
      "   2.64253742e-04 -4.48521077e-01  5.20967930e-04 -1.24973833e-01\n",
      "  -2.48616918e+00 -9.22958646e-02 -6.39761516e-01  2.97156521e-01\n",
      "  -3.15621875e-02  1.79178879e-02  1.83328163e-01  8.69377186e-02\n",
      "   1.26066565e-01 -1.46694052e-01  4.18562807e-01  2.81913019e-01\n",
      "  -3.84742073e-01 -4.99099787e-01 -1.45099067e-01 -1.86191311e-01\n",
      "  -3.84917764e-01  7.29691984e-01  1.62733709e-01  3.26835507e-01]]\n",
      "\n",
      "Intercept of model [6.60182899]\n"
     ]
    }
   ],
   "source": [
    "lr = LogisticRegression(solver='liblinear',class_weight = 'balanced')\n",
    "lr.fit(X_train,y_train)\n",
    "\n",
    "# print coefficient\n",
    "print('Coefficient of model :', lr.coef_)\n",
    "# print intercept of the model\n",
    "print('\\nIntercept of model', lr.intercept_)"
   ]
  },
  {
   "cell_type": "markdown",
   "id": "c899c7eb",
   "metadata": {},
   "source": [
    "### Calculate accuracy on training data"
   ]
  },
  {
   "cell_type": "code",
   "execution_count": 11,
   "id": "da556212",
   "metadata": {},
   "outputs": [
    {
     "name": "stdout",
     "output_type": "stream",
     "text": [
      "\n",
      "Accuracy score on train dataset :  0.8492778669300086\n"
     ]
    }
   ],
   "source": [
    "y_pred = lr.predict(X_train)\n",
    "accuracy_train = accuracy_score(y_train,y_pred)\n",
    "print('\\nAccuracy score on train dataset : ', accuracy_train)"
   ]
  },
  {
   "cell_type": "markdown",
   "id": "86bab9c3",
   "metadata": {},
   "source": [
    "### Calculate accuracy on testing data"
   ]
  },
  {
   "cell_type": "code",
   "execution_count": 12,
   "id": "a629dfdf",
   "metadata": {},
   "outputs": [
    {
     "name": "stdout",
     "output_type": "stream",
     "text": [
      "\n",
      "Accuracy score on test dataset :  0.843040473840079\n"
     ]
    }
   ],
   "source": [
    "y_pred = lr.predict(X_test)\n",
    "accuracy_test = accuracy_score(y_test,y_pred)\n",
    "print('\\nAccuracy score on test dataset : ', accuracy_test)"
   ]
  },
  {
   "cell_type": "code",
   "execution_count": 13,
   "id": "800a5230",
   "metadata": {},
   "outputs": [
    {
     "data": {
      "text/plain": [
       "Text(0.5, 1.0, 'Confusion Matrix - Logistic Regression')"
      ]
     },
     "execution_count": 13,
     "metadata": {},
     "output_type": "execute_result"
    },
    {
     "data": {
      "image/png": "[encoded data removed]",
      "text/plain": [
       "<Figure size 432x288 with 1 Axes>"
      ]
     },
     "metadata": {
      "needs_background": "light"
     },
     "output_type": "display_data"
    }
   ],
   "source": [
    "ConfusionMatrixDisplay.from_estimator(lr, X_test, y_test, cmap='Blues', colorbar=False )\n",
    "plt.title('Confusion Matrix - Logistic Regression')"
   ]
  },
  {
   "cell_type": "markdown",
   "id": "f91d6fa1",
   "metadata": {},
   "source": [
    "**Observation:**\n",
    "The baseline logistic regression model achieves reasonably balanced performance, correctly identifying 280 attrited customers while misclassifying 45 of them as existing customers. It also misclassifies 273 existing customers as attrited. The false negative rate (45 out of 325 actual attrited customers) is relatively low, which is important in churn prediction, where failing to identify a churn risk is typically more costly than a false alarm. The confusion matrix suggests that the model is moderately effective in distinguishing churned from non-churned customers, with room for improvement in precision and specificity."
   ]
  },
  {
   "cell_type": "code",
   "execution_count": 14,
   "id": "dd66f207",
   "metadata": {},
   "outputs": [
    {
     "name": "stdout",
     "output_type": "stream",
     "text": [
      "Accuracy: 84.30%\n",
      "Recall (Churn): 86.15%\n",
      "Precision (Churn): 50.63%\n",
      "F1 Score: 63.78%\n"
     ]
    }
   ],
   "source": [
    "print(\"Accuracy: {:.2%}\".format(accuracy_score(y_test, y_pred)))\n",
    "print(\"Recall (Churn): {:.2%}\".format(recall_score(y_test, y_pred)))       \n",
    "print(\"Precision (Churn): {:.2%}\".format(precision_score(y_test, y_pred)))\n",
    "print(\"F1 Score: {:.2%}\".format(f1_score(y_test, y_pred)))"
   ]
  },
  {
   "cell_type": "markdown",
   "id": "4ac9760e",
   "metadata": {},
   "source": [
    "**Model Performance Summary:**\n",
    "\n",
    "The baseline logistic regression model achieved an accuracy of **84.3%** on the test set. However, given the imbalanced nature of the churn dataset, we rely more heavily on the **recall** and **precision** metrics.\n",
    "\n",
    "- **Recall (86.2%)**: The model successfully identified a large majority of the actual attrited customers, which is crucial in churn prediction where missing a potential churner could result in customer loss.\n",
    "- **Precision (50.6%)**: The model's precision is relatively low, indicating that about half of the customers predicted as churners were actually not. This implies a higher rate of false positives, which may be acceptable in some business contexts where it is better to over-alert than to miss a potential churn.\n",
    "- **F1 Score (63.8%)**: The harmonic mean between precision and recall provides a balanced view of model effectiveness. A score of 63.8% suggests a moderately effective baseline model.\n",
    "\n",
    "Overall, while the model excels at **catching attrited customers (high recall)**, its **precision needs improvement** to reduce unnecessary interventions. Subsequent models such as decision trees or ensemble methods may help strike a better balance."
   ]
  },
  {
   "cell_type": "markdown",
   "id": "aad511bc",
   "metadata": {},
   "source": [
    "## 3.3 Model Development"
   ]
  },
  {
   "cell_type": "markdown",
   "id": "9e8c2439",
   "metadata": {},
   "source": [
    "## 3.3.1 Quickstart for New Users (3 Lines to Get Results)"
   ]
  },
  {
   "cell_type": "markdown",
   "id": "c1778feb",
   "metadata": {},
   "source": [
    "### Initiate the class with selected models and training data"
   ]
  },
  {
   "cell_type": "code",
   "execution_count": 15,
   "id": "f5e90d28",
   "metadata": {},
   "outputs": [],
   "source": [
    "gm = GridMaster(models=['logistic', 'random_forest', 'xgboost'], X_train=X_train, y_train=y_train)"
   ]
  },
  {
   "cell_type": "markdown",
   "id": "60454b36",
   "metadata": {},
   "source": [
    "### Performs an automated coarse-to-fine grid search pipeline across all specified models\n",
    "In churn prediction, the core business goal is not just to predict accurately overall, but specifically to **capture as many actual churned customers as possible**. Missing a churned customer (false negative) means losing the chance to intervene and retain them, which has direct financial impact. On the other hand, falsely flagging a customer who won’t churn (false positive) may lead to some unnecessary retention effort, but the cost is usually smaller.  \n",
    "Therefore, I prioritize the `recall` metric, which focuses on **minimizing false negatives**, ensuring that the model identifies the largest possible proportion of churned customers — even if it slightly sacrifices precision."
   ]
  },
  {
   "cell_type": "code",
   "execution_count": 16,
   "id": "85db0f9c",
   "metadata": {},
   "outputs": [
    {
     "name": "stdout",
     "output_type": "stream",
     "text": [
      "🔍 [COARSE SEARCHING] for: logistic\n",
      "Fitting 5 folds for each of 8 candidates, totalling 40 fits\n",
      "🔧 [STAGE 1 FINE SEARCHING] for: logistic | Scale: 0.5 | Steps: 5\n",
      "Fitting 5 folds for each of 5 candidates, totalling 25 fits\n",
      "🔧 [STAGE 2 FINE SEARCHING] for: logistic | Scale: 0.2 | Steps: 5\n",
      "Fitting 5 folds for each of 5 candidates, totalling 25 fits\n",
      "🔍 [COARSE SEARCHING] for: random_forest\n",
      "Fitting 5 folds for each of 12 candidates, totalling 60 fits\n",
      "🔧 [STAGE 1 FINE SEARCHING] for: random_forest | Scale: 0.5 | Steps: 5\n",
      "⚠️ Skipping stage1 for random_forest: only one parameter combination detected.\n",
      "Reason: likely due to narrow coarse grid or constrained keys.\n",
      "Tip: Adjust auto_scale, auto_steps, or provide a richer custom_fine_params.\n",
      "\n",
      "🔧 [STAGE 2 FINE SEARCHING] for: random_forest | Scale: 0.2 | Steps: 5\n",
      "⚠️ Skipping stage2 for random_forest: only one parameter combination detected.\n",
      "Reason: likely due to narrow coarse grid or constrained keys.\n",
      "Tip: Adjust auto_scale, auto_steps, or provide a richer custom_fine_params.\n",
      "\n",
      "🔍 [COARSE SEARCHING] for: xgboost\n",
      "Fitting 5 folds for each of 8 candidates, totalling 40 fits\n",
      "🔧 [STAGE 1 FINE SEARCHING] for: xgboost | Scale: 0.5 | Steps: 5\n",
      "Fitting 5 folds for each of 5 candidates, totalling 25 fits\n",
      "🔧 [STAGE 2 FINE SEARCHING] for: xgboost | Scale: 0.2 | Steps: 5\n",
      "Fitting 5 folds for each of 5 candidates, totalling 25 fits\n"
     ]
    }
   ],
   "source": [
    "gm.multi_stage_search(scoring='recall')"
   ]
  },
  {
   "cell_type": "markdown",
   "id": "0604e474",
   "metadata": {},
   "source": [
    "### Check and save the report"
   ]
  },
  {
   "cell_type": "code",
   "execution_count": 17,
   "id": "91ba9671",
   "metadata": {
    "scrolled": true
   },
   "outputs": [
    {
     "name": "stdout",
     "output_type": "stream",
     "text": [
      "\n",
      "For Logistic model:\n",
      "Scoring metric used: 'recall'\n",
      "Stage 1: Coarse grid search:\n",
      "- clf__C in [0.01, 0.1, 1, 10]\n",
      "- clf__penalty in ['l1', 'l2']\n",
      "Total of 8 parameter combinations.\n",
      "Best parameters: {'clf__C': 10, 'clf__penalty': 'l1'}\n",
      "\n",
      "Stage 2: Multi-stage fine grid search (Round 1):\n",
      "- clf__C in [5.0, 7.5, 10.0, 12.5, 15.0]\n",
      "Total of 5 parameter combinations.\n",
      "Best parameters: {'clf__C': 5.0}\n",
      "\n",
      "Stage 3: Multi-stage fine grid search (Round 2):\n",
      "- clf__C in [4.0, 4.5, 5.0, 5.5, 6.0]\n",
      "Total of 5 parameter combinations.\n",
      "Best parameters: {'clf__C': 4.0, 'clf__penalty': 'l1'}\n",
      "\n",
      "✅ Conclusion: Best model for Logistic with best 'recall' score of 0.5883\n",
      "    - clf__C: 4.0\n",
      "    - clf__penalty: l1\n",
      "------------------------------------------------------------\n",
      "\n",
      "For Random_forest model:\n",
      "Scoring metric used: 'recall'\n",
      "Stage 1: Coarse grid search:\n",
      "- clf__n_estimators in [100, 200]\n",
      "- clf__max_depth in [5, 10]\n",
      "- clf__min_samples_split in [2, 5, 10]\n",
      "Total of 12 parameter combinations.\n",
      "Best parameters: {'clf__max_depth': 10, 'clf__min_samples_split': 2, 'clf__n_estimators': 200}\n",
      "\n",
      "✅ Conclusion: Best model for Random_forest with best 'recall' score of 0.7258\n",
      "    - clf__max_depth: 10\n",
      "    - clf__min_samples_split: 2\n",
      "    - clf__n_estimators: 200\n",
      "------------------------------------------------------------\n",
      "\n",
      "For Xgboost model:\n",
      "Scoring metric used: 'recall'\n",
      "Stage 1: Coarse grid search:\n",
      "- clf__n_estimators in [100, 200]\n",
      "- clf__max_depth in [3, 5]\n",
      "- clf__learning_rate in [0.1, 0.2]\n",
      "Total of 8 parameter combinations.\n",
      "Best parameters: {'clf__learning_rate': 0.2, 'clf__max_depth': 3, 'clf__n_estimators': 200}\n",
      "\n",
      "Stage 2: Multi-stage fine grid search (Round 1):\n",
      "- clf__learning_rate in [0.1, 0.1316074, 0.17320508, 0.22795071, 0.3]\n",
      "Total of 5 parameter combinations.\n",
      "Best parameters: {'clf__learning_rate': 0.22795071}\n",
      "\n",
      "Stage 3: Multi-stage fine grid search (Round 2):\n",
      "- clf__learning_rate in [0.18236057, 0.20181514, 0.22334517, 0.24717206, 0.27354085]\n",
      "Total of 5 parameter combinations.\n",
      "Best parameters: {'clf__learning_rate': 0.18236057, 'clf__max_depth': 3, 'clf__n_estimators': 200}\n",
      "\n",
      "✅ Conclusion: Best model for Xgboost with best 'recall' score of 0.8794\n",
      "    - clf__learning_rate: 0.18236057\n",
      "    - clf__max_depth: 3\n",
      "    - clf__n_estimators: 200\n",
      "------------------------------------------------------------\n",
      "\n",
      "🌟 Summary:\n",
      "The ultimate best model is Xgboost with parameters {'clf__learning_rate': 0.18236057, 'clf__max_depth': 3, 'clf__n_estimators': 200} and best 'recall' score of 0.8794\n"
     ]
    }
   ],
   "source": [
    "report = gm.generate_search_report()"
   ]
  },
  {
   "cell_type": "markdown",
   "id": "9c81ebaa",
   "metadata": {},
   "source": [
    "This result indicates that XGBoost is highly effective at correctly identifying churned customers, making it the most suitable choice for this business objective where minimizing false negatives is critical. While other models may offer advantages in precision or interpretability, XGBoost’s strong recall performance makes it the preferred candidate for deployment in churn prevention strategies.\n",
    "\n",
    "You can retrieve the best model you like by using this code, for example your decide the best model is XGBoost: \n",
    "```python\n",
    "best_model = gm.results['xgboost']['final'].best_estimator_\n",
    "```"
   ]
  },
  {
   "cell_type": "markdown",
   "id": "d48bbe40",
   "metadata": {},
   "source": [
    "## 3.3.2  Advanced Class Setup with Expanded Controls"
   ]
  },
  {
   "cell_type": "markdown",
   "id": "1571d5ad",
   "metadata": {},
   "source": [
    "### Initiate the class with selected models and training data\n",
    "\n",
    "In this step, we initialize the `GridMaster` class as a multi-model hyperparameter tuner, including **Logistic Regression**, **Random Forest**, and **XGBoost**.\n",
    "\n",
    "For advanced users, we apply several key configurations:\n",
    "\n",
    "- Use `mode='industrial'` to activate expanded, production-level coarse grids (instead of the default quick grids), enabling exploration of a broader hyperparameter space.\n",
    "- Set `n_jobs=-1` to leverage all available CPU cores, dramatically speeding up large-scale searches.\n",
    "- Enable `refit=True` to ensure the best model is retrained on the entire training dataset for reliable final modeling.\n",
    "- Activate `return_train_score=True` to include training set scores in the results, making it easier to analyze overfitting or underfitting.\n",
    "- Set `verbose=2` for detailed console output, helping to trace each step of the tuning process.\n",
    "\n",
    "These settings ensure not only flexibility and scalability but also provide a solid foundation for in-depth tuning and performance optimization."
   ]
  },
  {
   "cell_type": "code",
   "execution_count": 18,
   "id": "f07ae9a9",
   "metadata": {},
   "outputs": [],
   "source": [
    "gm = GridMaster(\n",
    "    models=['random_forest', 'xgboost', 'catboost'],\n",
    "    X_train=X_train,\n",
    "    y_train=y_train,\n",
    "    mode='industrial',  # 👈 Advanced: use wider industrial grids instead of fast mode\n",
    "    n_jobs=-1,          # 👈 Advanced: use all CPU cores\n",
    "    refit=True,         # 👈 Advanced: refit best estimator on full training data\n",
    "    return_train_score=True,  # 👈 Advanced: keep training set scores in results\n",
    "    verbose=2  # 👈 Advanced: increase verbosity for detailed logs\n",
    ")"
   ]
  },
  {
   "cell_type": "markdown",
   "id": "2655e7ff",
   "metadata": {},
   "source": [
    "### Performs an automated coarse-to-fine multi-stage grid search across all specified models\n",
    "For advanced users, I recommend using multi_stage_search() to fully automate the entire grid search pipeline:\n",
    "✅ Runs an initial coarse search\n",
    "✅ Follows with multiple fine-tuning stages\n",
    "✅ Dynamically refines around the best hyperparameter regions\n",
    "✅ Minimizes manual intervention and maximizes search efficiency\n",
    "\n",
    "Compared to manually running coarse_search() + fine_search(), this method reduces code repetition and ensures a smooth multi-level optimization process.\n",
    "\n",
    "Typical advanced configuration:"
   ]
  },
  {
   "cell_type": "code",
   "execution_count": 19,
   "id": "2c9e52b4",
   "metadata": {},
   "outputs": [
    {
     "name": "stdout",
     "output_type": "stream",
     "text": [
      "🔍 [COARSE SEARCHING] for: random_forest\n",
      "Fitting 5 folds for each of 27 candidates, totalling 135 fits\n",
      "🔧 [STAGE 1 FINE SEARCHING] for: random_forest | Scale: 0.5 | Steps: 5\n",
      "⚠️ Skipping stage1 for random_forest: only one parameter combination detected.\n",
      "Reason: likely due to narrow coarse grid or constrained keys.\n",
      "Tip: Adjust auto_scale, auto_steps, or provide a richer custom_fine_params.\n",
      "\n",
      "🔧 [STAGE 2 FINE SEARCHING] for: random_forest | Scale: 0.2 | Steps: 5\n",
      "⚠️ Skipping stage2 for random_forest: only one parameter combination detected.\n",
      "Reason: likely due to narrow coarse grid or constrained keys.\n",
      "Tip: Adjust auto_scale, auto_steps, or provide a richer custom_fine_params.\n",
      "\n",
      "🔍 [COARSE SEARCHING] for: xgboost\n",
      "Fitting 5 folds for each of 81 candidates, totalling 405 fits\n",
      "🔧 [STAGE 1 FINE SEARCHING] for: xgboost | Scale: 0.5 | Steps: 5\n",
      "Fitting 5 folds for each of 5 candidates, totalling 25 fits\n",
      "🔧 [STAGE 2 FINE SEARCHING] for: xgboost | Scale: 0.2 | Steps: 5\n",
      "Fitting 5 folds for each of 5 candidates, totalling 25 fits\n",
      "🔍 [COARSE SEARCHING] for: catboost\n",
      "Fitting 5 folds for each of 72 candidates, totalling 360 fits\n",
      "🔧 [STAGE 1 FINE SEARCHING] for: catboost | Scale: 0.5 | Steps: 5\n",
      "Fitting 5 folds for each of 5 candidates, totalling 25 fits\n",
      "🔧 [STAGE 2 FINE SEARCHING] for: catboost | Scale: 0.2 | Steps: 5\n",
      "Fitting 5 folds for each of 5 candidates, totalling 25 fits\n"
     ]
    }
   ],
   "source": [
    "gm.multi_stage_search(\n",
    "    cv=5,\n",
    "    scoring='f1',   # Target metric can be adjusted (e.g., 'accuracy', 'recall', 'roc_auc')\n",
    "    stages=[(0.5, 5), (0.2, 5)],  # Two fine-tuning rounds: ±50% grid, then ±20%\n",
    "    search_mode='smart'  # Advanced modes: 'smart', 'expert', or 'custom'\n",
    ")"
   ]
  },
  {
   "cell_type": "markdown",
   "id": "df1a828a",
   "metadata": {},
   "source": [
    "> 💡 Note: In this quickstart, my goal is to capture as many actual churned customers as possible. While maximizing recall could achieve this, it may also result in bothering some non-churning users. Therefore, here I use the 'f1' scoring metric to build a more balanced classifier that weighs both precision and recall."
   ]
  },
  {
   "cell_type": "markdown",
   "id": "3f4bd52c",
   "metadata": {},
   "source": [
    "> ❗ Warning: Since we are using 'industrial' mode with expanded coarse grids, the search may take significant time to complete. Please plan accordingly and consider using 'fast' mode or reducing the number of models for quicker experimentation."
   ]
  },
  {
   "cell_type": "markdown",
   "id": "4bf3c0f1",
   "metadata": {},
   "source": [
    "### Visualize CV Parameter Effects\n",
    "After completing the search and identifying the best model, it’s crucial to **check how each model's performance changes across the explored parameter space**.\n",
    "\n",
    "By plotting the cross-validation score curves for all models, you can:\n",
    "\n",
    "✅ Inspect whether performance shows sharp local fluctuations — which suggests that **a denser grid search** might reveal further improvements.  \n",
    "✅ Detect whether performance curves are relatively smooth and flat — indicating that **the parameter space is likely saturated**, and additional tuning may not yield significant gains.\n",
    "\n",
    "To do this, we loop over all models and plot their CV score curves:"
   ]
  },
  {
   "cell_type": "code",
   "execution_count": 20,
   "id": "26bc72d8",
   "metadata": {},
   "outputs": [
    {
     "data": {
      "image/png": "[encoded data removed]",
      "text/plain": [
       "<Figure size 720x360 with 1 Axes>"
      ]
     },
     "metadata": {
      "needs_background": "light"
     },
     "output_type": "display_data"
    },
    {
     "data": {
      "image/png": "[encoded data removed]",
      "text/plain": [
       "<Figure size 720x360 with 1 Axes>"
      ]
     },
     "metadata": {
      "needs_background": "light"
     },
     "output_type": "display_data"
    },
    {
     "data": {
      "image/png": "[encoded data removed]",
      "text/plain": [
       "<Figure size 720x360 with 1 Axes>"
      ]
     },
     "metadata": {
      "needs_background": "light"
     },
     "output_type": "display_data"
    }
   ],
   "source": [
    "for model in ['random_forest','xgboost','catboost']:\n",
    "    gm.plot_cv_score_curve(model_name=model)"
   ]
  },
  {
   "cell_type": "markdown",
   "id": "92d5626d",
   "metadata": {},
   "source": [
    "> By examining the cross-validation parameter effect curves, we observe that the curves are generally smooth, indicating that the hyperparameter space is approaching saturation — in other words, further tuning may yield only marginal improvements.\n",
    "However, if you identify regions with noticeable local fluctuations or if your use case requires even finer optimization, you can always proceed with an additional targeted fine_search() to explore those parameter zones in more detail."
   ]
  },
  {
   "cell_type": "markdown",
   "id": "66b9e0b9",
   "metadata": {},
   "source": [
    "### Summarize Best Model\n",
    "\n",
    "Once all parameter searches are complete and the top-performing model has been identified, you can use `gm.get_best_model_summary()` to **quickly retrieve a full summary** of the best model, its optimal parameters, and cross-validation performance.  \n",
    "\n",
    "This step gives you a **clear overview of which configuration emerged as the overall winner**, helping you decide whether to proceed to test set evaluation or further tuning."
   ]
  },
  {
   "cell_type": "code",
   "execution_count": 21,
   "id": "25d62ae2",
   "metadata": {},
   "outputs": [
    {
     "data": {
      "text/plain": [
       "{'model_name': 'catboost',\n",
       " 'best_estimator': Pipeline(steps=[('scaler', 'passthrough'),\n",
       "                 ('clf',\n",
       "                  <catboost.core.CatBoostClassifier object at 0x15254b700>)]),\n",
       " 'best_params': {'clf__learning_rate': np.float64(0.07667317),\n",
       "  'clf__depth': 4,\n",
       "  'clf__iterations': 500,\n",
       "  'clf__l2_leaf_reg': 1},\n",
       " 'cv_best_score': np.float64(0.9131),\n",
       " 'test_scores': {}}"
      ]
     },
     "execution_count": 21,
     "metadata": {},
     "output_type": "execute_result"
    }
   ],
   "source": [
    "gm.get_best_model_summary()"
   ]
  },
  {
   "cell_type": "markdown",
   "id": "5bce9cab",
   "metadata": {},
   "source": [
    "### Evaluate on Test Set\n",
    "\n",
    "Once the best model has been identified, you can directly retrieve it using the following code and compute key test set metrics.\n",
    "\n",
    "#### Check the best estimator given from the summary\n",
    "From the summary, we know the best model for now is **`'catboost'`**. But you can always identify the model you wanna check:"
   ]
  },
  {
   "cell_type": "code",
   "execution_count": 22,
   "id": "1eb06934",
   "metadata": {},
   "outputs": [],
   "source": [
    "best_model = gm.results['catboost']['final'].best_estimator_"
   ]
  },
  {
   "cell_type": "markdown",
   "id": "9bfad0f5",
   "metadata": {},
   "source": [
    "#### Generate predictions and probability scores and Compute key evaluation metrics"
   ]
  },
  {
   "cell_type": "code",
   "execution_count": 23,
   "id": "76c9c7ca",
   "metadata": {},
   "outputs": [
    {
     "name": "stdout",
     "output_type": "stream",
     "text": [
      "Accuracy: 0.9738\n",
      "F1 Score: 0.9173\n",
      "Precision: 0.9304\n",
      "Recall: 0.9046\n",
      "ROC AUC: 0.9957\n"
     ]
    }
   ],
   "source": [
    "y_pred = best_model.predict(X_test)\n",
    "y_proba = best_model.predict_proba(X_test)[:, 1]  # probability for positive class\n",
    "\n",
    "from sklearn.metrics import accuracy_score, f1_score, precision_score, recall_score, roc_auc_score\n",
    "\n",
    "accuracy = accuracy_score(y_test, y_pred)\n",
    "f1 = f1_score(y_test, y_pred)\n",
    "precision = precision_score(y_test, y_pred)\n",
    "recall = recall_score(y_test, y_pred)\n",
    "roc_auc = roc_auc_score(y_test, y_proba)\n",
    "\n",
    "print(f\"Accuracy: {accuracy:.4f}\")\n",
    "print(f\"F1 Score: {f1:.4f}\")\n",
    "print(f\"Precision: {precision:.4f}\")\n",
    "print(f\"Recall: {recall:.4f}\")\n",
    "print(f\"ROC AUC: {roc_auc:.4f}\")"
   ]
  },
  {
   "cell_type": "markdown",
   "id": "2d9ec311",
   "metadata": {},
   "source": [
    ">⚠️ Note:\n",
    "If you observe that test set performance is significantly lower than cross-validation scores, this may indicate:\n",
    "\t•\tOverfitting (cross-validation estimate is overly optimistic)\n",
    "\t•\tFeature or distribution drift (train-test gap exists)\n",
    "    \n",
    "> In such cases, you should proceed to the next step — advanced diagnostics, error analysis, or retraining with better regularization or updated data"
   ]
  },
  {
   "cell_type": "markdown",
   "id": "c33e62f7",
   "metadata": {},
   "source": [
    "###  Visualize Best Model on Test Set\n",
    "After selecting the overall best model,\n",
    "we perform a final diagnostic check on the test set.\n",
    "\n",
    "These visualizations help assess how well the model generalizes to unseen data and provide insight into its strengths, weaknesses, and trade-offs.\n",
    "You’ll get plots such as:\n",
    "- Confusion Matrix → Understand class-level accuracy, false positives, false negatives.\n",
    "- ROC Curve → See the trade-off between true positive and false positive rates. \n",
    "- Precision-Recall Curve → Especially useful for imbalanced datasets, showing the balance between precision and recall."
   ]
  },
  {
   "cell_type": "markdown",
   "id": "cd8a66d3",
   "metadata": {},
   "source": [
    "#### Get the best model name automatically"
   ]
  },
  {
   "cell_type": "code",
   "execution_count": 24,
   "id": "e67ecd21",
   "metadata": {},
   "outputs": [],
   "source": [
    "best_model_name = gm.best_model_name"
   ]
  },
  {
   "cell_type": "markdown",
   "id": "49d3b5e5",
   "metadata": {},
   "source": [
    "#### Plot confusion matrix"
   ]
  },
  {
   "cell_type": "code",
   "execution_count": 25,
   "id": "1aa96136",
   "metadata": {},
   "outputs": [
    {
     "data": {
      "image/png": "[encoded data removed]",
      "text/plain": [
       "<Figure size 432x360 with 2 Axes>"
      ]
     },
     "metadata": {
      "needs_background": "light"
     },
     "output_type": "display_data"
    }
   ],
   "source": [
    "gm.plot_confusion_matrix(model_name=best_model_name, X_test=X_test, y_test=y_test)"
   ]
  },
  {
   "cell_type": "markdown",
   "id": "9a0eac11",
   "metadata": {},
   "source": [
    "#### Plot ROC curve"
   ]
  },
  {
   "cell_type": "code",
   "execution_count": 26,
   "id": "ea8cc2e2",
   "metadata": {},
   "outputs": [
    {
     "data": {
      "image/png": "[encoded data removed]",
      "text/plain": [
       "<Figure size 576x432 with 1 Axes>"
      ]
     },
     "metadata": {
      "needs_background": "light"
     },
     "output_type": "display_data"
    }
   ],
   "source": [
    "gm.plot_roc_curve(model_name=best_model_name, X_test=X_test, y_test=y_test)"
   ]
  },
  {
   "cell_type": "markdown",
   "id": "047a7697",
   "metadata": {},
   "source": [
    "#### Plot Precision-Recall curve"
   ]
  },
  {
   "cell_type": "code",
   "execution_count": 27,
   "id": "51c2f20d",
   "metadata": {},
   "outputs": [
    {
     "data": {
      "image/png": "[encoded data removed]",
      "text/plain": [
       "<Figure size 576x432 with 1 Axes>"
      ]
     },
     "metadata": {
      "needs_background": "light"
     },
     "output_type": "display_data"
    }
   ],
   "source": [
    "gm.plot_precision_recall_curve(model_name=best_model_name, X_test=X_test, y_test=y_test)"
   ]
  },
  {
   "cell_type": "markdown",
   "id": "a86e965f",
   "metadata": {},
   "source": [
    "### Summary of Test Set Evaluation Results\n",
    "- The **confusion matrix** shows excellent classification balance, with a very low number of false positives (22) and false negatives (31), indicating both high precision and high recall.\n",
    "- The **ROC curve** has an area under the curve (AUC) of nearly 1.00, reflecting near-perfect separability between positive and negative classes — the model confidently distinguishes churned from non-churned customers.\n",
    "- The **precision-recall (PR) curve** shows an average precision (AP) of 0.98, confirming the model maintains excellent positive class detection even under class imbalance, making it highly reliable for prioritizing true churn cases.\n",
    "\n",
    "Overall, these results suggest the model generalizes extremely well to the test set, with minimal overfitting or performance drop. You can confidently proceed to deployment or, if desired, run further domain-specific error analysis for fine-tuned improvements."
   ]
  },
  {
   "cell_type": "markdown",
   "id": "506aaaa1",
   "metadata": {},
   "source": [
    "### Analyze Feature Importance\n",
    "Understanding which features drive the model’s predictions is critical for interpretability, trust, and actionable insights.\n",
    "\n",
    "In this step, we analyze the feature importance scores provided by tree-based models (like XGBoost, LightGBM, or Random Forest) or the absolute coefficient magnitudes from linear models (like Logistic Regression).\n",
    "\n",
    "This helps answer key questions such as:\n",
    "- Which features most strongly influence churn predictions?\n",
    "- Are there unexpected or non-intuitive drivers in the data?\n",
    "- Can we simplify the model by focusing on top-ranked features?\n",
    "\n",
    "By visualizing and interpreting these importance scores, advanced users can perform deeper diagnostics, guide feature engineering, and communicate results more effectively to stakeholders."
   ]
  },
  {
   "cell_type": "code",
   "execution_count": 28,
   "id": "ac25655b",
   "metadata": {},
   "outputs": [
    {
     "data": {
      "image/png": "[encoded data removed]",
      "text/plain": [
       "<Figure size 720x360 with 1 Axes>"
      ]
     },
     "metadata": {
      "needs_background": "light"
     },
     "output_type": "display_data"
    }
   ],
   "source": [
    "gm.plot_feature_importance(model_name=best_model_name)"
   ]
  },
  {
   "cell_type": "markdown",
   "id": "ca99ea2d",
   "metadata": {},
   "source": [
    "From this plot we can tell:\n",
    "\n",
    "**Top Features Dominate**\n",
    "The top few features (at the top of the chart) contribute overwhelmingly to the model’s predictive power. These variables are the primary drivers of the churn prediction and should be carefully examined for both interpretation and business action.\n",
    "\n",
    "**Long Tail of Less Important Features**\n",
    "There’s a long tail of features with much lower importance. This suggests that many variables have minimal or redundant contributions, and the model’s performance might not degrade much if you simplify it by focusing only on the top-ranked features.\n",
    "\n",
    "**Opportunities for Feature Engineering**\n",
    "The top predictors could guide targeted feature engineering, such as creating interaction terms or transformations. Meanwhile, the low-importance variables might be candidates for removal or re-evaluation.\n"
   ]
  },
  {
   "cell_type": "markdown",
   "id": "3cb5305d",
   "metadata": {},
   "source": [
    "> Note: If your selected model is a Logistic Regression, you can also use `gm.plot_model_coefficients()` to directly visualize the feature coefficients after tuning."
   ]
  },
  {
   "cell_type": "markdown",
   "id": "9d682321",
   "metadata": {},
   "source": [
    "### Compare All Models\n",
    "This step systematically compares all trained models on the provided test set using multiple evaluation metrics, such as accuracy, F1 score, and ROC AUC.\n",
    "By ranking models across these metrics (using the default rank_sum strategy), GridMaster identifies which model achieves the best overall balance in performance, allowing you to make an informed selection."
   ]
  },
  {
   "cell_type": "code",
   "execution_count": 29,
   "id": "813ce519",
   "metadata": {},
   "outputs": [
    {
     "data": {
      "text/plain": [
       "('catboost',\n",
       "                accuracy    f1  roc_auc  score\n",
       " random_forest      0.96  0.86     0.99    9.0\n",
       " xgboost            0.97  0.89     0.99    6.0\n",
       " catboost           0.97  0.92     1.00    3.0)"
      ]
     },
     "execution_count": 29,
     "metadata": {},
     "output_type": "execute_result"
    }
   ],
   "source": [
    "gm.compare_best_models(X_test,y_test)"
   ]
  },
  {
   "cell_type": "markdown",
   "id": "8d408e0a",
   "metadata": {},
   "source": [
    "#### Conclusion\n",
    "\n",
    "Based on the rank-sum evaluation across accuracy, F1 score, and ROC AUC on the test set, CatBoost emerges as the top-performing model with the lowest cumulative rank score (3.0).\n",
    "This suggests that CatBoost not only delivers the highest ROC AUC (1.00) but also maintains superior balance between precision and recall (as reflected by its leading F1 score of 0.92), making it the most reliable choice among the tested models."
   ]
  },
  {
   "cell_type": "markdown",
   "id": "a70c86e3",
   "metadata": {},
   "source": [
    "### Understanding the `score` in Model Comparison Function `compare_best_models()`\n",
    "By ranking models across these metrics (using the default rank_sum strategy), GridMaster identifies which model achieves the best overall balance, helping you make an informed selection.\n",
    "\n",
    "The `score` column above represents the sum of the rankings across all specified evaluation metrics.\n",
    "Specifically:\n",
    "- For each metric (e.g., accuracy, f1, roc_auc), all models are ranked from best to worst.\n",
    "For example, the best model in accuracy gets rank 1, the second-best gets rank 2, and so on.\n",
    "- The overall score is calculated as:`score = rank_accuracy + rank_f1 + rank_roc_auc + ...`\n",
    "\n",
    "A **lower total score** indicates a better overall performance across all metrics, making it easier to identify the most consistently strong model.\n",
    "\n",
    "In the given output, the model with the lowest score (e.g., catboost with score 3.0) is selected as the top-ranked model."
   ]
  },
  {
   "cell_type": "markdown",
   "id": "846b3b00",
   "metadata": {},
   "source": [
    "###  Generate Search Report"
   ]
  },
  {
   "cell_type": "code",
   "execution_count": 30,
   "id": "bbecab78",
   "metadata": {},
   "outputs": [
    {
     "name": "stdout",
     "output_type": "stream",
     "text": [
      "\n",
      "For Random_forest model:\n",
      "Scoring metric used: 'f1'\n",
      "Stage 1: Coarse grid search:\n",
      "- clf__n_estimators in [300, 500, 1000]\n",
      "- clf__max_depth in [10, 20, None]\n",
      "- clf__min_samples_split in [2, 5, 10]\n",
      "Total of 27 parameter combinations.\n",
      "Best parameters: {'clf__max_depth': 20, 'clf__min_samples_split': 2, 'clf__n_estimators': 1000}\n",
      "\n",
      "✅ Conclusion: Best model for Random_forest with best 'f1' score of 0.8534\n",
      "    - clf__max_depth: 20\n",
      "    - clf__min_samples_split: 2\n",
      "    - clf__n_estimators: 1000\n",
      "------------------------------------------------------------\n",
      "\n",
      "For Xgboost model:\n",
      "Scoring metric used: 'f1'\n",
      "Stage 1: Coarse grid search:\n",
      "- clf__n_estimators in [300, 500, 1000]\n",
      "- clf__max_depth in [3, 5, 7]\n",
      "- clf__learning_rate in [0.01, 0.05, 0.1]\n",
      "- clf__subsample in [0.6, 0.8, 1.0]\n",
      "Total of 81 parameter combinations.\n",
      "Best parameters: {'clf__learning_rate': 0.1, 'clf__max_depth': 3, 'clf__n_estimators': 300, 'clf__subsample': 0.8}\n",
      "\n",
      "Stage 2: Multi-stage fine grid search (Round 1):\n",
      "- clf__learning_rate in [0.05, 0.0658037, 0.08660254, 0.11397535, 0.15]\n",
      "Total of 5 parameter combinations.\n",
      "Best parameters: {'clf__learning_rate': 0.15}\n",
      "\n",
      "Stage 3: Multi-stage fine grid search (Round 2):\n",
      "- clf__learning_rate in [0.12, 0.13280183, 0.14696938, 0.16264836, 0.18]\n",
      "Total of 5 parameter combinations.\n",
      "Best parameters: {'clf__learning_rate': 0.12, 'clf__max_depth': 3, 'clf__n_estimators': 300, 'clf__subsample': 0.8}\n",
      "\n",
      "✅ Conclusion: Best model for Xgboost with best 'f1' score of 0.9012\n",
      "    - clf__learning_rate: 0.12\n",
      "    - clf__max_depth: 3\n",
      "    - clf__n_estimators: 300\n",
      "    - clf__subsample: 0.8\n",
      "------------------------------------------------------------\n",
      "\n",
      "For Catboost model:\n",
      "Scoring metric used: 'f1'\n",
      "Stage 1: Coarse grid search:\n",
      "- clf__iterations in [500, 1000]\n",
      "- clf__depth in [4, 6, 8]\n",
      "- clf__learning_rate in [0.01, 0.05, 0.1]\n",
      "- clf__l2_leaf_reg in [1, 3, 5, 7]\n",
      "Total of 72 parameter combinations.\n",
      "Best parameters: {'clf__depth': 4, 'clf__iterations': 500, 'clf__l2_leaf_reg': 1, 'clf__learning_rate': 0.1}\n",
      "\n",
      "Stage 2: Multi-stage fine grid search (Round 1):\n",
      "- clf__learning_rate in [0.05, 0.0658037, 0.08660254, 0.11397535, 0.15]\n",
      "Total of 5 parameter combinations.\n",
      "Best parameters: {'clf__learning_rate': 0.08660254}\n",
      "\n",
      "Stage 3: Multi-stage fine grid search (Round 2):\n",
      "- clf__learning_rate in [0.06928203, 0.07667317, 0.08485281, 0.09390507, 0.10392305]\n",
      "Total of 5 parameter combinations.\n",
      "Best parameters: {'clf__learning_rate': 0.07667317, 'clf__depth': 4, 'clf__iterations': 500, 'clf__l2_leaf_reg': 1}\n",
      "\n",
      "✅ Conclusion: Best model for Catboost with best 'f1' score of 0.9131\n",
      "    - clf__learning_rate: 0.07667317\n",
      "    - clf__depth: 4\n",
      "    - clf__iterations: 500\n",
      "    - clf__l2_leaf_reg: 1\n",
      "------------------------------------------------------------\n",
      "\n",
      "🌟 Summary:\n",
      "The ultimate best model is Catboost with parameters {'clf__learning_rate': 0.07667317, 'clf__depth': 4, 'clf__iterations': 500, 'clf__l2_leaf_reg': 1} and best 'f1' score of 0.9131\n",
      "[CV] END clf__max_depth=10, clf__min_samples_split=2, clf__n_estimators=500; total time=   3.5s\n",
      "[CV] END clf__max_depth=10, clf__min_samples_split=5, clf__n_estimators=300; total time=   2.5s\n",
      "[CV] END clf__max_depth=10, clf__min_samples_split=5, clf__n_estimators=500; total time=   3.9s\n",
      "[CV] END clf__max_depth=10, clf__min_samples_split=10, clf__n_estimators=300; total time=   2.4s\n",
      "[CV] END clf__max_depth=10, clf__min_samples_split=10, clf__n_estimators=500; total time=   3.6s\n",
      "[CV] END clf__max_depth=10, clf__min_samples_split=10, clf__n_estimators=1000; total time=   6.7s\n",
      "[CV] END clf__max_depth=20, clf__min_samples_split=2, clf__n_estimators=1000; total time=   7.5s\n",
      "[CV] END clf__max_depth=20, clf__min_samples_split=10, clf__n_estimators=300; total time=   2.6s\n",
      "[CV] END clf__max_depth=20, clf__min_samples_split=10, clf__n_estimators=500; total time=   3.6s\n",
      "[CV] END clf__max_depth=20, clf__min_samples_split=10, clf__n_estimators=1000; total time=   7.5s\n",
      "[CV] END clf__max_depth=None, clf__min_samples_split=5, clf__n_estimators=300; total time=   2.6s\n",
      "[CV] END clf__max_depth=None, clf__min_samples_split=5, clf__n_estimators=500; total time=   3.7s\n",
      "[CV] END clf__max_depth=None, clf__min_samples_split=5, clf__n_estimators=1000; total time=   7.2s\n",
      "[CV] END clf__learning_rate=0.01, clf__max_depth=3, clf__n_estimators=300, clf__subsample=0.8; total time=   0.3s\n",
      "[CV] END clf__learning_rate=0.01, clf__max_depth=3, clf__n_estimators=500, clf__subsample=0.6; total time=   0.4s\n",
      "[CV] END clf__learning_rate=0.01, clf__max_depth=3, clf__n_estimators=500, clf__subsample=1.0; total time=   0.3s\n",
      "[CV] END clf__learning_rate=0.01, clf__max_depth=3, clf__n_estimators=1000, clf__subsample=0.8; total time=   0.7s\n",
      "[CV] END clf__learning_rate=0.01, clf__max_depth=5, clf__n_estimators=300, clf__subsample=0.6; total time=   0.4s\n",
      "[CV] END clf__learning_rate=0.01, clf__max_depth=5, clf__n_estimators=300, clf__subsample=1.0; total time=   0.4s\n",
      "[CV] END clf__learning_rate=0.01, clf__max_depth=5, clf__n_estimators=500, clf__subsample=0.8; total time=   0.7s\n",
      "[CV] END clf__learning_rate=0.01, clf__max_depth=5, clf__n_estimators=1000, clf__subsample=0.6; total time=   1.1s\n",
      "[CV] END clf__learning_rate=0.01, clf__max_depth=5, clf__n_estimators=1000, clf__subsample=1.0; total time=   1.1s\n",
      "[CV] END clf__learning_rate=0.01, clf__max_depth=7, clf__n_estimators=300, clf__subsample=1.0; total time=   0.7s\n",
      "[CV] END clf__learning_rate=0.01, clf__max_depth=7, clf__n_estimators=500, clf__subsample=0.8; total time=   1.0s\n",
      "[CV] END clf__learning_rate=0.01, clf__max_depth=7, clf__n_estimators=1000, clf__subsample=0.6; total time=   1.5s\n",
      "[CV] END clf__learning_rate=0.01, clf__max_depth=7, clf__n_estimators=1000, clf__subsample=1.0; total time=   1.7s\n",
      "[CV] END clf__learning_rate=0.05, clf__max_depth=3, clf__n_estimators=500, clf__subsample=1.0; total time=   0.3s\n",
      "[CV] END clf__learning_rate=0.05, clf__max_depth=3, clf__n_estimators=1000, clf__subsample=0.8; total time=   0.6s\n",
      "[CV] END clf__learning_rate=0.05, clf__max_depth=3, clf__n_estimators=1000, clf__subsample=1.0; total time=   0.5s\n",
      "[CV] END clf__learning_rate=0.05, clf__max_depth=5, clf__n_estimators=300, clf__subsample=1.0; total time=   0.3s\n",
      "[CV] END clf__learning_rate=0.05, clf__max_depth=5, clf__n_estimators=500, clf__subsample=0.8; total time=   0.5s\n",
      "[CV] END clf__learning_rate=0.05, clf__max_depth=5, clf__n_estimators=1000, clf__subsample=0.6; total time=   1.0s\n",
      "[CV] END clf__learning_rate=0.05, clf__max_depth=5, clf__n_estimators=1000, clf__subsample=1.0; total time=   0.9s\n",
      "[CV] END clf__learning_rate=0.05, clf__max_depth=7, clf__n_estimators=300, clf__subsample=1.0; total time=   0.5s\n",
      "[CV] END clf__learning_rate=0.05, clf__max_depth=7, clf__n_estimators=500, clf__subsample=0.8; total time=   0.7s\n",
      "[CV] END clf__learning_rate=0.05, clf__max_depth=7, clf__n_estimators=1000, clf__subsample=0.6; total time=   1.1s\n",
      "[CV] END clf__learning_rate=0.05, clf__max_depth=7, clf__n_estimators=1000, clf__subsample=1.0; total time=   1.5s\n",
      "[CV] END clf__learning_rate=0.1, clf__max_depth=3, clf__n_estimators=500, clf__subsample=0.6; total time=   0.6s\n",
      "[CV] END clf__learning_rate=0.1, clf__max_depth=3, clf__n_estimators=500, clf__subsample=1.0; total time=   0.5s\n",
      "[CV] END clf__learning_rate=0.1, clf__max_depth=3, clf__n_estimators=1000, clf__subsample=0.8; total time=   0.7s\n",
      "[CV] END clf__learning_rate=0.1, clf__max_depth=5, clf__n_estimators=300, clf__subsample=0.6; total time=   0.3s\n",
      "[CV] END clf__learning_rate=0.1, clf__max_depth=5, clf__n_estimators=300, clf__subsample=0.8; total time=   0.3s\n",
      "[CV] END clf__learning_rate=0.1, clf__max_depth=5, clf__n_estimators=500, clf__subsample=0.8; total time=   0.5s\n",
      "[CV] END clf__learning_rate=0.1, clf__max_depth=5, clf__n_estimators=1000, clf__subsample=0.6; total time=   0.9s\n",
      "[CV] END clf__learning_rate=0.1, clf__max_depth=5, clf__n_estimators=1000, clf__subsample=1.0; total time=   0.8s\n",
      "[CV] END clf__learning_rate=0.1, clf__max_depth=7, clf__n_estimators=300, clf__subsample=1.0; total time=   0.4s\n",
      "[CV] END clf__learning_rate=0.1, clf__max_depth=7, clf__n_estimators=500, clf__subsample=0.8; total time=   0.6s\n",
      "[CV] END clf__learning_rate=0.1, clf__max_depth=7, clf__n_estimators=1000, clf__subsample=0.6; total time=   1.0s\n",
      "[CV] END clf__learning_rate=0.1, clf__max_depth=7, clf__n_estimators=1000, clf__subsample=1.0; total time=   0.9s\n",
      "[CV] END ............................clf__learning_rate=0.05; total time=   0.2s\n",
      "[CV] END ......................clf__learning_rate=0.11397535; total time=   0.2s\n",
      "[CV] END ............................clf__learning_rate=0.12; total time=   0.1s\n",
      "[CV] END ......................clf__learning_rate=0.16264836; total time=   0.1s\n",
      "[CV] END ............................clf__learning_rate=0.18; total time=   0.1s\n",
      "[CV] END clf__depth=4, clf__iterations=500, clf__l2_leaf_reg=1, clf__learning_rate=0.05; total time=   1.6s\n",
      "[CV] END clf__depth=4, clf__iterations=500, clf__l2_leaf_reg=3, clf__learning_rate=0.01; total time=   1.6s\n",
      "[CV] END clf__depth=4, clf__iterations=500, clf__l2_leaf_reg=3, clf__learning_rate=0.05; total time=   1.5s\n",
      "[CV] END clf__depth=4, clf__iterations=500, clf__l2_leaf_reg=5, clf__learning_rate=0.01; total time=   1.5s\n",
      "[CV] END clf__depth=4, clf__iterations=500, clf__l2_leaf_reg=5, clf__learning_rate=0.1; total time=   1.8s\n",
      "[CV] END clf__depth=4, clf__iterations=500, clf__l2_leaf_reg=7, clf__learning_rate=0.05; total time=   1.3s\n",
      "[CV] END clf__depth=4, clf__iterations=1000, clf__l2_leaf_reg=1, clf__learning_rate=0.01; total time=   2.8s\n",
      "[CV] END clf__depth=4, clf__iterations=1000, clf__l2_leaf_reg=1, clf__learning_rate=0.1; total time=   2.6s\n",
      "[CV] END clf__depth=4, clf__iterations=1000, clf__l2_leaf_reg=3, clf__learning_rate=0.05; total time=   2.8s\n",
      "[CV] END clf__depth=4, clf__iterations=1000, clf__l2_leaf_reg=5, clf__learning_rate=0.01; total time=   2.6s\n",
      "[CV] END clf__depth=4, clf__iterations=1000, clf__l2_leaf_reg=7, clf__learning_rate=0.01; total time=   2.5s\n",
      "[CV] END clf__depth=4, clf__iterations=1000, clf__l2_leaf_reg=7, clf__learning_rate=0.1; total time=   2.6s\n",
      "[CV] END clf__depth=6, clf__iterations=500, clf__l2_leaf_reg=1, clf__learning_rate=0.05; total time=   2.0s\n",
      "[CV] END clf__depth=6, clf__iterations=500, clf__l2_leaf_reg=3, clf__learning_rate=0.01; total time=   3.2s\n",
      "[CV] END clf__depth=6, clf__iterations=500, clf__l2_leaf_reg=3, clf__learning_rate=0.1; total time=   2.0s\n",
      "[CV] END clf__depth=6, clf__iterations=500, clf__l2_leaf_reg=5, clf__learning_rate=0.05; total time=   2.2s\n",
      "[CV] END clf__depth=6, clf__iterations=500, clf__l2_leaf_reg=7, clf__learning_rate=0.01; total time=   2.0s\n",
      "[CV] END clf__depth=6, clf__iterations=500, clf__l2_leaf_reg=7, clf__learning_rate=0.1; total time=   2.2s\n",
      "[CV] END clf__depth=6, clf__iterations=1000, clf__l2_leaf_reg=1, clf__learning_rate=0.05; total time=   4.8s\n",
      "[CV] END clf__depth=6, clf__iterations=1000, clf__l2_leaf_reg=3, clf__learning_rate=0.01; total time=   4.3s\n",
      "[CV] END clf__depth=6, clf__iterations=1000, clf__l2_leaf_reg=3, clf__learning_rate=0.1; total time=   4.1s\n",
      "[CV] END clf__depth=6, clf__iterations=1000, clf__l2_leaf_reg=5, clf__learning_rate=0.05; total time=   4.5s\n",
      "[CV] END clf__depth=6, clf__iterations=1000, clf__l2_leaf_reg=7, clf__learning_rate=0.01; total time=   4.9s\n",
      "[CV] END clf__depth=8, clf__iterations=500, clf__l2_leaf_reg=1, clf__learning_rate=0.01; total time=   4.6s\n",
      "[CV] END clf__depth=8, clf__iterations=500, clf__l2_leaf_reg=1, clf__learning_rate=0.1; total time=   4.8s\n",
      "[CV] END clf__depth=8, clf__iterations=500, clf__l2_leaf_reg=3, clf__learning_rate=0.05; total time=   5.0s\n",
      "[CV] END clf__depth=8, clf__iterations=500, clf__l2_leaf_reg=5, clf__learning_rate=0.01; total time=   5.2s\n",
      "[CV] END clf__depth=8, clf__iterations=500, clf__l2_leaf_reg=5, clf__learning_rate=0.1; total time=   4.2s\n",
      "[CV] END clf__depth=8, clf__iterations=500, clf__l2_leaf_reg=7, clf__learning_rate=0.01; total time=   4.1s\n",
      "[CV] END clf__depth=8, clf__iterations=500, clf__l2_leaf_reg=7, clf__learning_rate=0.1; total time=   5.5s\n",
      "[CV] END clf__depth=8, clf__iterations=1000, clf__l2_leaf_reg=1, clf__learning_rate=0.05; total time=   8.8s\n",
      "[CV] END clf__depth=8, clf__iterations=1000, clf__l2_leaf_reg=3, clf__learning_rate=0.01; total time=   9.8s\n",
      "[CV] END clf__depth=8, clf__iterations=1000, clf__l2_leaf_reg=3, clf__learning_rate=0.1; total time=  12.3s\n",
      "[CV] END clf__depth=8, clf__iterations=1000, clf__l2_leaf_reg=5, clf__learning_rate=0.05; total time=   8.3s\n",
      "[CV] END clf__depth=8, clf__iterations=1000, clf__l2_leaf_reg=7, clf__learning_rate=0.01; total time=   7.2s\n",
      "[CV] END clf__depth=8, clf__iterations=1000, clf__l2_leaf_reg=7, clf__learning_rate=0.1; total time=   7.7s\n",
      "[CV] END .......................clf__learning_rate=0.0658037; total time=   4.3s\n",
      "[CV] END ......................clf__learning_rate=0.08660254; total time=   3.8s\n",
      "[CV] END ............................clf__learning_rate=0.15; total time=   2.6s\n",
      "[CV] END ......................clf__learning_rate=0.06928203; total time=   3.8s\n",
      "[CV] END ......................clf__learning_rate=0.08485281; total time=   4.5s\n"
     ]
    },
    {
     "name": "stdout",
     "output_type": "stream",
     "text": [
      "[CV] END clf__max_depth=10, clf__min_samples_split=2, clf__n_estimators=500; total time=   3.4s\n",
      "[CV] END clf__max_depth=10, clf__min_samples_split=5, clf__n_estimators=300; total time=   2.1s\n",
      "[CV] END clf__max_depth=10, clf__min_samples_split=5, clf__n_estimators=500; total time=   3.8s\n",
      "[CV] END clf__max_depth=10, clf__min_samples_split=5, clf__n_estimators=1000; total time=   7.5s\n",
      "[CV] END clf__max_depth=20, clf__min_samples_split=2, clf__n_estimators=300; total time=   2.4s\n",
      "[CV] END clf__max_depth=20, clf__min_samples_split=2, clf__n_estimators=500; total time=   4.1s\n",
      "[CV] END clf__max_depth=20, clf__min_samples_split=5, clf__n_estimators=300; total time=   2.2s\n",
      "[CV] END clf__max_depth=20, clf__min_samples_split=5, clf__n_estimators=500; total time=   3.6s\n",
      "[CV] END clf__max_depth=20, clf__min_samples_split=5, clf__n_estimators=1000; total time=   7.5s\n",
      "[CV] END clf__max_depth=None, clf__min_samples_split=2, clf__n_estimators=300; total time=   2.4s\n",
      "[CV] END clf__max_depth=None, clf__min_samples_split=2, clf__n_estimators=500; total time=   3.7s\n",
      "[CV] END clf__max_depth=None, clf__min_samples_split=2, clf__n_estimators=1000; total time=   8.0s\n",
      "[CV] END clf__max_depth=None, clf__min_samples_split=10, clf__n_estimators=300; total time=   2.2s\n",
      "[CV] END clf__max_depth=None, clf__min_samples_split=10, clf__n_estimators=500; total time=   3.6s\n",
      "[CV] END clf__max_depth=None, clf__min_samples_split=10, clf__n_estimators=1000; total time=   6.2s\n",
      "[CV] END clf__learning_rate=0.01, clf__max_depth=3, clf__n_estimators=300, clf__subsample=0.6; total time=   0.3s\n",
      "[CV] END clf__learning_rate=0.01, clf__max_depth=3, clf__n_estimators=500, clf__subsample=0.6; total time=   0.4s\n",
      "[CV] END clf__learning_rate=0.01, clf__max_depth=3, clf__n_estimators=500, clf__subsample=1.0; total time=   0.3s\n",
      "[CV] END clf__learning_rate=0.01, clf__max_depth=3, clf__n_estimators=1000, clf__subsample=0.8; total time=   0.6s\n",
      "[CV] END clf__learning_rate=0.01, clf__max_depth=5, clf__n_estimators=300, clf__subsample=0.6; total time=   0.4s\n",
      "[CV] END clf__learning_rate=0.01, clf__max_depth=5, clf__n_estimators=300, clf__subsample=1.0; total time=   0.4s\n",
      "[CV] END clf__learning_rate=0.01, clf__max_depth=5, clf__n_estimators=500, clf__subsample=0.6; total time=   0.6s\n",
      "[CV] END clf__learning_rate=0.01, clf__max_depth=5, clf__n_estimators=500, clf__subsample=1.0; total time=   0.7s\n",
      "[CV] END clf__learning_rate=0.01, clf__max_depth=5, clf__n_estimators=1000, clf__subsample=0.8; total time=   1.1s\n",
      "[CV] END clf__learning_rate=0.01, clf__max_depth=7, clf__n_estimators=300, clf__subsample=0.6; total time=   0.6s\n",
      "[CV] END clf__learning_rate=0.01, clf__max_depth=7, clf__n_estimators=300, clf__subsample=1.0; total time=   0.7s\n",
      "[CV] END clf__learning_rate=0.01, clf__max_depth=7, clf__n_estimators=500, clf__subsample=0.8; total time=   0.9s\n",
      "[CV] END clf__learning_rate=0.01, clf__max_depth=7, clf__n_estimators=1000, clf__subsample=0.6; total time=   1.5s\n",
      "[CV] END clf__learning_rate=0.01, clf__max_depth=7, clf__n_estimators=1000, clf__subsample=1.0; total time=   1.6s\n",
      "[CV] END clf__learning_rate=0.05, clf__max_depth=3, clf__n_estimators=500, clf__subsample=0.8; total time=   0.3s\n",
      "[CV] END clf__learning_rate=0.05, clf__max_depth=3, clf__n_estimators=1000, clf__subsample=0.6; total time=   0.6s\n",
      "[CV] END clf__learning_rate=0.05, clf__max_depth=3, clf__n_estimators=1000, clf__subsample=1.0; total time=   0.5s\n",
      "[CV] END clf__learning_rate=0.05, clf__max_depth=5, clf__n_estimators=300, clf__subsample=0.8; total time=   0.3s\n",
      "[CV] END clf__learning_rate=0.05, clf__max_depth=5, clf__n_estimators=500, clf__subsample=0.6; total time=   0.5s\n",
      "[CV] END clf__learning_rate=0.05, clf__max_depth=5, clf__n_estimators=500, clf__subsample=1.0; total time=   0.5s\n",
      "[CV] END clf__learning_rate=0.05, clf__max_depth=5, clf__n_estimators=1000, clf__subsample=0.8; total time=   0.9s\n",
      "[CV] END clf__learning_rate=0.05, clf__max_depth=7, clf__n_estimators=300, clf__subsample=0.6; total time=   0.4s\n",
      "[CV] END clf__learning_rate=0.05, clf__max_depth=7, clf__n_estimators=300, clf__subsample=0.8; total time=   0.5s\n",
      "[CV] END clf__learning_rate=0.05, clf__max_depth=7, clf__n_estimators=500, clf__subsample=0.6; total time=   0.7s\n",
      "[CV] END clf__learning_rate=0.05, clf__max_depth=7, clf__n_estimators=1000, clf__subsample=0.6; total time=   1.3s\n",
      "[CV] END clf__learning_rate=0.05, clf__max_depth=7, clf__n_estimators=1000, clf__subsample=1.0; total time=   1.6s\n",
      "[CV] END clf__learning_rate=0.1, clf__max_depth=3, clf__n_estimators=500, clf__subsample=1.0; total time=   0.4s\n",
      "[CV] END clf__learning_rate=0.1, clf__max_depth=3, clf__n_estimators=1000, clf__subsample=0.6; total time=   0.9s\n",
      "[CV] END clf__learning_rate=0.1, clf__max_depth=5, clf__n_estimators=300, clf__subsample=0.6; total time=   0.3s\n",
      "[CV] END clf__learning_rate=0.1, clf__max_depth=5, clf__n_estimators=300, clf__subsample=0.8; total time=   0.4s\n",
      "[CV] END clf__learning_rate=0.1, clf__max_depth=5, clf__n_estimators=500, clf__subsample=0.6; total time=   0.5s\n",
      "[CV] END clf__learning_rate=0.1, clf__max_depth=5, clf__n_estimators=500, clf__subsample=1.0; total time=   0.5s\n",
      "[CV] END clf__learning_rate=0.1, clf__max_depth=5, clf__n_estimators=1000, clf__subsample=0.8; total time=   0.8s\n",
      "[CV] END clf__learning_rate=0.1, clf__max_depth=7, clf__n_estimators=300, clf__subsample=0.6; total time=   0.4s\n",
      "[CV] END clf__learning_rate=0.1, clf__max_depth=7, clf__n_estimators=300, clf__subsample=0.8; total time=   0.4s\n",
      "[CV] END clf__learning_rate=0.1, clf__max_depth=7, clf__n_estimators=500, clf__subsample=0.6; total time=   0.5s\n",
      "[CV] END clf__learning_rate=0.1, clf__max_depth=7, clf__n_estimators=500, clf__subsample=1.0; total time=   0.6s\n",
      "[CV] END clf__learning_rate=0.1, clf__max_depth=7, clf__n_estimators=1000, clf__subsample=0.8; total time=   0.9s\n",
      "[CV] END ............................clf__learning_rate=0.05; total time=   0.2s\n",
      "[CV] END ......................clf__learning_rate=0.08660254; total time=   0.2s\n",
      "[CV] END ......................clf__learning_rate=0.13280183; total time=   0.1s\n",
      "[CV] END ......................clf__learning_rate=0.16264836; total time=   0.2s\n",
      "[CV] END clf__depth=4, clf__iterations=500, clf__l2_leaf_reg=1, clf__learning_rate=0.01; total time=   1.6s\n",
      "[CV] END clf__depth=4, clf__iterations=500, clf__l2_leaf_reg=1, clf__learning_rate=0.1; total time=   1.7s\n",
      "[CV] END clf__depth=4, clf__iterations=500, clf__l2_leaf_reg=3, clf__learning_rate=0.1; total time=   1.4s\n",
      "[CV] END clf__depth=4, clf__iterations=500, clf__l2_leaf_reg=5, clf__learning_rate=0.01; total time=   1.8s\n",
      "[CV] END clf__depth=4, clf__iterations=500, clf__l2_leaf_reg=7, clf__learning_rate=0.01; total time=   1.5s\n",
      "[CV] END clf__depth=4, clf__iterations=500, clf__l2_leaf_reg=7, clf__learning_rate=0.05; total time=   1.4s\n",
      "[CV] END clf__depth=4, clf__iterations=1000, clf__l2_leaf_reg=1, clf__learning_rate=0.01; total time=   2.7s\n",
      "[CV] END clf__depth=4, clf__iterations=1000, clf__l2_leaf_reg=1, clf__learning_rate=0.1; total time=   2.6s\n",
      "[CV] END clf__depth=4, clf__iterations=1000, clf__l2_leaf_reg=3, clf__learning_rate=0.1; total time=   2.8s\n",
      "[CV] END clf__depth=4, clf__iterations=1000, clf__l2_leaf_reg=5, clf__learning_rate=0.05; total time=   2.4s\n",
      "[CV] END clf__depth=4, clf__iterations=1000, clf__l2_leaf_reg=7, clf__learning_rate=0.01; total time=   2.5s\n",
      "[CV] END clf__depth=4, clf__iterations=1000, clf__l2_leaf_reg=7, clf__learning_rate=0.05; total time=   2.4s\n",
      "[CV] END clf__depth=6, clf__iterations=500, clf__l2_leaf_reg=1, clf__learning_rate=0.01; total time=   2.1s\n",
      "[CV] END clf__depth=6, clf__iterations=500, clf__l2_leaf_reg=1, clf__learning_rate=0.1; total time=   1.7s\n",
      "[CV] END clf__depth=6, clf__iterations=500, clf__l2_leaf_reg=3, clf__learning_rate=0.05; total time=   2.2s\n",
      "[CV] END clf__depth=6, clf__iterations=500, clf__l2_leaf_reg=3, clf__learning_rate=0.1; total time=   2.1s\n",
      "[CV] END clf__depth=6, clf__iterations=500, clf__l2_leaf_reg=5, clf__learning_rate=0.1; total time=   2.2s\n",
      "[CV] END clf__depth=6, clf__iterations=500, clf__l2_leaf_reg=7, clf__learning_rate=0.05; total time=   2.2s\n",
      "[CV] END clf__depth=6, clf__iterations=1000, clf__l2_leaf_reg=1, clf__learning_rate=0.01; total time=   3.9s\n",
      "[CV] END clf__depth=6, clf__iterations=1000, clf__l2_leaf_reg=1, clf__learning_rate=0.1; total time=   3.4s\n",
      "[CV] END clf__depth=6, clf__iterations=1000, clf__l2_leaf_reg=3, clf__learning_rate=0.05; total time=   4.2s\n",
      "[CV] END clf__depth=6, clf__iterations=1000, clf__l2_leaf_reg=5, clf__learning_rate=0.01; total time=   4.3s\n",
      "[CV] END clf__depth=6, clf__iterations=1000, clf__l2_leaf_reg=5, clf__learning_rate=0.1; total time=   3.9s\n",
      "[CV] END clf__depth=6, clf__iterations=1000, clf__l2_leaf_reg=7, clf__learning_rate=0.05; total time=   4.3s\n",
      "[CV] END clf__depth=8, clf__iterations=500, clf__l2_leaf_reg=1, clf__learning_rate=0.01; total time=   4.5s\n",
      "[CV] END clf__depth=8, clf__iterations=500, clf__l2_leaf_reg=1, clf__learning_rate=0.1; total time=   4.9s\n",
      "[CV] END clf__depth=8, clf__iterations=500, clf__l2_leaf_reg=3, clf__learning_rate=0.01; total time=   5.2s\n",
      "[CV] END clf__depth=8, clf__iterations=500, clf__l2_leaf_reg=5, clf__learning_rate=0.01; total time=   5.2s\n",
      "[CV] END clf__depth=8, clf__iterations=500, clf__l2_leaf_reg=5, clf__learning_rate=0.1; total time=   5.2s\n",
      "[CV] END clf__depth=8, clf__iterations=500, clf__l2_leaf_reg=7, clf__learning_rate=0.05; total time=   5.4s\n",
      "[CV] END clf__depth=8, clf__iterations=1000, clf__l2_leaf_reg=1, clf__learning_rate=0.01; total time=   9.8s\n",
      "[CV] END clf__depth=8, clf__iterations=1000, clf__l2_leaf_reg=1, clf__learning_rate=0.1; total time=   9.9s\n",
      "[CV] END clf__depth=8, clf__iterations=1000, clf__l2_leaf_reg=3, clf__learning_rate=0.1; total time=   8.5s\n",
      "[CV] END clf__depth=8, clf__iterations=1000, clf__l2_leaf_reg=5, clf__learning_rate=0.01; total time=   9.7s\n",
      "[CV] END clf__depth=8, clf__iterations=1000, clf__l2_leaf_reg=5, clf__learning_rate=0.1; total time=   9.3s\n",
      "[CV] END clf__depth=8, clf__iterations=1000, clf__l2_leaf_reg=7, clf__learning_rate=0.05; total time=   8.8s\n",
      "[CV] END ............................clf__learning_rate=0.05; total time=   4.2s\n",
      "[CV] END ......................clf__learning_rate=0.08660254; total time=   4.1s\n",
      "[CV] END ......................clf__learning_rate=0.06928203; total time=   5.3s\n",
      "[CV] END ......................clf__learning_rate=0.09390507; total time=   3.9s\n"
     ]
    },
    {
     "name": "stdout",
     "output_type": "stream",
     "text": [
      "[CV] END clf__max_depth=10, clf__min_samples_split=2, clf__n_estimators=300; total time=   2.0s\n",
      "[CV] END clf__max_depth=10, clf__min_samples_split=2, clf__n_estimators=1000; total time=   7.2s\n",
      "[CV] END clf__max_depth=10, clf__min_samples_split=5, clf__n_estimators=1000; total time=   7.0s\n",
      "[CV] END clf__max_depth=20, clf__min_samples_split=2, clf__n_estimators=300; total time=   2.4s\n",
      "[CV] END clf__max_depth=20, clf__min_samples_split=2, clf__n_estimators=500; total time=   4.0s\n",
      "[CV] END clf__max_depth=20, clf__min_samples_split=2, clf__n_estimators=1000; total time=   7.8s\n",
      "[CV] END clf__max_depth=20, clf__min_samples_split=10, clf__n_estimators=300; total time=   2.3s\n",
      "[CV] END clf__max_depth=20, clf__min_samples_split=10, clf__n_estimators=500; total time=   3.7s\n",
      "[CV] END clf__max_depth=20, clf__min_samples_split=10, clf__n_estimators=1000; total time=   7.2s\n",
      "[CV] END clf__max_depth=None, clf__min_samples_split=5, clf__n_estimators=300; total time=   2.5s\n",
      "[CV] END clf__max_depth=None, clf__min_samples_split=5, clf__n_estimators=500; total time=   3.6s\n",
      "[CV] END clf__max_depth=None, clf__min_samples_split=5, clf__n_estimators=1000; total time=   7.4s\n",
      "[CV] END clf__learning_rate=0.01, clf__max_depth=3, clf__n_estimators=300, clf__subsample=0.6; total time=   0.2s\n",
      "[CV] END clf__learning_rate=0.01, clf__max_depth=3, clf__n_estimators=300, clf__subsample=1.0; total time=   0.2s\n",
      "[CV] END clf__learning_rate=0.01, clf__max_depth=3, clf__n_estimators=500, clf__subsample=0.8; total time=   0.3s\n",
      "[CV] END clf__learning_rate=0.01, clf__max_depth=3, clf__n_estimators=1000, clf__subsample=0.6; total time=   0.6s\n",
      "[CV] END clf__learning_rate=0.01, clf__max_depth=3, clf__n_estimators=1000, clf__subsample=1.0; total time=   0.6s\n",
      "[CV] END clf__learning_rate=0.01, clf__max_depth=5, clf__n_estimators=300, clf__subsample=0.8; total time=   0.5s\n",
      "[CV] END clf__learning_rate=0.01, clf__max_depth=5, clf__n_estimators=500, clf__subsample=0.8; total time=   0.7s\n",
      "[CV] END clf__learning_rate=0.01, clf__max_depth=5, clf__n_estimators=1000, clf__subsample=0.6; total time=   1.1s\n",
      "[CV] END clf__learning_rate=0.01, clf__max_depth=5, clf__n_estimators=1000, clf__subsample=1.0; total time=   1.0s\n",
      "[CV] END clf__learning_rate=0.01, clf__max_depth=7, clf__n_estimators=300, clf__subsample=0.8; total time=   0.7s\n",
      "[CV] END clf__learning_rate=0.01, clf__max_depth=7, clf__n_estimators=500, clf__subsample=0.8; total time=   1.0s\n",
      "[CV] END clf__learning_rate=0.01, clf__max_depth=7, clf__n_estimators=1000, clf__subsample=0.6; total time=   1.5s\n",
      "[CV] END clf__learning_rate=0.01, clf__max_depth=7, clf__n_estimators=1000, clf__subsample=1.0; total time=   1.5s\n",
      "[CV] END clf__learning_rate=0.05, clf__max_depth=3, clf__n_estimators=500, clf__subsample=0.6; total time=   0.3s\n",
      "[CV] END clf__learning_rate=0.05, clf__max_depth=3, clf__n_estimators=500, clf__subsample=1.0; total time=   0.3s\n",
      "[CV] END clf__learning_rate=0.05, clf__max_depth=3, clf__n_estimators=1000, clf__subsample=0.8; total time=   0.6s\n",
      "[CV] END clf__learning_rate=0.05, clf__max_depth=5, clf__n_estimators=300, clf__subsample=0.6; total time=   0.3s\n",
      "[CV] END clf__learning_rate=0.05, clf__max_depth=5, clf__n_estimators=300, clf__subsample=1.0; total time=   0.3s\n",
      "[CV] END clf__learning_rate=0.05, clf__max_depth=5, clf__n_estimators=500, clf__subsample=0.6; total time=   0.5s\n",
      "[CV] END clf__learning_rate=0.05, clf__max_depth=5, clf__n_estimators=1000, clf__subsample=0.6; total time=   1.0s\n",
      "[CV] END clf__learning_rate=0.05, clf__max_depth=5, clf__n_estimators=1000, clf__subsample=1.0; total time=   0.9s\n",
      "[CV] END clf__learning_rate=0.05, clf__max_depth=7, clf__n_estimators=300, clf__subsample=1.0; total time=   0.5s\n",
      "[CV] END clf__learning_rate=0.05, clf__max_depth=7, clf__n_estimators=500, clf__subsample=0.8; total time=   0.7s\n",
      "[CV] END clf__learning_rate=0.05, clf__max_depth=7, clf__n_estimators=1000, clf__subsample=0.6; total time=   1.2s\n",
      "[CV] END clf__learning_rate=0.05, clf__max_depth=7, clf__n_estimators=1000, clf__subsample=1.0; total time=   1.5s\n",
      "[CV] END clf__learning_rate=0.1, clf__max_depth=3, clf__n_estimators=500, clf__subsample=0.8; total time=   0.6s\n",
      "[CV] END clf__learning_rate=0.1, clf__max_depth=3, clf__n_estimators=1000, clf__subsample=0.6; total time=   1.0s\n",
      "[CV] END clf__learning_rate=0.1, clf__max_depth=3, clf__n_estimators=1000, clf__subsample=1.0; total time=   0.6s\n",
      "[CV] END clf__learning_rate=0.1, clf__max_depth=5, clf__n_estimators=300, clf__subsample=1.0; total time=   0.3s\n",
      "[CV] END clf__learning_rate=0.1, clf__max_depth=5, clf__n_estimators=500, clf__subsample=0.8; total time=   0.5s\n",
      "[CV] END clf__learning_rate=0.1, clf__max_depth=5, clf__n_estimators=1000, clf__subsample=0.6; total time=   0.8s\n",
      "[CV] END clf__learning_rate=0.1, clf__max_depth=5, clf__n_estimators=1000, clf__subsample=1.0; total time=   0.7s\n",
      "[CV] END clf__learning_rate=0.1, clf__max_depth=7, clf__n_estimators=300, clf__subsample=0.8; total time=   0.4s\n",
      "[CV] END clf__learning_rate=0.1, clf__max_depth=7, clf__n_estimators=500, clf__subsample=0.6; total time=   0.5s\n",
      "[CV] END clf__learning_rate=0.1, clf__max_depth=7, clf__n_estimators=500, clf__subsample=1.0; total time=   0.6s\n",
      "[CV] END clf__learning_rate=0.1, clf__max_depth=7, clf__n_estimators=1000, clf__subsample=0.8; total time=   0.9s\n",
      "[CV] END ............................clf__learning_rate=0.05; total time=   0.2s\n",
      "[CV] END ......................clf__learning_rate=0.08660254; total time=   0.2s\n",
      "[CV] END ............................clf__learning_rate=0.15; total time=   0.1s\n",
      "[CV] END ............................clf__learning_rate=0.12; total time=   0.1s\n",
      "[CV] END ......................clf__learning_rate=0.14696938; total time=   0.2s\n",
      "[CV] END ............................clf__learning_rate=0.18; total time=   0.1s\n",
      "[CV] END clf__depth=4, clf__iterations=500, clf__l2_leaf_reg=1, clf__learning_rate=0.01; total time=   1.5s\n",
      "[CV] END clf__depth=4, clf__iterations=500, clf__l2_leaf_reg=1, clf__learning_rate=0.1; total time=   1.6s\n",
      "[CV] END clf__depth=4, clf__iterations=500, clf__l2_leaf_reg=3, clf__learning_rate=0.05; total time=   1.6s\n",
      "[CV] END clf__depth=4, clf__iterations=500, clf__l2_leaf_reg=5, clf__learning_rate=0.05; total time=   1.6s\n",
      "[CV] END clf__depth=4, clf__iterations=500, clf__l2_leaf_reg=5, clf__learning_rate=0.1; total time=   1.7s\n",
      "[CV] END clf__depth=4, clf__iterations=500, clf__l2_leaf_reg=7, clf__learning_rate=0.1; total time=   1.3s\n",
      "[CV] END clf__depth=4, clf__iterations=1000, clf__l2_leaf_reg=1, clf__learning_rate=0.01; total time=   2.7s\n",
      "[CV] END clf__depth=4, clf__iterations=1000, clf__l2_leaf_reg=1, clf__learning_rate=0.1; total time=   2.5s\n",
      "[CV] END clf__depth=4, clf__iterations=1000, clf__l2_leaf_reg=3, clf__learning_rate=0.05; total time=   2.7s\n",
      "[CV] END clf__depth=4, clf__iterations=1000, clf__l2_leaf_reg=5, clf__learning_rate=0.01; total time=   2.8s\n",
      "[CV] END clf__depth=4, clf__iterations=1000, clf__l2_leaf_reg=7, clf__learning_rate=0.01; total time=   2.5s\n",
      "[CV] END clf__depth=4, clf__iterations=1000, clf__l2_leaf_reg=7, clf__learning_rate=0.1; total time=   2.4s\n",
      "[CV] END clf__depth=6, clf__iterations=500, clf__l2_leaf_reg=1, clf__learning_rate=0.05; total time=   1.9s\n",
      "[CV] END clf__depth=6, clf__iterations=500, clf__l2_leaf_reg=3, clf__learning_rate=0.01; total time=   1.6s\n",
      "[CV] END clf__depth=6, clf__iterations=500, clf__l2_leaf_reg=3, clf__learning_rate=0.05; total time=   2.5s\n",
      "[CV] END clf__depth=6, clf__iterations=500, clf__l2_leaf_reg=5, clf__learning_rate=0.01; total time=   2.1s\n",
      "[CV] END clf__depth=6, clf__iterations=500, clf__l2_leaf_reg=5, clf__learning_rate=0.1; total time=   2.2s\n",
      "[CV] END clf__depth=6, clf__iterations=500, clf__l2_leaf_reg=7, clf__learning_rate=0.05; total time=   2.1s\n",
      "[CV] END clf__depth=6, clf__iterations=1000, clf__l2_leaf_reg=1, clf__learning_rate=0.01; total time=   5.0s\n",
      "[CV] END clf__depth=6, clf__iterations=1000, clf__l2_leaf_reg=1, clf__learning_rate=0.1; total time=   3.8s\n",
      "[CV] END clf__depth=6, clf__iterations=1000, clf__l2_leaf_reg=3, clf__learning_rate=0.05; total time=   4.1s\n",
      "[CV] END clf__depth=6, clf__iterations=1000, clf__l2_leaf_reg=5, clf__learning_rate=0.01; total time=   4.9s\n",
      "[CV] END clf__depth=6, clf__iterations=1000, clf__l2_leaf_reg=7, clf__learning_rate=0.01; total time=   4.3s\n",
      "[CV] END clf__depth=6, clf__iterations=1000, clf__l2_leaf_reg=7, clf__learning_rate=0.1; total time=   4.3s\n",
      "[CV] END clf__depth=8, clf__iterations=500, clf__l2_leaf_reg=1, clf__learning_rate=0.05; total time=   4.7s\n",
      "[CV] END clf__depth=8, clf__iterations=500, clf__l2_leaf_reg=3, clf__learning_rate=0.01; total time=   4.6s\n",
      "[CV] END clf__depth=8, clf__iterations=500, clf__l2_leaf_reg=3, clf__learning_rate=0.1; total time=   4.3s\n",
      "[CV] END clf__depth=8, clf__iterations=500, clf__l2_leaf_reg=5, clf__learning_rate=0.05; total time=   4.3s\n",
      "[CV] END clf__depth=8, clf__iterations=500, clf__l2_leaf_reg=7, clf__learning_rate=0.01; total time=   4.8s\n",
      "[CV] END clf__depth=8, clf__iterations=500, clf__l2_leaf_reg=7, clf__learning_rate=0.05; total time=   5.8s\n",
      "[CV] END clf__depth=8, clf__iterations=1000, clf__l2_leaf_reg=1, clf__learning_rate=0.05; total time=   9.4s\n",
      "[CV] END clf__depth=8, clf__iterations=1000, clf__l2_leaf_reg=3, clf__learning_rate=0.01; total time=   9.9s\n",
      "[CV] END clf__depth=8, clf__iterations=1000, clf__l2_leaf_reg=3, clf__learning_rate=0.1; total time=   7.9s\n",
      "[CV] END clf__depth=8, clf__iterations=1000, clf__l2_leaf_reg=5, clf__learning_rate=0.01; total time=   9.4s\n",
      "[CV] END clf__depth=8, clf__iterations=1000, clf__l2_leaf_reg=5, clf__learning_rate=0.1; total time=   9.2s\n",
      "[CV] END clf__depth=8, clf__iterations=1000, clf__l2_leaf_reg=7, clf__learning_rate=0.05; total time=   8.4s\n",
      "[CV] END ............................clf__learning_rate=0.05; total time=   4.4s\n",
      "[CV] END ......................clf__learning_rate=0.11397535; total time=   3.9s\n",
      "[CV] END ......................clf__learning_rate=0.06928203; total time=   5.3s\n",
      "[CV] END ......................clf__learning_rate=0.09390507; total time=   4.0s\n",
      "[CV] END clf__max_depth=10, clf__min_samples_split=2, clf__n_estimators=300; total time=   2.2s\n",
      "[CV] END clf__max_depth=10, clf__min_samples_split=2, clf__n_estimators=1000; total time=   7.9s\n",
      "[CV] END clf__max_depth=10, clf__min_samples_split=10, clf__n_estimators=300; total time=   2.5s\n",
      "[CV] END clf__max_depth=10, clf__min_samples_split=10, clf__n_estimators=500; total time=   3.4s\n",
      "[CV] END clf__max_depth=10, clf__min_samples_split=10, clf__n_estimators=1000; total time=   7.0s\n",
      "[CV] END clf__max_depth=20, clf__min_samples_split=2, clf__n_estimators=1000; total time=   7.6s\n",
      "[CV] END clf__max_depth=20, clf__min_samples_split=10, clf__n_estimators=300; total time=   2.3s\n",
      "[CV] END clf__max_depth=20, clf__min_samples_split=10, clf__n_estimators=500; total time=   3.7s\n",
      "[CV] END clf__max_depth=20, clf__min_samples_split=10, clf__n_estimators=1000; total time=   7.5s\n",
      "[CV] END clf__max_depth=None, clf__min_samples_split=5, clf__n_estimators=300; total time=   2.5s\n",
      "[CV] END clf__max_depth=None, clf__min_samples_split=5, clf__n_estimators=500; total time=   3.8s\n",
      "[CV] END clf__max_depth=None, clf__min_samples_split=5, clf__n_estimators=1000; total time=   7.3s\n",
      "[CV] END clf__learning_rate=0.01, clf__max_depth=3, clf__n_estimators=300, clf__subsample=0.6; total time=   0.2s\n",
      "[CV] END clf__learning_rate=0.01, clf__max_depth=3, clf__n_estimators=300, clf__subsample=1.0; total time=   0.2s\n",
      "[CV] END clf__learning_rate=0.01, clf__max_depth=3, clf__n_estimators=500, clf__subsample=0.8; total time=   0.3s\n",
      "[CV] END clf__learning_rate=0.01, clf__max_depth=3, clf__n_estimators=1000, clf__subsample=0.6; total time=   0.7s\n",
      "[CV] END clf__learning_rate=0.01, clf__max_depth=3, clf__n_estimators=1000, clf__subsample=1.0; total time=   0.6s\n",
      "[CV] END clf__learning_rate=0.01, clf__max_depth=5, clf__n_estimators=300, clf__subsample=1.0; total time=   0.4s\n",
      "[CV] END clf__learning_rate=0.01, clf__max_depth=5, clf__n_estimators=500, clf__subsample=0.8; total time=   0.6s\n",
      "[CV] END clf__learning_rate=0.01, clf__max_depth=5, clf__n_estimators=1000, clf__subsample=0.6; total time=   1.1s\n",
      "[CV] END clf__learning_rate=0.01, clf__max_depth=5, clf__n_estimators=1000, clf__subsample=1.0; total time=   1.0s\n",
      "[CV] END clf__learning_rate=0.01, clf__max_depth=7, clf__n_estimators=300, clf__subsample=0.8; total time=   0.7s\n",
      "[CV] END clf__learning_rate=0.01, clf__max_depth=7, clf__n_estimators=500, clf__subsample=0.6; total time=   0.9s\n",
      "[CV] END clf__learning_rate=0.01, clf__max_depth=7, clf__n_estimators=500, clf__subsample=1.0; total time=   1.0s\n",
      "[CV] END clf__learning_rate=0.01, clf__max_depth=7, clf__n_estimators=1000, clf__subsample=0.8; total time=   1.6s\n",
      "[CV] END clf__learning_rate=0.05, clf__max_depth=3, clf__n_estimators=300, clf__subsample=0.6; total time=   0.2s\n",
      "[CV] END clf__learning_rate=0.05, clf__max_depth=3, clf__n_estimators=300, clf__subsample=0.8; total time=   0.2s\n",
      "[CV] END clf__learning_rate=0.05, clf__max_depth=3, clf__n_estimators=300, clf__subsample=1.0; total time=   0.2s\n",
      "[CV] END clf__learning_rate=0.05, clf__max_depth=3, clf__n_estimators=500, clf__subsample=0.6; total time=   0.3s\n",
      "[CV] END clf__learning_rate=0.05, clf__max_depth=3, clf__n_estimators=500, clf__subsample=1.0; total time=   0.3s\n",
      "[CV] END clf__learning_rate=0.05, clf__max_depth=3, clf__n_estimators=1000, clf__subsample=0.8; total time=   0.6s\n",
      "[CV] END clf__learning_rate=0.05, clf__max_depth=5, clf__n_estimators=300, clf__subsample=0.6; total time=   0.3s\n",
      "[CV] END clf__learning_rate=0.05, clf__max_depth=5, clf__n_estimators=300, clf__subsample=1.0; total time=   0.3s\n",
      "[CV] END clf__learning_rate=0.05, clf__max_depth=5, clf__n_estimators=500, clf__subsample=0.8; total time=   0.4s\n",
      "[CV] END clf__learning_rate=0.05, clf__max_depth=5, clf__n_estimators=500, clf__subsample=1.0; total time=   0.5s\n",
      "[CV] END clf__learning_rate=0.05, clf__max_depth=5, clf__n_estimators=1000, clf__subsample=0.8; total time=   0.9s\n",
      "[CV] END clf__learning_rate=0.05, clf__max_depth=7, clf__n_estimators=300, clf__subsample=0.6; total time=   0.4s\n",
      "[CV] END clf__learning_rate=0.05, clf__max_depth=7, clf__n_estimators=300, clf__subsample=0.8; total time=   0.5s\n",
      "[CV] END clf__learning_rate=0.05, clf__max_depth=7, clf__n_estimators=500, clf__subsample=0.6; total time=   0.6s\n",
      "[CV] END clf__learning_rate=0.05, clf__max_depth=7, clf__n_estimators=500, clf__subsample=1.0; total time=   0.6s\n",
      "[CV] END clf__learning_rate=0.05, clf__max_depth=7, clf__n_estimators=1000, clf__subsample=0.8; total time=   1.2s\n",
      "[CV] END clf__learning_rate=0.1, clf__max_depth=3, clf__n_estimators=300, clf__subsample=0.6; total time=   0.3s\n",
      "[CV] END clf__learning_rate=0.1, clf__max_depth=3, clf__n_estimators=300, clf__subsample=0.8; total time=   0.2s\n",
      "[CV] END clf__learning_rate=0.1, clf__max_depth=3, clf__n_estimators=300, clf__subsample=1.0; total time=   0.4s\n",
      "[CV] END clf__learning_rate=0.1, clf__max_depth=3, clf__n_estimators=500, clf__subsample=0.6; total time=   0.6s\n",
      "[CV] END clf__learning_rate=0.1, clf__max_depth=3, clf__n_estimators=500, clf__subsample=1.0; total time=   0.6s\n",
      "[CV] END clf__learning_rate=0.1, clf__max_depth=3, clf__n_estimators=1000, clf__subsample=0.8; total time=   0.6s\n",
      "[CV] END clf__learning_rate=0.1, clf__max_depth=3, clf__n_estimators=1000, clf__subsample=1.0; total time=   0.5s\n",
      "[CV] END clf__learning_rate=0.1, clf__max_depth=5, clf__n_estimators=300, clf__subsample=1.0; total time=   0.3s\n",
      "[CV] END clf__learning_rate=0.1, clf__max_depth=5, clf__n_estimators=500, clf__subsample=0.8; total time=   0.5s\n",
      "[CV] END clf__learning_rate=0.1, clf__max_depth=5, clf__n_estimators=1000, clf__subsample=0.6; total time=   0.9s\n",
      "[CV] END clf__learning_rate=0.1, clf__max_depth=5, clf__n_estimators=1000, clf__subsample=1.0; total time=   0.8s\n",
      "[CV] END clf__learning_rate=0.1, clf__max_depth=7, clf__n_estimators=300, clf__subsample=1.0; total time=   0.4s\n",
      "[CV] END clf__learning_rate=0.1, clf__max_depth=7, clf__n_estimators=500, clf__subsample=0.8; total time=   0.6s\n",
      "[CV] END clf__learning_rate=0.1, clf__max_depth=7, clf__n_estimators=1000, clf__subsample=0.6; total time=   0.9s\n",
      "[CV] END clf__learning_rate=0.1, clf__max_depth=7, clf__n_estimators=1000, clf__subsample=1.0; total time=   0.9s\n",
      "[CV] END .......................clf__learning_rate=0.0658037; total time=   0.2s\n",
      "[CV] END ......................clf__learning_rate=0.11397535; total time=   0.1s\n",
      "[CV] END ............................clf__learning_rate=0.15; total time=   0.1s\n",
      "[CV] END ......................clf__learning_rate=0.13280183; total time=   0.1s\n",
      "[CV] END ......................clf__learning_rate=0.14696938; total time=   0.2s\n",
      "[CV] END ............................clf__learning_rate=0.18; total time=   0.1s\n",
      "[CV] END clf__depth=4, clf__iterations=500, clf__l2_leaf_reg=1, clf__learning_rate=0.05; total time=   1.5s\n",
      "[CV] END clf__depth=4, clf__iterations=500, clf__l2_leaf_reg=1, clf__learning_rate=0.1; total time=   1.8s\n",
      "[CV] END clf__depth=4, clf__iterations=500, clf__l2_leaf_reg=3, clf__learning_rate=0.1; total time=   1.5s\n",
      "[CV] END clf__depth=4, clf__iterations=500, clf__l2_leaf_reg=5, clf__learning_rate=0.05; total time=   1.8s\n",
      "[CV] END clf__depth=4, clf__iterations=500, clf__l2_leaf_reg=7, clf__learning_rate=0.01; total time=   1.8s\n",
      "[CV] END clf__depth=4, clf__iterations=500, clf__l2_leaf_reg=7, clf__learning_rate=0.1; total time=   1.2s\n",
      "[CV] END clf__depth=4, clf__iterations=1000, clf__l2_leaf_reg=1, clf__learning_rate=0.05; total time=   2.7s\n",
      "[CV] END clf__depth=4, clf__iterations=1000, clf__l2_leaf_reg=3, clf__learning_rate=0.01; total time=   2.5s\n",
      "[CV] END clf__depth=4, clf__iterations=1000, clf__l2_leaf_reg=3, clf__learning_rate=0.1; total time=   2.6s\n",
      "[CV] END clf__depth=4, clf__iterations=1000, clf__l2_leaf_reg=5, clf__learning_rate=0.05; total time=   2.4s\n",
      "[CV] END clf__depth=4, clf__iterations=1000, clf__l2_leaf_reg=5, clf__learning_rate=0.1; total time=   2.5s\n",
      "[CV] END clf__depth=4, clf__iterations=1000, clf__l2_leaf_reg=7, clf__learning_rate=0.05; total time=   3.1s\n",
      "[CV] END clf__depth=6, clf__iterations=500, clf__l2_leaf_reg=1, clf__learning_rate=0.05; total time=   3.6s\n",
      "[CV] END clf__depth=6, clf__iterations=500, clf__l2_leaf_reg=3, clf__learning_rate=0.1; total time=   2.5s\n",
      "[CV] END clf__depth=6, clf__iterations=500, clf__l2_leaf_reg=5, clf__learning_rate=0.05; total time=   2.2s\n",
      "[CV] END clf__depth=6, clf__iterations=500, clf__l2_leaf_reg=7, clf__learning_rate=0.01; total time=   2.1s\n",
      "[CV] END clf__depth=6, clf__iterations=500, clf__l2_leaf_reg=7, clf__learning_rate=0.1; total time=   2.2s\n",
      "[CV] END clf__depth=6, clf__iterations=1000, clf__l2_leaf_reg=1, clf__learning_rate=0.05; total time=   4.8s\n",
      "[CV] END clf__depth=6, clf__iterations=1000, clf__l2_leaf_reg=3, clf__learning_rate=0.01; total time=   4.1s\n",
      "[CV] END clf__depth=6, clf__iterations=1000, clf__l2_leaf_reg=3, clf__learning_rate=0.1; total time=   4.0s\n",
      "[CV] END clf__depth=6, clf__iterations=1000, clf__l2_leaf_reg=5, clf__learning_rate=0.05; total time=   4.5s\n",
      "[CV] END clf__depth=6, clf__iterations=1000, clf__l2_leaf_reg=7, clf__learning_rate=0.01; total time=   4.6s\n",
      "[CV] END clf__depth=6, clf__iterations=1000, clf__l2_leaf_reg=7, clf__learning_rate=0.1; total time=   4.5s\n",
      "[CV] END clf__depth=8, clf__iterations=500, clf__l2_leaf_reg=1, clf__learning_rate=0.05; total time=   4.9s\n",
      "[CV] END clf__depth=8, clf__iterations=500, clf__l2_leaf_reg=3, clf__learning_rate=0.01; total time=   4.6s\n",
      "[CV] END clf__depth=8, clf__iterations=500, clf__l2_leaf_reg=3, clf__learning_rate=0.1; total time=   4.1s\n",
      "[CV] END clf__depth=8, clf__iterations=500, clf__l2_leaf_reg=5, clf__learning_rate=0.05; total time=   5.1s\n",
      "[CV] END clf__depth=8, clf__iterations=500, clf__l2_leaf_reg=7, clf__learning_rate=0.01; total time=   3.8s\n",
      "[CV] END clf__depth=8, clf__iterations=500, clf__l2_leaf_reg=7, clf__learning_rate=0.1; total time=   4.9s\n",
      "[CV] END clf__depth=8, clf__iterations=1000, clf__l2_leaf_reg=1, clf__learning_rate=0.05; total time=   8.4s\n",
      "[CV] END clf__depth=8, clf__iterations=1000, clf__l2_leaf_reg=1, clf__learning_rate=0.1; total time=  10.5s\n",
      "[CV] END clf__depth=8, clf__iterations=1000, clf__l2_leaf_reg=3, clf__learning_rate=0.05; total time=  10.8s\n",
      "[CV] END clf__depth=8, clf__iterations=1000, clf__l2_leaf_reg=5, clf__learning_rate=0.05; total time=   9.6s\n",
      "[CV] END clf__depth=8, clf__iterations=1000, clf__l2_leaf_reg=7, clf__learning_rate=0.01; total time=   9.2s\n",
      "[CV] END clf__depth=8, clf__iterations=1000, clf__l2_leaf_reg=7, clf__learning_rate=0.1; total time=   7.0s\n",
      "[CV] END ............................clf__learning_rate=0.05; total time=   4.1s\n",
      "[CV] END ......................clf__learning_rate=0.08660254; total time=   4.2s\n",
      "[CV] END ......................clf__learning_rate=0.06928203; total time=   5.5s\n",
      "[CV] END ......................clf__learning_rate=0.09390507; total time=   3.8s\n"
     ]
    },
    {
     "name": "stdout",
     "output_type": "stream",
     "text": [
      "[CV] END clf__max_depth=10, clf__min_samples_split=2, clf__n_estimators=300; total time=   2.0s\n",
      "[CV] END clf__max_depth=10, clf__min_samples_split=2, clf__n_estimators=1000; total time=   7.8s\n",
      "[CV] END clf__max_depth=10, clf__min_samples_split=10, clf__n_estimators=300; total time=   2.3s\n",
      "[CV] END clf__max_depth=10, clf__min_samples_split=10, clf__n_estimators=500; total time=   3.7s\n",
      "[CV] END clf__max_depth=10, clf__min_samples_split=10, clf__n_estimators=1000; total time=   7.3s\n",
      "[CV] END clf__max_depth=20, clf__min_samples_split=2, clf__n_estimators=1000; total time=   7.6s\n",
      "[CV] END clf__max_depth=20, clf__min_samples_split=10, clf__n_estimators=300; total time=   2.2s\n",
      "[CV] END clf__max_depth=20, clf__min_samples_split=10, clf__n_estimators=500; total time=   3.7s\n",
      "[CV] END clf__max_depth=20, clf__min_samples_split=10, clf__n_estimators=1000; total time=   7.2s\n",
      "[CV] END clf__max_depth=None, clf__min_samples_split=5, clf__n_estimators=300; total time=   2.6s\n",
      "[CV] END clf__max_depth=None, clf__min_samples_split=5, clf__n_estimators=500; total time=   3.7s\n",
      "[CV] END clf__max_depth=None, clf__min_samples_split=5, clf__n_estimators=1000; total time=   7.5s\n",
      "[CV] END clf__learning_rate=0.01, clf__max_depth=3, clf__n_estimators=300, clf__subsample=0.6; total time=   0.2s\n",
      "[CV] END clf__learning_rate=0.01, clf__max_depth=3, clf__n_estimators=300, clf__subsample=1.0; total time=   0.2s\n",
      "[CV] END clf__learning_rate=0.01, clf__max_depth=3, clf__n_estimators=500, clf__subsample=0.8; total time=   0.4s\n",
      "[CV] END clf__learning_rate=0.01, clf__max_depth=3, clf__n_estimators=1000, clf__subsample=0.6; total time=   0.7s\n",
      "[CV] END clf__learning_rate=0.01, clf__max_depth=3, clf__n_estimators=1000, clf__subsample=1.0; total time=   0.6s\n",
      "[CV] END clf__learning_rate=0.01, clf__max_depth=5, clf__n_estimators=300, clf__subsample=0.8; total time=   0.4s\n",
      "[CV] END clf__learning_rate=0.01, clf__max_depth=5, clf__n_estimators=500, clf__subsample=0.6; total time=   0.5s\n",
      "[CV] END clf__learning_rate=0.01, clf__max_depth=5, clf__n_estimators=500, clf__subsample=1.0; total time=   0.7s\n",
      "[CV] END clf__learning_rate=0.01, clf__max_depth=5, clf__n_estimators=1000, clf__subsample=0.8; total time=   1.0s\n",
      "[CV] END clf__learning_rate=0.01, clf__max_depth=7, clf__n_estimators=300, clf__subsample=0.6; total time=   0.6s\n",
      "[CV] END clf__learning_rate=0.01, clf__max_depth=7, clf__n_estimators=300, clf__subsample=1.0; total time=   0.6s\n",
      "[CV] END clf__learning_rate=0.01, clf__max_depth=7, clf__n_estimators=500, clf__subsample=0.6; total time=   0.8s\n",
      "[CV] END clf__learning_rate=0.01, clf__max_depth=7, clf__n_estimators=500, clf__subsample=1.0; total time=   1.0s\n",
      "[CV] END clf__learning_rate=0.01, clf__max_depth=7, clf__n_estimators=1000, clf__subsample=0.8; total time=   1.7s\n",
      "[CV] END clf__learning_rate=0.05, clf__max_depth=3, clf__n_estimators=300, clf__subsample=0.6; total time=   0.2s\n",
      "[CV] END clf__learning_rate=0.05, clf__max_depth=3, clf__n_estimators=300, clf__subsample=0.8; total time=   0.2s\n",
      "[CV] END clf__learning_rate=0.05, clf__max_depth=3, clf__n_estimators=300, clf__subsample=1.0; total time=   0.2s\n",
      "[CV] END clf__learning_rate=0.05, clf__max_depth=3, clf__n_estimators=500, clf__subsample=0.6; total time=   0.3s\n",
      "[CV] END clf__learning_rate=0.05, clf__max_depth=3, clf__n_estimators=500, clf__subsample=1.0; total time=   0.3s\n",
      "[CV] END clf__learning_rate=0.05, clf__max_depth=3, clf__n_estimators=1000, clf__subsample=0.8; total time=   0.6s\n",
      "[CV] END clf__learning_rate=0.05, clf__max_depth=5, clf__n_estimators=300, clf__subsample=0.6; total time=   0.3s\n",
      "[CV] END clf__learning_rate=0.05, clf__max_depth=5, clf__n_estimators=300, clf__subsample=0.8; total time=   0.3s\n",
      "[CV] END clf__learning_rate=0.05, clf__max_depth=5, clf__n_estimators=500, clf__subsample=0.8; total time=   0.5s\n",
      "[CV] END clf__learning_rate=0.05, clf__max_depth=5, clf__n_estimators=500, clf__subsample=1.0; total time=   0.6s\n",
      "[CV] END clf__learning_rate=0.05, clf__max_depth=5, clf__n_estimators=1000, clf__subsample=0.8; total time=   0.9s\n",
      "[CV] END clf__learning_rate=0.05, clf__max_depth=7, clf__n_estimators=300, clf__subsample=0.6; total time=   0.5s\n",
      "[CV] END clf__learning_rate=0.05, clf__max_depth=7, clf__n_estimators=300, clf__subsample=1.0; total time=   0.5s\n",
      "[CV] END clf__learning_rate=0.05, clf__max_depth=7, clf__n_estimators=500, clf__subsample=0.8; total time=   0.7s\n",
      "[CV] END clf__learning_rate=0.05, clf__max_depth=7, clf__n_estimators=1000, clf__subsample=0.6; total time=   1.2s\n",
      "[CV] END clf__learning_rate=0.05, clf__max_depth=7, clf__n_estimators=1000, clf__subsample=1.0; total time=   1.4s\n",
      "[CV] END clf__learning_rate=0.1, clf__max_depth=3, clf__n_estimators=500, clf__subsample=0.6; total time=   0.6s\n",
      "[CV] END clf__learning_rate=0.1, clf__max_depth=3, clf__n_estimators=500, clf__subsample=0.8; total time=   0.4s\n",
      "[CV] END clf__learning_rate=0.1, clf__max_depth=3, clf__n_estimators=1000, clf__subsample=0.8; total time=   0.7s\n",
      "[CV] END clf__learning_rate=0.1, clf__max_depth=5, clf__n_estimators=300, clf__subsample=0.6; total time=   0.3s\n",
      "[CV] END clf__learning_rate=0.1, clf__max_depth=5, clf__n_estimators=300, clf__subsample=0.8; total time=   0.3s\n",
      "[CV] END clf__learning_rate=0.1, clf__max_depth=5, clf__n_estimators=500, clf__subsample=0.6; total time=   0.5s\n",
      "[CV] END clf__learning_rate=0.1, clf__max_depth=5, clf__n_estimators=500, clf__subsample=1.0; total time=   0.4s\n",
      "[CV] END clf__learning_rate=0.1, clf__max_depth=5, clf__n_estimators=1000, clf__subsample=0.8; total time=   0.9s\n",
      "[CV] END clf__learning_rate=0.1, clf__max_depth=7, clf__n_estimators=300, clf__subsample=0.6; total time=   0.4s\n",
      "[CV] END clf__learning_rate=0.1, clf__max_depth=7, clf__n_estimators=300, clf__subsample=1.0; total time=   0.4s\n",
      "[CV] END clf__learning_rate=0.1, clf__max_depth=7, clf__n_estimators=500, clf__subsample=0.8; total time=   0.6s\n",
      "[CV] END clf__learning_rate=0.1, clf__max_depth=7, clf__n_estimators=1000, clf__subsample=0.6; total time=   0.9s\n",
      "[CV] END clf__learning_rate=0.1, clf__max_depth=7, clf__n_estimators=1000, clf__subsample=1.0; total time=   0.8s\n",
      "[CV] END .......................clf__learning_rate=0.0658037; total time=   0.2s\n",
      "[CV] END ......................clf__learning_rate=0.11397535; total time=   0.1s\n",
      "[CV] END ............................clf__learning_rate=0.12; total time=   0.1s\n",
      "[CV] END ......................clf__learning_rate=0.14696938; total time=   0.1s\n",
      "[CV] END ............................clf__learning_rate=0.18; total time=   0.1s\n",
      "[CV] END clf__depth=4, clf__iterations=500, clf__l2_leaf_reg=1, clf__learning_rate=0.01; total time=   1.7s\n",
      "[CV] END clf__depth=4, clf__iterations=500, clf__l2_leaf_reg=3, clf__learning_rate=0.01; total time=   1.5s\n",
      "[CV] END clf__depth=4, clf__iterations=500, clf__l2_leaf_reg=3, clf__learning_rate=0.05; total time=   1.5s\n",
      "[CV] END clf__depth=4, clf__iterations=500, clf__l2_leaf_reg=5, clf__learning_rate=0.05; total time=   1.5s\n",
      "[CV] END clf__depth=4, clf__iterations=500, clf__l2_leaf_reg=5, clf__learning_rate=0.1; total time=   1.8s\n",
      "[CV] END clf__depth=4, clf__iterations=500, clf__l2_leaf_reg=7, clf__learning_rate=0.05; total time=   1.5s\n",
      "[CV] END clf__depth=4, clf__iterations=1000, clf__l2_leaf_reg=1, clf__learning_rate=0.05; total time=   3.0s\n",
      "[CV] END clf__depth=4, clf__iterations=1000, clf__l2_leaf_reg=3, clf__learning_rate=0.01; total time=   2.4s\n",
      "[CV] END clf__depth=4, clf__iterations=1000, clf__l2_leaf_reg=3, clf__learning_rate=0.1; total time=   2.5s\n",
      "[CV] END clf__depth=4, clf__iterations=1000, clf__l2_leaf_reg=5, clf__learning_rate=0.05; total time=   2.4s\n",
      "[CV] END clf__depth=4, clf__iterations=1000, clf__l2_leaf_reg=5, clf__learning_rate=0.1; total time=   2.6s\n",
      "[CV] END clf__depth=4, clf__iterations=1000, clf__l2_leaf_reg=7, clf__learning_rate=0.05; total time=   2.5s\n",
      "[CV] END clf__depth=6, clf__iterations=500, clf__l2_leaf_reg=1, clf__learning_rate=0.01; total time=   1.8s\n",
      "[CV] END clf__depth=6, clf__iterations=500, clf__l2_leaf_reg=1, clf__learning_rate=0.1; total time=   1.6s\n",
      "[CV] END clf__depth=6, clf__iterations=500, clf__l2_leaf_reg=3, clf__learning_rate=0.01; total time=   2.3s\n",
      "[CV] END clf__depth=6, clf__iterations=500, clf__l2_leaf_reg=5, clf__learning_rate=0.01; total time=   2.1s\n",
      "[CV] END clf__depth=6, clf__iterations=500, clf__l2_leaf_reg=5, clf__learning_rate=0.05; total time=   2.2s\n",
      "[CV] END clf__depth=6, clf__iterations=500, clf__l2_leaf_reg=7, clf__learning_rate=0.05; total time=   2.3s\n",
      "[CV] END clf__depth=6, clf__iterations=1000, clf__l2_leaf_reg=1, clf__learning_rate=0.01; total time=   5.1s\n",
      "[CV] END clf__depth=6, clf__iterations=1000, clf__l2_leaf_reg=1, clf__learning_rate=0.1; total time=   3.9s\n",
      "[CV] END clf__depth=6, clf__iterations=1000, clf__l2_leaf_reg=3, clf__learning_rate=0.05; total time=   4.1s\n",
      "[CV] END clf__depth=6, clf__iterations=1000, clf__l2_leaf_reg=5, clf__learning_rate=0.01; total time=   4.1s\n",
      "[CV] END clf__depth=6, clf__iterations=1000, clf__l2_leaf_reg=5, clf__learning_rate=0.1; total time=   3.9s\n",
      "[CV] END clf__depth=6, clf__iterations=1000, clf__l2_leaf_reg=7, clf__learning_rate=0.05; total time=   4.3s\n",
      "[CV] END clf__depth=8, clf__iterations=500, clf__l2_leaf_reg=1, clf__learning_rate=0.01; total time=   4.8s\n",
      "[CV] END clf__depth=8, clf__iterations=500, clf__l2_leaf_reg=1, clf__learning_rate=0.1; total time=   4.7s\n",
      "[CV] END clf__depth=8, clf__iterations=500, clf__l2_leaf_reg=3, clf__learning_rate=0.05; total time=   4.0s\n",
      "[CV] END clf__depth=8, clf__iterations=500, clf__l2_leaf_reg=5, clf__learning_rate=0.01; total time=   5.0s\n",
      "[CV] END clf__depth=8, clf__iterations=500, clf__l2_leaf_reg=5, clf__learning_rate=0.1; total time=   5.1s\n",
      "[CV] END clf__depth=8, clf__iterations=500, clf__l2_leaf_reg=7, clf__learning_rate=0.05; total time=   5.4s\n",
      "[CV] END clf__depth=8, clf__iterations=1000, clf__l2_leaf_reg=1, clf__learning_rate=0.01; total time=   8.8s\n",
      "[CV] END clf__depth=8, clf__iterations=1000, clf__l2_leaf_reg=1, clf__learning_rate=0.1; total time=   9.8s\n",
      "[CV] END clf__depth=8, clf__iterations=1000, clf__l2_leaf_reg=3, clf__learning_rate=0.05; total time=  11.7s\n",
      "[CV] END clf__depth=8, clf__iterations=1000, clf__l2_leaf_reg=5, clf__learning_rate=0.05; total time=   9.7s\n",
      "[CV] END clf__depth=8, clf__iterations=1000, clf__l2_leaf_reg=7, clf__learning_rate=0.01; total time=  10.8s\n",
      "[CV] END clf__depth=8, clf__iterations=1000, clf__l2_leaf_reg=7, clf__learning_rate=0.1; total time=   5.9s\n",
      "[CV] END .......................clf__learning_rate=0.0658037; total time=   4.6s\n",
      "[CV] END ......................clf__learning_rate=0.11397535; total time=   3.8s\n",
      "[CV] END ......................clf__learning_rate=0.06928203; total time=   5.4s\n",
      "[CV] END ......................clf__learning_rate=0.09390507; total time=   4.2s\n"
     ]
    },
    {
     "name": "stdout",
     "output_type": "stream",
     "text": [
      "[CV] END clf__max_depth=10, clf__min_samples_split=2, clf__n_estimators=300; total time=   2.1s\n",
      "[CV] END clf__max_depth=10, clf__min_samples_split=2, clf__n_estimators=1000; total time=   7.1s\n",
      "[CV] END clf__max_depth=10, clf__min_samples_split=5, clf__n_estimators=1000; total time=   7.3s\n",
      "[CV] END clf__max_depth=20, clf__min_samples_split=2, clf__n_estimators=300; total time=   2.7s\n",
      "[CV] END clf__max_depth=20, clf__min_samples_split=2, clf__n_estimators=500; total time=   4.0s\n",
      "[CV] END clf__max_depth=20, clf__min_samples_split=5, clf__n_estimators=300; total time=   2.3s\n",
      "[CV] END clf__max_depth=20, clf__min_samples_split=5, clf__n_estimators=500; total time=   3.8s\n",
      "[CV] END clf__max_depth=20, clf__min_samples_split=5, clf__n_estimators=1000; total time=   7.7s\n",
      "[CV] END clf__max_depth=None, clf__min_samples_split=2, clf__n_estimators=300; total time=   2.2s\n",
      "[CV] END clf__max_depth=None, clf__min_samples_split=2, clf__n_estimators=500; total time=   3.9s\n",
      "[CV] END clf__max_depth=None, clf__min_samples_split=2, clf__n_estimators=1000; total time=   8.1s\n",
      "[CV] END clf__max_depth=None, clf__min_samples_split=10, clf__n_estimators=300; total time=   2.1s\n",
      "[CV] END clf__max_depth=None, clf__min_samples_split=10, clf__n_estimators=500; total time=   3.6s\n",
      "[CV] END clf__max_depth=None, clf__min_samples_split=10, clf__n_estimators=1000; total time=   6.3s\n",
      "[CV] END clf__learning_rate=0.01, clf__max_depth=3, clf__n_estimators=300, clf__subsample=0.8; total time=   0.2s\n",
      "[CV] END clf__learning_rate=0.01, clf__max_depth=3, clf__n_estimators=300, clf__subsample=1.0; total time=   0.2s\n",
      "[CV] END clf__learning_rate=0.01, clf__max_depth=3, clf__n_estimators=500, clf__subsample=0.8; total time=   0.4s\n",
      "[CV] END clf__learning_rate=0.01, clf__max_depth=3, clf__n_estimators=1000, clf__subsample=0.6; total time=   0.7s\n",
      "[CV] END clf__learning_rate=0.01, clf__max_depth=3, clf__n_estimators=1000, clf__subsample=1.0; total time=   0.6s\n",
      "[CV] END clf__learning_rate=0.01, clf__max_depth=5, clf__n_estimators=300, clf__subsample=1.0; total time=   0.4s\n",
      "[CV] END clf__learning_rate=0.01, clf__max_depth=5, clf__n_estimators=500, clf__subsample=0.8; total time=   0.7s\n",
      "[CV] END clf__learning_rate=0.01, clf__max_depth=5, clf__n_estimators=1000, clf__subsample=0.6; total time=   1.0s\n",
      "[CV] END clf__learning_rate=0.01, clf__max_depth=5, clf__n_estimators=1000, clf__subsample=1.0; total time=   1.1s\n",
      "[CV] END clf__learning_rate=0.01, clf__max_depth=7, clf__n_estimators=300, clf__subsample=0.8; total time=   0.6s\n",
      "[CV] END clf__learning_rate=0.01, clf__max_depth=7, clf__n_estimators=500, clf__subsample=0.6; total time=   0.9s\n",
      "[CV] END clf__learning_rate=0.01, clf__max_depth=7, clf__n_estimators=500, clf__subsample=1.0; total time=   1.0s\n",
      "[CV] END clf__learning_rate=0.01, clf__max_depth=7, clf__n_estimators=1000, clf__subsample=0.8; total time=   1.6s\n",
      "[CV] END clf__learning_rate=0.05, clf__max_depth=3, clf__n_estimators=300, clf__subsample=0.6; total time=   0.2s\n",
      "[CV] END clf__learning_rate=0.05, clf__max_depth=3, clf__n_estimators=300, clf__subsample=0.8; total time=   0.2s\n",
      "[CV] END clf__learning_rate=0.05, clf__max_depth=3, clf__n_estimators=300, clf__subsample=1.0; total time=   0.2s\n",
      "[CV] END clf__learning_rate=0.05, clf__max_depth=3, clf__n_estimators=500, clf__subsample=0.6; total time=   0.4s\n",
      "[CV] END clf__learning_rate=0.05, clf__max_depth=3, clf__n_estimators=1000, clf__subsample=0.6; total time=   0.6s\n",
      "[CV] END clf__learning_rate=0.05, clf__max_depth=3, clf__n_estimators=1000, clf__subsample=1.0; total time=   0.5s\n",
      "[CV] END clf__learning_rate=0.05, clf__max_depth=5, clf__n_estimators=300, clf__subsample=0.8; total time=   0.3s\n",
      "[CV] END clf__learning_rate=0.05, clf__max_depth=5, clf__n_estimators=500, clf__subsample=0.6; total time=   0.5s\n",
      "[CV] END clf__learning_rate=0.05, clf__max_depth=5, clf__n_estimators=500, clf__subsample=1.0; total time=   0.5s\n",
      "[CV] END clf__learning_rate=0.05, clf__max_depth=5, clf__n_estimators=1000, clf__subsample=0.8; total time=   1.1s\n",
      "[CV] END clf__learning_rate=0.05, clf__max_depth=7, clf__n_estimators=300, clf__subsample=0.6; total time=   0.4s\n",
      "[CV] END clf__learning_rate=0.05, clf__max_depth=7, clf__n_estimators=300, clf__subsample=0.8; total time=   0.4s\n",
      "[CV] END clf__learning_rate=0.05, clf__max_depth=7, clf__n_estimators=500, clf__subsample=0.6; total time=   0.6s\n",
      "[CV] END clf__learning_rate=0.05, clf__max_depth=7, clf__n_estimators=500, clf__subsample=1.0; total time=   0.8s\n",
      "[CV] END clf__learning_rate=0.05, clf__max_depth=7, clf__n_estimators=1000, clf__subsample=0.8; total time=   1.2s\n",
      "[CV] END clf__learning_rate=0.1, clf__max_depth=3, clf__n_estimators=300, clf__subsample=0.6; total time=   0.2s\n",
      "[CV] END clf__learning_rate=0.1, clf__max_depth=3, clf__n_estimators=300, clf__subsample=0.8; total time=   0.5s\n",
      "[CV] END clf__learning_rate=0.1, clf__max_depth=3, clf__n_estimators=300, clf__subsample=1.0; total time=   0.2s\n",
      "[CV] END clf__learning_rate=0.1, clf__max_depth=3, clf__n_estimators=500, clf__subsample=0.6; total time=   0.6s\n",
      "[CV] END clf__learning_rate=0.1, clf__max_depth=3, clf__n_estimators=500, clf__subsample=1.0; total time=   0.5s\n",
      "[CV] END clf__learning_rate=0.1, clf__max_depth=3, clf__n_estimators=1000, clf__subsample=0.8; total time=   0.6s\n",
      "[CV] END clf__learning_rate=0.1, clf__max_depth=5, clf__n_estimators=300, clf__subsample=0.6; total time=   0.3s\n",
      "[CV] END clf__learning_rate=0.1, clf__max_depth=5, clf__n_estimators=300, clf__subsample=0.8; total time=   0.3s\n",
      "[CV] END clf__learning_rate=0.1, clf__max_depth=5, clf__n_estimators=500, clf__subsample=0.6; total time=   0.5s\n",
      "[CV] END clf__learning_rate=0.1, clf__max_depth=5, clf__n_estimators=500, clf__subsample=1.0; total time=   0.5s\n",
      "[CV] END clf__learning_rate=0.1, clf__max_depth=5, clf__n_estimators=1000, clf__subsample=0.8; total time=   0.8s\n",
      "[CV] END clf__learning_rate=0.1, clf__max_depth=7, clf__n_estimators=300, clf__subsample=0.6; total time=   0.4s\n",
      "[CV] END clf__learning_rate=0.1, clf__max_depth=7, clf__n_estimators=300, clf__subsample=0.8; total time=   0.4s\n",
      "[CV] END clf__learning_rate=0.1, clf__max_depth=7, clf__n_estimators=500, clf__subsample=0.6; total time=   0.5s\n",
      "[CV] END clf__learning_rate=0.1, clf__max_depth=7, clf__n_estimators=500, clf__subsample=1.0; total time=   0.6s\n",
      "[CV] END clf__learning_rate=0.1, clf__max_depth=7, clf__n_estimators=1000, clf__subsample=0.8; total time=   0.8s\n",
      "[CV] END ............................clf__learning_rate=0.05; total time=   0.2s\n",
      "[CV] END ......................clf__learning_rate=0.08660254; total time=   0.2s\n",
      "[CV] END ............................clf__learning_rate=0.15; total time=   0.1s\n",
      "[CV] END ......................clf__learning_rate=0.13280183; total time=   0.2s\n",
      "[CV] END ......................clf__learning_rate=0.16264836; total time=   0.1s\n",
      "[CV] END clf__depth=4, clf__iterations=500, clf__l2_leaf_reg=1, clf__learning_rate=0.01; total time=   1.6s\n",
      "[CV] END clf__depth=4, clf__iterations=500, clf__l2_leaf_reg=1, clf__learning_rate=0.1; total time=   1.6s\n",
      "[CV] END clf__depth=4, clf__iterations=500, clf__l2_leaf_reg=3, clf__learning_rate=0.1; total time=   1.5s\n",
      "[CV] END clf__depth=4, clf__iterations=500, clf__l2_leaf_reg=5, clf__learning_rate=0.01; total time=   1.5s\n",
      "[CV] END clf__depth=4, clf__iterations=500, clf__l2_leaf_reg=5, clf__learning_rate=0.1; total time=   1.8s\n",
      "[CV] END clf__depth=4, clf__iterations=500, clf__l2_leaf_reg=7, clf__learning_rate=0.1; total time=   1.6s\n",
      "[CV] END clf__depth=4, clf__iterations=1000, clf__l2_leaf_reg=1, clf__learning_rate=0.05; total time=   2.5s\n",
      "[CV] END clf__depth=4, clf__iterations=1000, clf__l2_leaf_reg=3, clf__learning_rate=0.01; total time=   2.4s\n",
      "[CV] END clf__depth=4, clf__iterations=1000, clf__l2_leaf_reg=3, clf__learning_rate=0.05; total time=   2.5s\n",
      "[CV] END clf__depth=4, clf__iterations=1000, clf__l2_leaf_reg=5, clf__learning_rate=0.01; total time=   2.4s\n",
      "[CV] END clf__depth=4, clf__iterations=1000, clf__l2_leaf_reg=5, clf__learning_rate=0.1; total time=   2.6s\n",
      "[CV] END clf__depth=4, clf__iterations=1000, clf__l2_leaf_reg=7, clf__learning_rate=0.05; total time=   2.5s\n",
      "[CV] END clf__depth=4, clf__iterations=1000, clf__l2_leaf_reg=7, clf__learning_rate=0.1; total time=   2.2s\n",
      "[CV] END clf__depth=6, clf__iterations=500, clf__l2_leaf_reg=1, clf__learning_rate=0.1; total time=   1.6s\n",
      "[CV] END clf__depth=6, clf__iterations=500, clf__l2_leaf_reg=3, clf__learning_rate=0.05; total time=   2.4s\n",
      "[CV] END clf__depth=6, clf__iterations=500, clf__l2_leaf_reg=5, clf__learning_rate=0.01; total time=   2.1s\n",
      "[CV] END clf__depth=6, clf__iterations=500, clf__l2_leaf_reg=5, clf__learning_rate=0.1; total time=   2.5s\n",
      "[CV] END clf__depth=6, clf__iterations=500, clf__l2_leaf_reg=7, clf__learning_rate=0.05; total time=   2.6s\n",
      "[CV] END clf__depth=6, clf__iterations=1000, clf__l2_leaf_reg=1, clf__learning_rate=0.01; total time=   4.7s\n",
      "[CV] END clf__depth=6, clf__iterations=1000, clf__l2_leaf_reg=3, clf__learning_rate=0.01; total time=   4.0s\n",
      "[CV] END clf__depth=6, clf__iterations=1000, clf__l2_leaf_reg=3, clf__learning_rate=0.1; total time=   4.2s\n",
      "[CV] END clf__depth=6, clf__iterations=1000, clf__l2_leaf_reg=5, clf__learning_rate=0.05; total time=   3.8s\n",
      "[CV] END clf__depth=6, clf__iterations=1000, clf__l2_leaf_reg=5, clf__learning_rate=0.1; total time=   4.1s\n",
      "[CV] END clf__depth=6, clf__iterations=1000, clf__l2_leaf_reg=7, clf__learning_rate=0.05; total time=   4.2s\n",
      "[CV] END clf__depth=8, clf__iterations=500, clf__l2_leaf_reg=1, clf__learning_rate=0.01; total time=   5.2s\n",
      "[CV] END clf__depth=8, clf__iterations=500, clf__l2_leaf_reg=1, clf__learning_rate=0.1; total time=   4.6s\n",
      "[CV] END clf__depth=8, clf__iterations=500, clf__l2_leaf_reg=3, clf__learning_rate=0.05; total time=   4.2s\n",
      "[CV] END clf__depth=8, clf__iterations=500, clf__l2_leaf_reg=5, clf__learning_rate=0.01; total time=   4.4s\n",
      "[CV] END clf__depth=8, clf__iterations=500, clf__l2_leaf_reg=5, clf__learning_rate=0.1; total time=   4.1s\n",
      "[CV] END clf__depth=8, clf__iterations=500, clf__l2_leaf_reg=7, clf__learning_rate=0.05; total time=   5.4s\n",
      "[CV] END clf__depth=8, clf__iterations=1000, clf__l2_leaf_reg=1, clf__learning_rate=0.01; total time=   9.1s\n",
      "[CV] END clf__depth=8, clf__iterations=1000, clf__l2_leaf_reg=1, clf__learning_rate=0.1; total time=   9.4s\n",
      "[CV] END clf__depth=8, clf__iterations=1000, clf__l2_leaf_reg=3, clf__learning_rate=0.05; total time=  10.0s\n",
      "[CV] END clf__depth=8, clf__iterations=1000, clf__l2_leaf_reg=5, clf__learning_rate=0.01; total time=   9.3s\n",
      "[CV] END clf__depth=8, clf__iterations=1000, clf__l2_leaf_reg=5, clf__learning_rate=0.1; total time=   9.3s\n",
      "[CV] END clf__depth=8, clf__iterations=1000, clf__l2_leaf_reg=7, clf__learning_rate=0.05; total time=  10.0s\n",
      "[CV] END .......................clf__learning_rate=0.0658037; total time=   4.3s\n",
      "[CV] END ......................clf__learning_rate=0.11397535; total time=   3.8s\n",
      "[CV] END ............................clf__learning_rate=0.15; total time=   2.6s\n",
      "[CV] END ......................clf__learning_rate=0.07667317; total time=   3.4s\n",
      "[CV] END ......................clf__learning_rate=0.08485281; total time=   3.9s\n",
      "[CV] END ......................clf__learning_rate=0.10392305; total time=   3.1s\n",
      "[CV] END clf__max_depth=10, clf__min_samples_split=2, clf__n_estimators=300; total time=   2.2s\n",
      "[CV] END clf__max_depth=10, clf__min_samples_split=2, clf__n_estimators=1000; total time=   8.0s\n",
      "[CV] END clf__max_depth=10, clf__min_samples_split=10, clf__n_estimators=300; total time=   2.4s\n",
      "[CV] END clf__max_depth=10, clf__min_samples_split=10, clf__n_estimators=500; total time=   3.4s\n",
      "[CV] END clf__max_depth=10, clf__min_samples_split=10, clf__n_estimators=1000; total time=   6.9s\n",
      "[CV] END clf__max_depth=20, clf__min_samples_split=5, clf__n_estimators=300; total time=   2.2s\n",
      "[CV] END clf__max_depth=20, clf__min_samples_split=5, clf__n_estimators=500; total time=   4.0s\n",
      "[CV] END clf__max_depth=20, clf__min_samples_split=5, clf__n_estimators=1000; total time=   7.3s\n",
      "[CV] END clf__max_depth=None, clf__min_samples_split=2, clf__n_estimators=300; total time=   2.4s\n",
      "[CV] END clf__max_depth=None, clf__min_samples_split=2, clf__n_estimators=500; total time=   3.7s\n",
      "[CV] END clf__max_depth=None, clf__min_samples_split=2, clf__n_estimators=1000; total time=   8.0s\n",
      "[CV] END clf__max_depth=None, clf__min_samples_split=10, clf__n_estimators=300; total time=   2.2s\n",
      "[CV] END clf__max_depth=None, clf__min_samples_split=10, clf__n_estimators=500; total time=   3.6s\n",
      "[CV] END clf__max_depth=None, clf__min_samples_split=10, clf__n_estimators=1000; total time=   6.3s\n",
      "[CV] END clf__learning_rate=0.01, clf__max_depth=3, clf__n_estimators=300, clf__subsample=0.6; total time=   0.2s\n",
      "[CV] END clf__learning_rate=0.01, clf__max_depth=3, clf__n_estimators=300, clf__subsample=1.0; total time=   0.2s\n",
      "[CV] END clf__learning_rate=0.01, clf__max_depth=3, clf__n_estimators=500, clf__subsample=0.8; total time=   0.3s\n",
      "[CV] END clf__learning_rate=0.01, clf__max_depth=3, clf__n_estimators=1000, clf__subsample=0.6; total time=   0.7s\n",
      "[CV] END clf__learning_rate=0.01, clf__max_depth=3, clf__n_estimators=1000, clf__subsample=1.0; total time=   0.6s\n",
      "[CV] END clf__learning_rate=0.01, clf__max_depth=5, clf__n_estimators=300, clf__subsample=0.8; total time=   0.4s\n",
      "[CV] END clf__learning_rate=0.01, clf__max_depth=5, clf__n_estimators=500, clf__subsample=0.6; total time=   0.6s\n",
      "[CV] END clf__learning_rate=0.01, clf__max_depth=5, clf__n_estimators=500, clf__subsample=1.0; total time=   0.7s\n",
      "[CV] END clf__learning_rate=0.01, clf__max_depth=5, clf__n_estimators=1000, clf__subsample=0.8; total time=   1.0s\n",
      "[CV] END clf__learning_rate=0.01, clf__max_depth=7, clf__n_estimators=300, clf__subsample=0.6; total time=   0.6s\n",
      "[CV] END clf__learning_rate=0.01, clf__max_depth=7, clf__n_estimators=300, clf__subsample=0.8; total time=   0.6s\n",
      "[CV] END clf__learning_rate=0.01, clf__max_depth=7, clf__n_estimators=500, clf__subsample=0.6; total time=   0.8s\n",
      "[CV] END clf__learning_rate=0.01, clf__max_depth=7, clf__n_estimators=500, clf__subsample=1.0; total time=   0.9s\n",
      "[CV] END clf__learning_rate=0.01, clf__max_depth=7, clf__n_estimators=1000, clf__subsample=0.8; total time=   1.6s\n",
      "[CV] END clf__learning_rate=0.05, clf__max_depth=3, clf__n_estimators=300, clf__subsample=0.6; total time=   0.2s\n",
      "[CV] END clf__learning_rate=0.05, clf__max_depth=3, clf__n_estimators=300, clf__subsample=0.6; total time=   0.2s\n",
      "[CV] END clf__learning_rate=0.05, clf__max_depth=3, clf__n_estimators=300, clf__subsample=0.8; total time=   0.2s\n",
      "[CV] END clf__learning_rate=0.05, clf__max_depth=3, clf__n_estimators=500, clf__subsample=0.6; total time=   0.3s\n",
      "[CV] END clf__learning_rate=0.05, clf__max_depth=3, clf__n_estimators=500, clf__subsample=0.8; total time=   0.3s\n",
      "[CV] END clf__learning_rate=0.05, clf__max_depth=3, clf__n_estimators=1000, clf__subsample=0.6; total time=   0.6s\n",
      "[CV] END clf__learning_rate=0.05, clf__max_depth=5, clf__n_estimators=300, clf__subsample=0.6; total time=   0.3s\n",
      "[CV] END clf__learning_rate=0.05, clf__max_depth=5, clf__n_estimators=300, clf__subsample=0.8; total time=   0.3s\n",
      "[CV] END clf__learning_rate=0.05, clf__max_depth=5, clf__n_estimators=500, clf__subsample=0.6; total time=   0.5s\n",
      "[CV] END clf__learning_rate=0.05, clf__max_depth=5, clf__n_estimators=500, clf__subsample=1.0; total time=   0.5s\n",
      "[CV] END clf__learning_rate=0.05, clf__max_depth=5, clf__n_estimators=1000, clf__subsample=0.8; total time=   1.0s\n",
      "[CV] END clf__learning_rate=0.05, clf__max_depth=7, clf__n_estimators=300, clf__subsample=0.6; total time=   0.5s\n",
      "[CV] END clf__learning_rate=0.05, clf__max_depth=7, clf__n_estimators=300, clf__subsample=1.0; total time=   0.4s\n",
      "[CV] END clf__learning_rate=0.05, clf__max_depth=7, clf__n_estimators=500, clf__subsample=0.6; total time=   0.6s\n",
      "[CV] END clf__learning_rate=0.05, clf__max_depth=7, clf__n_estimators=500, clf__subsample=1.0; total time=   0.8s\n",
      "[CV] END clf__learning_rate=0.05, clf__max_depth=7, clf__n_estimators=1000, clf__subsample=0.8; total time=   1.3s\n",
      "[CV] END clf__learning_rate=0.1, clf__max_depth=3, clf__n_estimators=300, clf__subsample=0.6; total time=   0.2s\n",
      "[CV] END clf__learning_rate=0.1, clf__max_depth=3, clf__n_estimators=300, clf__subsample=0.8; total time=   0.5s\n",
      "[CV] END clf__learning_rate=0.1, clf__max_depth=3, clf__n_estimators=300, clf__subsample=1.0; total time=   0.2s\n",
      "[CV] END clf__learning_rate=0.1, clf__max_depth=3, clf__n_estimators=500, clf__subsample=0.8; total time=   0.6s\n",
      "[CV] END clf__learning_rate=0.1, clf__max_depth=3, clf__n_estimators=1000, clf__subsample=0.6; total time=   0.9s\n",
      "[CV] END clf__learning_rate=0.1, clf__max_depth=3, clf__n_estimators=1000, clf__subsample=1.0; total time=   0.6s\n",
      "[CV] END clf__learning_rate=0.1, clf__max_depth=5, clf__n_estimators=300, clf__subsample=1.0; total time=   0.3s\n",
      "[CV] END clf__learning_rate=0.1, clf__max_depth=5, clf__n_estimators=500, clf__subsample=0.8; total time=   0.5s\n",
      "[CV] END clf__learning_rate=0.1, clf__max_depth=5, clf__n_estimators=1000, clf__subsample=0.6; total time=   0.8s\n",
      "[CV] END clf__learning_rate=0.1, clf__max_depth=5, clf__n_estimators=1000, clf__subsample=1.0; total time=   0.8s\n",
      "[CV] END clf__learning_rate=0.1, clf__max_depth=7, clf__n_estimators=300, clf__subsample=1.0; total time=   0.4s\n",
      "[CV] END clf__learning_rate=0.1, clf__max_depth=7, clf__n_estimators=500, clf__subsample=0.8; total time=   0.6s\n",
      "[CV] END clf__learning_rate=0.1, clf__max_depth=7, clf__n_estimators=1000, clf__subsample=0.6; total time=   1.0s\n",
      "[CV] END clf__learning_rate=0.1, clf__max_depth=7, clf__n_estimators=1000, clf__subsample=1.0; total time=   0.8s\n",
      "[CV] END .......................clf__learning_rate=0.0658037; total time=   0.2s\n",
      "[CV] END ......................clf__learning_rate=0.11397535; total time=   0.2s\n",
      "[CV] END ......................clf__learning_rate=0.13280183; total time=   0.2s\n",
      "[CV] END ......................clf__learning_rate=0.16264836; total time=   0.1s\n",
      "[CV] END clf__depth=4, clf__iterations=500, clf__l2_leaf_reg=1, clf__learning_rate=0.05; total time=   1.7s\n",
      "[CV] END clf__depth=4, clf__iterations=500, clf__l2_leaf_reg=3, clf__learning_rate=0.01; total time=   1.5s\n",
      "[CV] END clf__depth=4, clf__iterations=500, clf__l2_leaf_reg=3, clf__learning_rate=0.05; total time=   1.5s\n",
      "[CV] END clf__depth=4, clf__iterations=500, clf__l2_leaf_reg=5, clf__learning_rate=0.01; total time=   1.9s\n",
      "[CV] END clf__depth=4, clf__iterations=500, clf__l2_leaf_reg=7, clf__learning_rate=0.01; total time=   1.5s\n",
      "[CV] END clf__depth=4, clf__iterations=500, clf__l2_leaf_reg=7, clf__learning_rate=0.05; total time=   1.3s\n",
      "[CV] END clf__depth=4, clf__iterations=1000, clf__l2_leaf_reg=1, clf__learning_rate=0.01; total time=   2.7s\n",
      "[CV] END clf__depth=4, clf__iterations=1000, clf__l2_leaf_reg=1, clf__learning_rate=0.1; total time=   2.5s\n",
      "[CV] END clf__depth=4, clf__iterations=1000, clf__l2_leaf_reg=3, clf__learning_rate=0.05; total time=   2.7s\n",
      "[CV] END clf__depth=4, clf__iterations=1000, clf__l2_leaf_reg=5, clf__learning_rate=0.01; total time=   2.5s\n",
      "[CV] END clf__depth=4, clf__iterations=1000, clf__l2_leaf_reg=5, clf__learning_rate=0.1; total time=   2.5s\n",
      "[CV] END clf__depth=4, clf__iterations=1000, clf__l2_leaf_reg=7, clf__learning_rate=0.05; total time=   2.5s\n",
      "[CV] END clf__depth=6, clf__iterations=500, clf__l2_leaf_reg=1, clf__learning_rate=0.01; total time=   2.1s\n",
      "[CV] END clf__depth=6, clf__iterations=500, clf__l2_leaf_reg=1, clf__learning_rate=0.1; total time=   1.6s\n",
      "[CV] END clf__depth=6, clf__iterations=500, clf__l2_leaf_reg=3, clf__learning_rate=0.05; total time=   2.4s\n",
      "[CV] END clf__depth=6, clf__iterations=500, clf__l2_leaf_reg=5, clf__learning_rate=0.01; total time=   2.0s\n",
      "[CV] END clf__depth=6, clf__iterations=500, clf__l2_leaf_reg=5, clf__learning_rate=0.1; total time=   2.1s\n",
      "[CV] END clf__depth=6, clf__iterations=500, clf__l2_leaf_reg=7, clf__learning_rate=0.01; total time=   2.1s\n",
      "[CV] END clf__depth=6, clf__iterations=500, clf__l2_leaf_reg=7, clf__learning_rate=0.1; total time=   2.1s\n",
      "[CV] END clf__depth=6, clf__iterations=1000, clf__l2_leaf_reg=1, clf__learning_rate=0.05; total time=   4.9s\n",
      "[CV] END clf__depth=6, clf__iterations=1000, clf__l2_leaf_reg=3, clf__learning_rate=0.01; total time=   4.2s\n",
      "[CV] END clf__depth=6, clf__iterations=1000, clf__l2_leaf_reg=3, clf__learning_rate=0.1; total time=   4.0s\n",
      "[CV] END clf__depth=6, clf__iterations=1000, clf__l2_leaf_reg=5, clf__learning_rate=0.05; total time=   3.7s\n",
      "[CV] END clf__depth=6, clf__iterations=1000, clf__l2_leaf_reg=7, clf__learning_rate=0.01; total time=   4.5s\n",
      "[CV] END clf__depth=6, clf__iterations=1000, clf__l2_leaf_reg=7, clf__learning_rate=0.1; total time=   3.9s\n",
      "[CV] END clf__depth=8, clf__iterations=500, clf__l2_leaf_reg=1, clf__learning_rate=0.05; total time=   4.8s\n",
      "[CV] END clf__depth=8, clf__iterations=500, clf__l2_leaf_reg=3, clf__learning_rate=0.01; total time=   4.2s\n",
      "[CV] END clf__depth=8, clf__iterations=500, clf__l2_leaf_reg=3, clf__learning_rate=0.1; total time=   5.4s\n",
      "[CV] END clf__depth=8, clf__iterations=500, clf__l2_leaf_reg=5, clf__learning_rate=0.05; total time=   4.2s\n",
      "[CV] END clf__depth=8, clf__iterations=500, clf__l2_leaf_reg=7, clf__learning_rate=0.01; total time=   4.8s\n",
      "[CV] END clf__depth=8, clf__iterations=500, clf__l2_leaf_reg=7, clf__learning_rate=0.1; total time=   5.4s\n",
      "[CV] END clf__depth=8, clf__iterations=1000, clf__l2_leaf_reg=1, clf__learning_rate=0.05; total time=   9.6s\n",
      "[CV] END clf__depth=8, clf__iterations=1000, clf__l2_leaf_reg=3, clf__learning_rate=0.01; total time=  10.7s\n",
      "[CV] END clf__depth=8, clf__iterations=1000, clf__l2_leaf_reg=3, clf__learning_rate=0.1; total time=   8.2s\n",
      "[CV] END clf__depth=8, clf__iterations=1000, clf__l2_leaf_reg=5, clf__learning_rate=0.05; total time=   9.2s\n",
      "[CV] END clf__depth=8, clf__iterations=1000, clf__l2_leaf_reg=7, clf__learning_rate=0.01; total time=   8.5s\n",
      "[CV] END clf__depth=8, clf__iterations=1000, clf__l2_leaf_reg=7, clf__learning_rate=0.1; total time=   8.7s\n",
      "[CV] END ............................clf__learning_rate=0.05; total time=   4.4s\n",
      "[CV] END ......................clf__learning_rate=0.11397535; total time=   3.8s\n",
      "[CV] END ............................clf__learning_rate=0.15; total time=   2.6s\n",
      "[CV] END ......................clf__learning_rate=0.07667317; total time=   3.5s\n",
      "[CV] END ......................clf__learning_rate=0.08485281; total time=   4.1s\n",
      "[CV] END ......................clf__learning_rate=0.10392305; total time=   3.1s\n"
     ]
    },
    {
     "name": "stdout",
     "output_type": "stream",
     "text": [
      "[CV] END clf__max_depth=10, clf__min_samples_split=2, clf__n_estimators=500; total time=   3.4s\n",
      "[CV] END clf__max_depth=10, clf__min_samples_split=5, clf__n_estimators=300; total time=   2.2s\n",
      "[CV] END clf__max_depth=10, clf__min_samples_split=5, clf__n_estimators=500; total time=   3.7s\n",
      "[CV] END clf__max_depth=10, clf__min_samples_split=5, clf__n_estimators=1000; total time=   7.2s\n",
      "[CV] END clf__max_depth=20, clf__min_samples_split=2, clf__n_estimators=300; total time=   2.4s\n",
      "[CV] END clf__max_depth=20, clf__min_samples_split=2, clf__n_estimators=500; total time=   4.0s\n",
      "[CV] END clf__max_depth=20, clf__min_samples_split=5, clf__n_estimators=300; total time=   2.2s\n",
      "[CV] END clf__max_depth=20, clf__min_samples_split=5, clf__n_estimators=500; total time=   3.8s\n",
      "[CV] END clf__max_depth=20, clf__min_samples_split=5, clf__n_estimators=1000; total time=   7.6s\n",
      "[CV] END clf__max_depth=None, clf__min_samples_split=2, clf__n_estimators=300; total time=   2.4s\n",
      "[CV] END clf__max_depth=None, clf__min_samples_split=2, clf__n_estimators=500; total time=   3.7s\n",
      "[CV] END clf__max_depth=None, clf__min_samples_split=2, clf__n_estimators=1000; total time=   7.9s\n",
      "[CV] END clf__max_depth=None, clf__min_samples_split=10, clf__n_estimators=300; total time=   2.1s\n",
      "[CV] END clf__max_depth=None, clf__min_samples_split=10, clf__n_estimators=500; total time=   3.5s\n",
      "[CV] END clf__max_depth=None, clf__min_samples_split=10, clf__n_estimators=1000; total time=   6.3s\n",
      "[CV] END clf__learning_rate=0.01, clf__max_depth=3, clf__n_estimators=300, clf__subsample=0.8; total time=   0.3s\n",
      "[CV] END clf__learning_rate=0.01, clf__max_depth=3, clf__n_estimators=500, clf__subsample=0.6; total time=   0.4s\n",
      "[CV] END clf__learning_rate=0.01, clf__max_depth=3, clf__n_estimators=500, clf__subsample=1.0; total time=   0.3s\n",
      "[CV] END clf__learning_rate=0.01, clf__max_depth=3, clf__n_estimators=1000, clf__subsample=0.8; total time=   0.6s\n",
      "[CV] END clf__learning_rate=0.01, clf__max_depth=5, clf__n_estimators=300, clf__subsample=0.6; total time=   0.4s\n",
      "[CV] END clf__learning_rate=0.01, clf__max_depth=5, clf__n_estimators=300, clf__subsample=1.0; total time=   0.4s\n",
      "[CV] END clf__learning_rate=0.01, clf__max_depth=5, clf__n_estimators=500, clf__subsample=0.8; total time=   0.8s\n",
      "[CV] END clf__learning_rate=0.01, clf__max_depth=5, clf__n_estimators=1000, clf__subsample=0.6; total time=   1.0s\n",
      "[CV] END clf__learning_rate=0.01, clf__max_depth=5, clf__n_estimators=1000, clf__subsample=1.0; total time=   1.1s\n",
      "[CV] END clf__learning_rate=0.01, clf__max_depth=7, clf__n_estimators=300, clf__subsample=1.0; total time=   0.6s\n",
      "[CV] END clf__learning_rate=0.01, clf__max_depth=7, clf__n_estimators=500, clf__subsample=0.8; total time=   1.0s\n",
      "[CV] END clf__learning_rate=0.01, clf__max_depth=7, clf__n_estimators=1000, clf__subsample=0.6; total time=   1.6s\n",
      "[CV] END clf__learning_rate=0.01, clf__max_depth=7, clf__n_estimators=1000, clf__subsample=1.0; total time=   1.6s\n",
      "[CV] END clf__learning_rate=0.05, clf__max_depth=3, clf__n_estimators=500, clf__subsample=0.8; total time=   0.3s\n",
      "[CV] END clf__learning_rate=0.05, clf__max_depth=3, clf__n_estimators=1000, clf__subsample=0.6; total time=   0.6s\n",
      "[CV] END clf__learning_rate=0.05, clf__max_depth=3, clf__n_estimators=1000, clf__subsample=1.0; total time=   0.5s\n",
      "[CV] END clf__learning_rate=0.05, clf__max_depth=5, clf__n_estimators=300, clf__subsample=1.0; total time=   0.3s\n",
      "[CV] END clf__learning_rate=0.05, clf__max_depth=5, clf__n_estimators=500, clf__subsample=0.6; total time=   0.6s\n",
      "[CV] END clf__learning_rate=0.05, clf__max_depth=5, clf__n_estimators=1000, clf__subsample=0.6; total time=   1.0s\n",
      "[CV] END clf__learning_rate=0.05, clf__max_depth=5, clf__n_estimators=1000, clf__subsample=1.0; total time=   0.9s\n",
      "[CV] END clf__learning_rate=0.05, clf__max_depth=7, clf__n_estimators=300, clf__subsample=1.0; total time=   0.5s\n",
      "[CV] END clf__learning_rate=0.05, clf__max_depth=7, clf__n_estimators=500, clf__subsample=0.8; total time=   0.7s\n",
      "[CV] END clf__learning_rate=0.05, clf__max_depth=7, clf__n_estimators=1000, clf__subsample=0.6; total time=   1.1s\n",
      "[CV] END clf__learning_rate=0.05, clf__max_depth=7, clf__n_estimators=1000, clf__subsample=1.0; total time=   1.3s\n",
      "[CV] END clf__learning_rate=0.1, clf__max_depth=3, clf__n_estimators=500, clf__subsample=0.6; total time=   0.7s\n",
      "[CV] END clf__learning_rate=0.1, clf__max_depth=3, clf__n_estimators=500, clf__subsample=1.0; total time=   0.6s\n",
      "[CV] END clf__learning_rate=0.1, clf__max_depth=3, clf__n_estimators=1000, clf__subsample=0.8; total time=   0.7s\n",
      "[CV] END clf__learning_rate=0.1, clf__max_depth=5, clf__n_estimators=300, clf__subsample=0.6; total time=   0.3s\n",
      "[CV] END clf__learning_rate=0.1, clf__max_depth=5, clf__n_estimators=300, clf__subsample=1.0; total time=   0.3s\n",
      "[CV] END clf__learning_rate=0.1, clf__max_depth=5, clf__n_estimators=500, clf__subsample=0.8; total time=   0.5s\n",
      "[CV] END clf__learning_rate=0.1, clf__max_depth=5, clf__n_estimators=1000, clf__subsample=0.6; total time=   0.8s\n",
      "[CV] END clf__learning_rate=0.1, clf__max_depth=5, clf__n_estimators=1000, clf__subsample=1.0; total time=   0.8s\n",
      "[CV] END clf__learning_rate=0.1, clf__max_depth=7, clf__n_estimators=300, clf__subsample=0.8; total time=   0.4s\n",
      "[CV] END clf__learning_rate=0.1, clf__max_depth=7, clf__n_estimators=500, clf__subsample=0.8; total time=   0.5s\n",
      "[CV] END clf__learning_rate=0.1, clf__max_depth=7, clf__n_estimators=500, clf__subsample=1.0; total time=   0.6s\n",
      "[CV] END clf__learning_rate=0.1, clf__max_depth=7, clf__n_estimators=1000, clf__subsample=0.8; total time=   0.9s\n",
      "[CV] END .......................clf__learning_rate=0.0658037; total time=   0.2s\n",
      "[CV] END ......................clf__learning_rate=0.11397535; total time=   0.1s\n",
      "[CV] END ............................clf__learning_rate=0.15; total time=   0.1s\n",
      "[CV] END ............................clf__learning_rate=0.12; total time=   0.1s\n",
      "[CV] END ......................clf__learning_rate=0.14696938; total time=   0.2s\n",
      "[CV] END ............................clf__learning_rate=0.18; total time=   0.1s\n",
      "[CV] END clf__depth=4, clf__iterations=500, clf__l2_leaf_reg=1, clf__learning_rate=0.01; total time=   2.0s\n",
      "[CV] END clf__depth=4, clf__iterations=500, clf__l2_leaf_reg=3, clf__learning_rate=0.01; total time=   1.6s\n",
      "[CV] END clf__depth=4, clf__iterations=500, clf__l2_leaf_reg=3, clf__learning_rate=0.1; total time=   1.7s\n",
      "[CV] END clf__depth=4, clf__iterations=500, clf__l2_leaf_reg=5, clf__learning_rate=0.05; total time=   1.9s\n",
      "[CV] END clf__depth=4, clf__iterations=500, clf__l2_leaf_reg=7, clf__learning_rate=0.01; total time=   1.8s\n",
      "[CV] END clf__depth=4, clf__iterations=500, clf__l2_leaf_reg=7, clf__learning_rate=0.1; total time=   1.3s\n",
      "[CV] END clf__depth=4, clf__iterations=1000, clf__l2_leaf_reg=1, clf__learning_rate=0.05; total time=   2.8s\n",
      "[CV] END clf__depth=4, clf__iterations=1000, clf__l2_leaf_reg=3, clf__learning_rate=0.01; total time=   3.5s\n",
      "[CV] END clf__depth=4, clf__iterations=1000, clf__l2_leaf_reg=3, clf__learning_rate=0.1; total time=   2.3s\n",
      "[CV] END clf__depth=4, clf__iterations=1000, clf__l2_leaf_reg=5, clf__learning_rate=0.05; total time=   2.9s\n",
      "[CV] END clf__depth=4, clf__iterations=1000, clf__l2_leaf_reg=7, clf__learning_rate=0.01; total time=   2.7s\n",
      "[CV] END clf__depth=6, clf__iterations=500, clf__l2_leaf_reg=1, clf__learning_rate=0.01; total time=   2.0s\n",
      "[CV] END clf__depth=6, clf__iterations=500, clf__l2_leaf_reg=1, clf__learning_rate=0.05; total time=   1.6s\n",
      "[CV] END clf__depth=6, clf__iterations=500, clf__l2_leaf_reg=3, clf__learning_rate=0.01; total time=   2.1s\n",
      "[CV] END clf__depth=6, clf__iterations=500, clf__l2_leaf_reg=3, clf__learning_rate=0.1; total time=   2.1s\n",
      "[CV] END clf__depth=6, clf__iterations=500, clf__l2_leaf_reg=5, clf__learning_rate=0.05; total time=   2.4s\n",
      "[CV] END clf__depth=6, clf__iterations=500, clf__l2_leaf_reg=7, clf__learning_rate=0.01; total time=   2.3s\n",
      "[CV] END clf__depth=6, clf__iterations=500, clf__l2_leaf_reg=7, clf__learning_rate=0.1; total time=   2.0s\n",
      "[CV] END clf__depth=6, clf__iterations=1000, clf__l2_leaf_reg=1, clf__learning_rate=0.05; total time=   3.4s\n",
      "[CV] END clf__depth=6, clf__iterations=1000, clf__l2_leaf_reg=3, clf__learning_rate=0.01; total time=   4.2s\n",
      "[CV] END clf__depth=6, clf__iterations=1000, clf__l2_leaf_reg=3, clf__learning_rate=0.1; total time=   4.1s\n",
      "[CV] END clf__depth=6, clf__iterations=1000, clf__l2_leaf_reg=5, clf__learning_rate=0.05; total time=   4.2s\n",
      "[CV] END clf__depth=6, clf__iterations=1000, clf__l2_leaf_reg=7, clf__learning_rate=0.01; total time=   4.3s\n",
      "[CV] END clf__depth=6, clf__iterations=1000, clf__l2_leaf_reg=7, clf__learning_rate=0.1; total time=   5.3s\n",
      "[CV] END clf__depth=8, clf__iterations=500, clf__l2_leaf_reg=1, clf__learning_rate=0.05; total time=   5.0s\n",
      "[CV] END clf__depth=8, clf__iterations=500, clf__l2_leaf_reg=3, clf__learning_rate=0.01; total time=   4.5s\n",
      "[CV] END clf__depth=8, clf__iterations=500, clf__l2_leaf_reg=3, clf__learning_rate=0.1; total time=   4.3s\n",
      "[CV] END clf__depth=8, clf__iterations=500, clf__l2_leaf_reg=5, clf__learning_rate=0.05; total time=   4.7s\n",
      "[CV] END clf__depth=8, clf__iterations=500, clf__l2_leaf_reg=7, clf__learning_rate=0.01; total time=   4.2s\n",
      "[CV] END clf__depth=8, clf__iterations=500, clf__l2_leaf_reg=7, clf__learning_rate=0.1; total time=   4.6s\n",
      "[CV] END clf__depth=8, clf__iterations=1000, clf__l2_leaf_reg=1, clf__learning_rate=0.05; total time=   9.7s\n",
      "[CV] END clf__depth=8, clf__iterations=1000, clf__l2_leaf_reg=3, clf__learning_rate=0.01; total time=   9.1s\n",
      "[CV] END clf__depth=8, clf__iterations=1000, clf__l2_leaf_reg=3, clf__learning_rate=0.05; total time=   8.5s\n",
      "[CV] END clf__depth=8, clf__iterations=1000, clf__l2_leaf_reg=5, clf__learning_rate=0.01; total time=   8.8s\n",
      "[CV] END clf__depth=8, clf__iterations=1000, clf__l2_leaf_reg=5, clf__learning_rate=0.1; total time=   9.1s\n",
      "[CV] END clf__depth=8, clf__iterations=1000, clf__l2_leaf_reg=7, clf__learning_rate=0.05; total time=   7.7s\n",
      "[CV] END ............................clf__learning_rate=0.05; total time=   4.3s\n",
      "[CV] END ......................clf__learning_rate=0.08660254; total time=   3.9s\n",
      "[CV] END ............................clf__learning_rate=0.15; total time=   2.6s\n",
      "[CV] END ......................clf__learning_rate=0.07667317; total time=   3.4s\n",
      "[CV] END ......................clf__learning_rate=0.08485281; total time=   4.2s\n",
      "[CV] END ......................clf__learning_rate=0.10392305; total time=   3.1s\n",
      "[CV] END clf__max_depth=10, clf__min_samples_split=2, clf__n_estimators=500; total time=   3.4s\n",
      "[CV] END clf__max_depth=10, clf__min_samples_split=5, clf__n_estimators=300; total time=   2.3s\n",
      "[CV] END clf__max_depth=10, clf__min_samples_split=5, clf__n_estimators=500; total time=   3.8s\n",
      "[CV] END clf__max_depth=10, clf__min_samples_split=5, clf__n_estimators=1000; total time=   7.5s\n",
      "[CV] END clf__max_depth=20, clf__min_samples_split=2, clf__n_estimators=300; total time=   2.5s\n",
      "[CV] END clf__max_depth=20, clf__min_samples_split=2, clf__n_estimators=500; total time=   3.8s\n",
      "[CV] END clf__max_depth=20, clf__min_samples_split=5, clf__n_estimators=300; total time=   2.1s\n",
      "[CV] END clf__max_depth=20, clf__min_samples_split=5, clf__n_estimators=500; total time=   3.8s\n",
      "[CV] END clf__max_depth=20, clf__min_samples_split=5, clf__n_estimators=1000; total time=   7.7s\n",
      "[CV] END clf__max_depth=None, clf__min_samples_split=2, clf__n_estimators=300; total time=   2.3s\n",
      "[CV] END clf__max_depth=None, clf__min_samples_split=2, clf__n_estimators=500; total time=   3.8s\n",
      "[CV] END clf__max_depth=None, clf__min_samples_split=2, clf__n_estimators=1000; total time=   7.8s\n",
      "[CV] END clf__max_depth=None, clf__min_samples_split=10, clf__n_estimators=300; total time=   2.3s\n",
      "[CV] END clf__max_depth=None, clf__min_samples_split=10, clf__n_estimators=500; total time=   3.7s\n",
      "[CV] END clf__max_depth=None, clf__min_samples_split=10, clf__n_estimators=1000; total time=   6.2s\n",
      "[CV] END clf__learning_rate=0.01, clf__max_depth=3, clf__n_estimators=300, clf__subsample=0.8; total time=   0.2s\n",
      "[CV] END clf__learning_rate=0.01, clf__max_depth=3, clf__n_estimators=500, clf__subsample=0.6; total time=   0.3s\n",
      "[CV] END clf__learning_rate=0.01, clf__max_depth=3, clf__n_estimators=500, clf__subsample=1.0; total time=   0.3s\n",
      "[CV] END clf__learning_rate=0.01, clf__max_depth=3, clf__n_estimators=1000, clf__subsample=0.8; total time=   0.6s\n",
      "[CV] END clf__learning_rate=0.01, clf__max_depth=5, clf__n_estimators=300, clf__subsample=0.6; total time=   0.4s\n",
      "[CV] END clf__learning_rate=0.01, clf__max_depth=5, clf__n_estimators=300, clf__subsample=0.8; total time=   0.5s\n",
      "[CV] END clf__learning_rate=0.01, clf__max_depth=5, clf__n_estimators=500, clf__subsample=0.6; total time=   0.7s\n",
      "[CV] END clf__learning_rate=0.01, clf__max_depth=5, clf__n_estimators=500, clf__subsample=1.0; total time=   0.6s\n",
      "[CV] END clf__learning_rate=0.01, clf__max_depth=5, clf__n_estimators=1000, clf__subsample=0.8; total time=   1.0s\n",
      "[CV] END clf__learning_rate=0.01, clf__max_depth=7, clf__n_estimators=300, clf__subsample=0.6; total time=   0.6s\n",
      "[CV] END clf__learning_rate=0.01, clf__max_depth=7, clf__n_estimators=300, clf__subsample=1.0; total time=   0.7s\n",
      "[CV] END clf__learning_rate=0.01, clf__max_depth=7, clf__n_estimators=500, clf__subsample=0.8; total time=   1.0s\n",
      "[CV] END clf__learning_rate=0.01, clf__max_depth=7, clf__n_estimators=1000, clf__subsample=0.6; total time=   1.5s\n",
      "[CV] END clf__learning_rate=0.01, clf__max_depth=7, clf__n_estimators=1000, clf__subsample=1.0; total time=   1.6s\n",
      "[CV] END clf__learning_rate=0.05, clf__max_depth=3, clf__n_estimators=500, clf__subsample=0.8; total time=   0.3s\n",
      "[CV] END clf__learning_rate=0.05, clf__max_depth=3, clf__n_estimators=500, clf__subsample=1.0; total time=   0.3s\n",
      "[CV] END clf__learning_rate=0.05, clf__max_depth=3, clf__n_estimators=1000, clf__subsample=0.8; total time=   0.6s\n",
      "[CV] END clf__learning_rate=0.05, clf__max_depth=5, clf__n_estimators=300, clf__subsample=0.6; total time=   0.3s\n",
      "[CV] END clf__learning_rate=0.05, clf__max_depth=5, clf__n_estimators=300, clf__subsample=1.0; total time=   0.3s\n",
      "[CV] END clf__learning_rate=0.05, clf__max_depth=5, clf__n_estimators=500, clf__subsample=0.8; total time=   0.5s\n",
      "[CV] END clf__learning_rate=0.05, clf__max_depth=5, clf__n_estimators=1000, clf__subsample=0.6; total time=   0.9s\n",
      "[CV] END clf__learning_rate=0.05, clf__max_depth=5, clf__n_estimators=1000, clf__subsample=1.0; total time=   0.8s\n",
      "[CV] END clf__learning_rate=0.05, clf__max_depth=7, clf__n_estimators=300, clf__subsample=0.8; total time=   0.4s\n",
      "[CV] END clf__learning_rate=0.05, clf__max_depth=7, clf__n_estimators=500, clf__subsample=0.6; total time=   0.7s\n",
      "[CV] END clf__learning_rate=0.05, clf__max_depth=7, clf__n_estimators=500, clf__subsample=1.0; total time=   0.7s\n",
      "[CV] END clf__learning_rate=0.05, clf__max_depth=7, clf__n_estimators=1000, clf__subsample=0.8; total time=   1.2s\n",
      "[CV] END clf__learning_rate=0.1, clf__max_depth=3, clf__n_estimators=300, clf__subsample=0.6; total time=   0.2s\n",
      "[CV] END clf__learning_rate=0.1, clf__max_depth=3, clf__n_estimators=300, clf__subsample=0.8; total time=   0.4s\n",
      "[CV] END clf__learning_rate=0.1, clf__max_depth=3, clf__n_estimators=300, clf__subsample=1.0; total time=   0.2s\n",
      "[CV] END clf__learning_rate=0.1, clf__max_depth=3, clf__n_estimators=500, clf__subsample=0.8; total time=   0.6s\n",
      "[CV] END clf__learning_rate=0.1, clf__max_depth=3, clf__n_estimators=1000, clf__subsample=0.6; total time=   0.9s\n",
      "[CV] END clf__learning_rate=0.1, clf__max_depth=3, clf__n_estimators=1000, clf__subsample=1.0; total time=   0.6s\n",
      "[CV] END clf__learning_rate=0.1, clf__max_depth=5, clf__n_estimators=300, clf__subsample=0.8; total time=   0.3s\n",
      "[CV] END clf__learning_rate=0.1, clf__max_depth=5, clf__n_estimators=500, clf__subsample=0.6; total time=   0.5s\n",
      "[CV] END clf__learning_rate=0.1, clf__max_depth=5, clf__n_estimators=500, clf__subsample=1.0; total time=   0.5s\n",
      "[CV] END clf__learning_rate=0.1, clf__max_depth=5, clf__n_estimators=1000, clf__subsample=0.8; total time=   0.8s\n",
      "[CV] END clf__learning_rate=0.1, clf__max_depth=7, clf__n_estimators=300, clf__subsample=0.6; total time=   0.4s\n",
      "[CV] END clf__learning_rate=0.1, clf__max_depth=7, clf__n_estimators=300, clf__subsample=0.8; total time=   0.4s\n",
      "[CV] END clf__learning_rate=0.1, clf__max_depth=7, clf__n_estimators=500, clf__subsample=0.6; total time=   0.6s\n",
      "[CV] END clf__learning_rate=0.1, clf__max_depth=7, clf__n_estimators=500, clf__subsample=1.0; total time=   0.6s\n",
      "[CV] END clf__learning_rate=0.1, clf__max_depth=7, clf__n_estimators=1000, clf__subsample=0.8; total time=   1.0s\n",
      "[CV] END .......................clf__learning_rate=0.0658037; total time=   0.2s\n",
      "[CV] END ......................clf__learning_rate=0.08660254; total time=   0.2s\n",
      "[CV] END ......................clf__learning_rate=0.13280183; total time=   0.2s\n",
      "[CV] END ......................clf__learning_rate=0.16264836; total time=   0.1s\n",
      "[CV] END clf__depth=4, clf__iterations=500, clf__l2_leaf_reg=1, clf__learning_rate=0.05; total time=   1.5s\n",
      "[CV] END clf__depth=4, clf__iterations=500, clf__l2_leaf_reg=1, clf__learning_rate=0.1; total time=   1.5s\n",
      "[CV] END clf__depth=4, clf__iterations=500, clf__l2_leaf_reg=3, clf__learning_rate=0.05; total time=   1.5s\n",
      "[CV] END clf__depth=4, clf__iterations=500, clf__l2_leaf_reg=5, clf__learning_rate=0.01; total time=   1.9s\n",
      "[CV] END clf__depth=4, clf__iterations=500, clf__l2_leaf_reg=7, clf__learning_rate=0.01; total time=   1.6s\n",
      "[CV] END clf__depth=4, clf__iterations=500, clf__l2_leaf_reg=7, clf__learning_rate=0.1; total time=   1.3s\n",
      "[CV] END clf__depth=4, clf__iterations=1000, clf__l2_leaf_reg=1, clf__learning_rate=0.01; total time=   2.7s\n",
      "[CV] END clf__depth=4, clf__iterations=1000, clf__l2_leaf_reg=1, clf__learning_rate=0.1; total time=   2.5s\n",
      "[CV] END clf__depth=4, clf__iterations=1000, clf__l2_leaf_reg=3, clf__learning_rate=0.05; total time=   2.8s\n",
      "[CV] END clf__depth=4, clf__iterations=1000, clf__l2_leaf_reg=5, clf__learning_rate=0.01; total time=   2.4s\n",
      "[CV] END clf__depth=4, clf__iterations=1000, clf__l2_leaf_reg=5, clf__learning_rate=0.1; total time=   2.7s\n",
      "[CV] END clf__depth=4, clf__iterations=1000, clf__l2_leaf_reg=7, clf__learning_rate=0.1; total time=   2.5s\n",
      "[CV] END clf__depth=6, clf__iterations=500, clf__l2_leaf_reg=1, clf__learning_rate=0.01; total time=   2.0s\n",
      "[CV] END clf__depth=6, clf__iterations=500, clf__l2_leaf_reg=1, clf__learning_rate=0.1; total time=   3.1s\n",
      "[CV] END clf__depth=6, clf__iterations=500, clf__l2_leaf_reg=3, clf__learning_rate=0.1; total time=   2.1s\n",
      "[CV] END clf__depth=6, clf__iterations=500, clf__l2_leaf_reg=5, clf__learning_rate=0.05; total time=   2.4s\n",
      "[CV] END clf__depth=6, clf__iterations=500, clf__l2_leaf_reg=7, clf__learning_rate=0.01; total time=   1.9s\n",
      "[CV] END clf__depth=6, clf__iterations=500, clf__l2_leaf_reg=7, clf__learning_rate=0.1; total time=   2.2s\n",
      "[CV] END clf__depth=6, clf__iterations=1000, clf__l2_leaf_reg=1, clf__learning_rate=0.05; total time=   3.7s\n",
      "[CV] END clf__depth=6, clf__iterations=1000, clf__l2_leaf_reg=1, clf__learning_rate=0.1; total time=   3.9s\n",
      "[CV] END clf__depth=6, clf__iterations=1000, clf__l2_leaf_reg=3, clf__learning_rate=0.05; total time=   4.2s\n",
      "[CV] END clf__depth=6, clf__iterations=1000, clf__l2_leaf_reg=5, clf__learning_rate=0.01; total time=   4.0s\n",
      "[CV] END clf__depth=6, clf__iterations=1000, clf__l2_leaf_reg=5, clf__learning_rate=0.1; total time=   4.2s\n",
      "[CV] END clf__depth=6, clf__iterations=1000, clf__l2_leaf_reg=7, clf__learning_rate=0.05; total time=   4.4s\n",
      "[CV] END clf__depth=8, clf__iterations=500, clf__l2_leaf_reg=1, clf__learning_rate=0.01; total time=   4.5s\n",
      "[CV] END clf__depth=8, clf__iterations=500, clf__l2_leaf_reg=1, clf__learning_rate=0.1; total time=   4.9s\n",
      "[CV] END clf__depth=8, clf__iterations=500, clf__l2_leaf_reg=3, clf__learning_rate=0.05; total time=   4.2s\n",
      "[CV] END clf__depth=8, clf__iterations=500, clf__l2_leaf_reg=5, clf__learning_rate=0.01; total time=   4.7s\n",
      "[CV] END clf__depth=8, clf__iterations=500, clf__l2_leaf_reg=5, clf__learning_rate=0.1; total time=   4.8s\n",
      "[CV] END clf__depth=8, clf__iterations=500, clf__l2_leaf_reg=7, clf__learning_rate=0.05; total time=   4.6s\n",
      "[CV] END clf__depth=8, clf__iterations=1000, clf__l2_leaf_reg=1, clf__learning_rate=0.01; total time=  10.6s\n",
      "[CV] END clf__depth=8, clf__iterations=1000, clf__l2_leaf_reg=1, clf__learning_rate=0.1; total time=   8.8s\n",
      "[CV] END clf__depth=8, clf__iterations=1000, clf__l2_leaf_reg=3, clf__learning_rate=0.05; total time=  10.3s\n",
      "[CV] END clf__depth=8, clf__iterations=1000, clf__l2_leaf_reg=5, clf__learning_rate=0.01; total time=   8.8s\n",
      "[CV] END clf__depth=8, clf__iterations=1000, clf__l2_leaf_reg=5, clf__learning_rate=0.1; total time=   9.3s\n",
      "[CV] END clf__depth=8, clf__iterations=1000, clf__l2_leaf_reg=7, clf__learning_rate=0.05; total time=   8.3s\n",
      "[CV] END .......................clf__learning_rate=0.0658037; total time=   4.1s\n",
      "[CV] END ......................clf__learning_rate=0.08660254; total time=   3.8s\n",
      "[CV] END ............................clf__learning_rate=0.15; total time=   2.7s\n",
      "[CV] END ......................clf__learning_rate=0.07667317; total time=   3.8s\n",
      "[CV] END ......................clf__learning_rate=0.09390507; total time=   3.9s\n",
      "[CV] END ......................clf__learning_rate=0.10392305; total time=   3.1s\n"
     ]
    },
    {
     "name": "stdout",
     "output_type": "stream",
     "text": [
      "[CV] END clf__max_depth=10, clf__min_samples_split=2, clf__n_estimators=500; total time=   3.7s\n",
      "[CV] END clf__max_depth=10, clf__min_samples_split=5, clf__n_estimators=300; total time=   2.4s\n",
      "[CV] END clf__max_depth=10, clf__min_samples_split=5, clf__n_estimators=500; total time=   3.9s\n",
      "[CV] END clf__max_depth=10, clf__min_samples_split=10, clf__n_estimators=300; total time=   2.2s\n",
      "[CV] END clf__max_depth=10, clf__min_samples_split=10, clf__n_estimators=500; total time=   3.5s\n",
      "[CV] END clf__max_depth=10, clf__min_samples_split=10, clf__n_estimators=1000; total time=   7.3s\n",
      "[CV] END clf__max_depth=20, clf__min_samples_split=2, clf__n_estimators=1000; total time=   7.4s\n",
      "[CV] END clf__max_depth=20, clf__min_samples_split=10, clf__n_estimators=300; total time=   2.2s\n",
      "[CV] END clf__max_depth=20, clf__min_samples_split=10, clf__n_estimators=500; total time=   3.8s\n",
      "[CV] END clf__max_depth=20, clf__min_samples_split=10, clf__n_estimators=1000; total time=   7.2s\n",
      "[CV] END clf__max_depth=None, clf__min_samples_split=5, clf__n_estimators=300; total time=   2.6s\n",
      "[CV] END clf__max_depth=None, clf__min_samples_split=5, clf__n_estimators=500; total time=   3.8s\n",
      "[CV] END clf__max_depth=None, clf__min_samples_split=5, clf__n_estimators=1000; total time=   7.3s\n",
      "[CV] END clf__learning_rate=0.01, clf__max_depth=3, clf__n_estimators=300, clf__subsample=0.8; total time=   0.2s\n",
      "[CV] END clf__learning_rate=0.01, clf__max_depth=3, clf__n_estimators=500, clf__subsample=0.6; total time=   0.3s\n",
      "[CV] END clf__learning_rate=0.01, clf__max_depth=3, clf__n_estimators=500, clf__subsample=1.0; total time=   0.3s\n",
      "[CV] END clf__learning_rate=0.01, clf__max_depth=3, clf__n_estimators=1000, clf__subsample=0.8; total time=   0.6s\n",
      "[CV] END clf__learning_rate=0.01, clf__max_depth=5, clf__n_estimators=300, clf__subsample=0.6; total time=   0.4s\n",
      "[CV] END clf__learning_rate=0.01, clf__max_depth=5, clf__n_estimators=300, clf__subsample=0.8; total time=   0.4s\n",
      "[CV] END clf__learning_rate=0.01, clf__max_depth=5, clf__n_estimators=500, clf__subsample=0.6; total time=   0.6s\n",
      "[CV] END clf__learning_rate=0.01, clf__max_depth=5, clf__n_estimators=500, clf__subsample=1.0; total time=   0.6s\n",
      "[CV] END clf__learning_rate=0.01, clf__max_depth=5, clf__n_estimators=1000, clf__subsample=0.8; total time=   1.0s\n",
      "[CV] END clf__learning_rate=0.01, clf__max_depth=7, clf__n_estimators=300, clf__subsample=0.6; total time=   0.6s\n",
      "[CV] END clf__learning_rate=0.01, clf__max_depth=7, clf__n_estimators=300, clf__subsample=0.8; total time=   0.7s\n",
      "[CV] END clf__learning_rate=0.01, clf__max_depth=7, clf__n_estimators=500, clf__subsample=0.6; total time=   1.0s\n",
      "[CV] END clf__learning_rate=0.01, clf__max_depth=7, clf__n_estimators=500, clf__subsample=1.0; total time=   1.0s\n",
      "[CV] END clf__learning_rate=0.01, clf__max_depth=7, clf__n_estimators=1000, clf__subsample=0.8; total time=   1.7s\n",
      "[CV] END clf__learning_rate=0.05, clf__max_depth=3, clf__n_estimators=300, clf__subsample=0.8; total time=   0.2s\n",
      "[CV] END clf__learning_rate=0.05, clf__max_depth=3, clf__n_estimators=300, clf__subsample=1.0; total time=   0.1s\n",
      "[CV] END clf__learning_rate=0.05, clf__max_depth=3, clf__n_estimators=300, clf__subsample=1.0; total time=   0.2s\n",
      "[CV] END clf__learning_rate=0.05, clf__max_depth=3, clf__n_estimators=500, clf__subsample=0.8; total time=   0.3s\n",
      "[CV] END clf__learning_rate=0.05, clf__max_depth=3, clf__n_estimators=1000, clf__subsample=0.6; total time=   0.6s\n",
      "[CV] END clf__learning_rate=0.05, clf__max_depth=3, clf__n_estimators=1000, clf__subsample=1.0; total time=   0.5s\n",
      "[CV] END clf__learning_rate=0.05, clf__max_depth=5, clf__n_estimators=300, clf__subsample=0.8; total time=   0.3s\n",
      "[CV] END clf__learning_rate=0.05, clf__max_depth=5, clf__n_estimators=500, clf__subsample=0.8; total time=   0.5s\n",
      "[CV] END clf__learning_rate=0.05, clf__max_depth=5, clf__n_estimators=1000, clf__subsample=0.6; total time=   1.0s\n",
      "[CV] END clf__learning_rate=0.05, clf__max_depth=5, clf__n_estimators=1000, clf__subsample=1.0; total time=   0.8s\n",
      "[CV] END clf__learning_rate=0.05, clf__max_depth=7, clf__n_estimators=300, clf__subsample=0.8; total time=   0.5s\n",
      "[CV] END clf__learning_rate=0.05, clf__max_depth=7, clf__n_estimators=500, clf__subsample=0.8; total time=   0.6s\n",
      "[CV] END clf__learning_rate=0.05, clf__max_depth=7, clf__n_estimators=500, clf__subsample=1.0; total time=   0.6s\n",
      "[CV] END clf__learning_rate=0.05, clf__max_depth=7, clf__n_estimators=1000, clf__subsample=0.8; total time=   1.3s\n",
      "[CV] END clf__learning_rate=0.1, clf__max_depth=3, clf__n_estimators=300, clf__subsample=0.6; total time=   0.2s\n",
      "[CV] END clf__learning_rate=0.1, clf__max_depth=3, clf__n_estimators=300, clf__subsample=0.8; total time=   0.5s\n",
      "[CV] END clf__learning_rate=0.1, clf__max_depth=3, clf__n_estimators=300, clf__subsample=1.0; total time=   0.3s\n",
      "[CV] END clf__learning_rate=0.1, clf__max_depth=3, clf__n_estimators=500, clf__subsample=0.8; total time=   0.7s\n",
      "[CV] END clf__learning_rate=0.1, clf__max_depth=3, clf__n_estimators=1000, clf__subsample=0.6; total time=   0.9s\n",
      "[CV] END clf__learning_rate=0.1, clf__max_depth=3, clf__n_estimators=1000, clf__subsample=1.0; total time=   0.6s\n",
      "[CV] END clf__learning_rate=0.1, clf__max_depth=5, clf__n_estimators=300, clf__subsample=1.0; total time=   0.3s\n",
      "[CV] END clf__learning_rate=0.1, clf__max_depth=5, clf__n_estimators=500, clf__subsample=0.6; total time=   0.5s\n",
      "[CV] END clf__learning_rate=0.1, clf__max_depth=5, clf__n_estimators=500, clf__subsample=1.0; total time=   0.5s\n",
      "[CV] END clf__learning_rate=0.1, clf__max_depth=5, clf__n_estimators=1000, clf__subsample=0.8; total time=   0.9s\n",
      "[CV] END clf__learning_rate=0.1, clf__max_depth=7, clf__n_estimators=300, clf__subsample=0.6; total time=   0.4s\n",
      "[CV] END clf__learning_rate=0.1, clf__max_depth=7, clf__n_estimators=300, clf__subsample=1.0; total time=   0.4s\n",
      "[CV] END clf__learning_rate=0.1, clf__max_depth=7, clf__n_estimators=500, clf__subsample=0.6; total time=   0.6s\n",
      "[CV] END clf__learning_rate=0.1, clf__max_depth=7, clf__n_estimators=1000, clf__subsample=0.6; total time=   0.9s\n",
      "[CV] END clf__learning_rate=0.1, clf__max_depth=7, clf__n_estimators=1000, clf__subsample=1.0; total time=   0.9s\n",
      "[CV] END ............................clf__learning_rate=0.05; total time=   0.2s\n",
      "[CV] END ......................clf__learning_rate=0.08660254; total time=   0.2s\n",
      "[CV] END ............................clf__learning_rate=0.15; total time=   0.1s\n",
      "[CV] END ............................clf__learning_rate=0.12; total time=   0.1s\n",
      "[CV] END ......................clf__learning_rate=0.14696938; total time=   0.2s\n",
      "[CV] END clf__depth=4, clf__iterations=500, clf__l2_leaf_reg=1, clf__learning_rate=0.05; total time=   1.7s\n",
      "[CV] END clf__depth=4, clf__iterations=500, clf__l2_leaf_reg=3, clf__learning_rate=0.01; total time=   1.6s\n",
      "[CV] END clf__depth=4, clf__iterations=500, clf__l2_leaf_reg=3, clf__learning_rate=0.1; total time=   1.4s\n",
      "[CV] END clf__depth=4, clf__iterations=500, clf__l2_leaf_reg=5, clf__learning_rate=0.05; total time=   1.4s\n",
      "[CV] END clf__depth=4, clf__iterations=500, clf__l2_leaf_reg=5, clf__learning_rate=0.1; total time=   1.8s\n",
      "[CV] END clf__depth=4, clf__iterations=500, clf__l2_leaf_reg=7, clf__learning_rate=0.05; total time=   1.6s\n",
      "[CV] END clf__depth=4, clf__iterations=1000, clf__l2_leaf_reg=1, clf__learning_rate=0.05; total time=   2.7s\n",
      "[CV] END clf__depth=4, clf__iterations=1000, clf__l2_leaf_reg=3, clf__learning_rate=0.01; total time=   2.6s\n",
      "[CV] END clf__depth=4, clf__iterations=1000, clf__l2_leaf_reg=3, clf__learning_rate=0.1; total time=   2.8s\n",
      "[CV] END clf__depth=4, clf__iterations=1000, clf__l2_leaf_reg=5, clf__learning_rate=0.05; total time=   2.5s\n",
      "[CV] END clf__depth=4, clf__iterations=1000, clf__l2_leaf_reg=7, clf__learning_rate=0.01; total time=   2.4s\n",
      "[CV] END clf__depth=4, clf__iterations=1000, clf__l2_leaf_reg=7, clf__learning_rate=0.1; total time=   2.4s\n",
      "[CV] END clf__depth=6, clf__iterations=500, clf__l2_leaf_reg=1, clf__learning_rate=0.05; total time=   1.9s\n",
      "[CV] END clf__depth=6, clf__iterations=500, clf__l2_leaf_reg=3, clf__learning_rate=0.01; total time=   1.8s\n",
      "[CV] END clf__depth=6, clf__iterations=500, clf__l2_leaf_reg=3, clf__learning_rate=0.05; total time=   2.2s\n",
      "[CV] END clf__depth=6, clf__iterations=500, clf__l2_leaf_reg=5, clf__learning_rate=0.01; total time=   2.2s\n",
      "[CV] END clf__depth=6, clf__iterations=500, clf__l2_leaf_reg=5, clf__learning_rate=0.1; total time=   2.2s\n",
      "[CV] END clf__depth=6, clf__iterations=500, clf__l2_leaf_reg=7, clf__learning_rate=0.05; total time=   2.1s\n",
      "[CV] END clf__depth=6, clf__iterations=1000, clf__l2_leaf_reg=1, clf__learning_rate=0.01; total time=   3.9s\n",
      "[CV] END clf__depth=6, clf__iterations=1000, clf__l2_leaf_reg=1, clf__learning_rate=0.1; total time=   3.5s\n",
      "[CV] END clf__depth=6, clf__iterations=1000, clf__l2_leaf_reg=3, clf__learning_rate=0.05; total time=   4.1s\n",
      "[CV] END clf__depth=6, clf__iterations=1000, clf__l2_leaf_reg=5, clf__learning_rate=0.01; total time=   3.9s\n",
      "[CV] END clf__depth=6, clf__iterations=1000, clf__l2_leaf_reg=5, clf__learning_rate=0.1; total time=   3.9s\n",
      "[CV] END clf__depth=6, clf__iterations=1000, clf__l2_leaf_reg=7, clf__learning_rate=0.05; total time=   4.4s\n",
      "[CV] END clf__depth=6, clf__iterations=1000, clf__l2_leaf_reg=7, clf__learning_rate=0.1; total time=   4.3s\n",
      "[CV] END clf__depth=8, clf__iterations=500, clf__l2_leaf_reg=1, clf__learning_rate=0.05; total time=   5.6s\n",
      "[CV] END clf__depth=8, clf__iterations=500, clf__l2_leaf_reg=3, clf__learning_rate=0.05; total time=   4.5s\n",
      "[CV] END clf__depth=8, clf__iterations=500, clf__l2_leaf_reg=3, clf__learning_rate=0.1; total time=   5.2s\n",
      "[CV] END clf__depth=8, clf__iterations=500, clf__l2_leaf_reg=5, clf__learning_rate=0.05; total time=   5.9s\n",
      "[CV] END clf__depth=8, clf__iterations=500, clf__l2_leaf_reg=7, clf__learning_rate=0.1; total time=   5.2s\n",
      "[CV] END clf__depth=8, clf__iterations=1000, clf__l2_leaf_reg=1, clf__learning_rate=0.01; total time=  10.3s\n",
      "[CV] END clf__depth=8, clf__iterations=1000, clf__l2_leaf_reg=3, clf__learning_rate=0.01; total time=  10.3s\n",
      "[CV] END clf__depth=8, clf__iterations=1000, clf__l2_leaf_reg=3, clf__learning_rate=0.1; total time=  10.4s\n",
      "[CV] END clf__depth=8, clf__iterations=1000, clf__l2_leaf_reg=5, clf__learning_rate=0.05; total time=   8.3s\n",
      "[CV] END clf__depth=8, clf__iterations=1000, clf__l2_leaf_reg=7, clf__learning_rate=0.01; total time=  11.7s\n",
      "[CV] END clf__depth=8, clf__iterations=1000, clf__l2_leaf_reg=7, clf__learning_rate=0.1; total time=   5.9s\n",
      "[CV] END .......................clf__learning_rate=0.0658037; total time=   4.4s\n",
      "[CV] END ......................clf__learning_rate=0.11397535; total time=   3.9s\n",
      "[CV] END ......................clf__learning_rate=0.07667317; total time=   3.8s\n",
      "[CV] END ......................clf__learning_rate=0.08485281; total time=   4.0s\n",
      "[CV] END ......................clf__learning_rate=0.10392305; total time=   3.0s\n"
     ]
    }
   ],
   "source": [
    "report = gm.generate_search_report()"
   ]
  }
 ],
 "metadata": {
  "kernelspec": {
   "display_name": "Python 3 (ipykernel)",
   "language": "python",
   "name": "python3"
  },
  "language_info": {
   "codemirror_mode": {
    "name": "ipython",
    "version": 3
   },
   "file_extension": ".py",
   "mimetype": "text/x-python",
   "name": "python",
   "nbconvert_exporter": "python",
   "pygments_lexer": "ipython3",
   "version": "3.9.7"
  }
 },
 "nbformat": 4,
 "nbformat_minor": 5
}
